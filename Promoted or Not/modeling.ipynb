{
 "cells": [
  {
   "cell_type": "code",
   "execution_count": 249,
   "metadata": {},
   "outputs": [],
   "source": [
    "import pandas as pd"
   ]
  },
  {
   "cell_type": "code",
   "execution_count": 250,
   "metadata": {},
   "outputs": [],
   "source": [
    "import numpy as np"
   ]
  },
  {
   "cell_type": "code",
   "execution_count": 33,
   "metadata": {},
   "outputs": [],
   "source": [
    "train=pd.read_csv('train_new.csv')\n",
    "test=pd.read_csv('test_new.csv')"
   ]
  },
  {
   "cell_type": "code",
   "execution_count": 34,
   "metadata": {},
   "outputs": [],
   "source": [
    "pd.set_option('display.max_columns', None)"
   ]
  },
  {
   "cell_type": "code",
   "execution_count": 35,
   "metadata": {},
   "outputs": [
    {
     "data": {
      "text/html": [
       "<div>\n",
       "<style>\n",
       "    .dataframe thead tr:only-child th {\n",
       "        text-align: right;\n",
       "    }\n",
       "\n",
       "    .dataframe thead th {\n",
       "        text-align: left;\n",
       "    }\n",
       "\n",
       "    .dataframe tbody tr th {\n",
       "        vertical-align: top;\n",
       "    }\n",
       "</style>\n",
       "<table border=\"1\" class=\"dataframe\">\n",
       "  <thead>\n",
       "    <tr style=\"text-align: right;\">\n",
       "      <th></th>\n",
       "      <th>Unnamed: 0</th>\n",
       "      <th>no_of_trainings</th>\n",
       "      <th>age</th>\n",
       "      <th>previous_year_rating</th>\n",
       "      <th>length_of_service</th>\n",
       "      <th>KPIs_met &gt;80%</th>\n",
       "      <th>awards_won?</th>\n",
       "      <th>avg_training_score</th>\n",
       "      <th>is_gt_avg_training</th>\n",
       "      <th>is_dept_gt_avg_training</th>\n",
       "      <th>dept_avg_training</th>\n",
       "      <th>training_service_ratio</th>\n",
       "      <th>KPImet_and_Awardwon</th>\n",
       "      <th>score_minus_rating</th>\n",
       "      <th>score/rating</th>\n",
       "      <th>training_score minus dept avg score</th>\n",
       "      <th>rating minus dept avg rating</th>\n",
       "      <th>prob_intra_dept</th>\n",
       "      <th>prob_inter_dept</th>\n",
       "      <th>prob_intra_region</th>\n",
       "      <th>prob_inter_region</th>\n",
       "      <th>prob_intra_gender</th>\n",
       "      <th>prob_inter_gender</th>\n",
       "      <th>prob_intra_recruits</th>\n",
       "      <th>prob_inter_recruits</th>\n",
       "      <th>is_promoted</th>\n",
       "    </tr>\n",
       "  </thead>\n",
       "  <tbody>\n",
       "    <tr>\n",
       "      <th>0</th>\n",
       "      <td>0</td>\n",
       "      <td>1</td>\n",
       "      <td>35</td>\n",
       "      <td>5.0</td>\n",
       "      <td>8</td>\n",
       "      <td>1</td>\n",
       "      <td>0</td>\n",
       "      <td>49</td>\n",
       "      <td>-1</td>\n",
       "      <td>-1</td>\n",
       "      <td>1.274643</td>\n",
       "      <td>0.125000</td>\n",
       "      <td>0</td>\n",
       "      <td>-51.0</td>\n",
       "      <td>0.490000</td>\n",
       "      <td>-1.208487</td>\n",
       "      <td>1.931194</td>\n",
       "      <td>0.072031</td>\n",
       "      <td>0.259854</td>\n",
       "      <td>0.106546</td>\n",
       "      <td>0.110540</td>\n",
       "      <td>0.089934</td>\n",
       "      <td>0.314267</td>\n",
       "      <td>0.085013</td>\n",
       "      <td>0.422879</td>\n",
       "      <td>0</td>\n",
       "    </tr>\n",
       "    <tr>\n",
       "      <th>1</th>\n",
       "      <td>1</td>\n",
       "      <td>1</td>\n",
       "      <td>30</td>\n",
       "      <td>5.0</td>\n",
       "      <td>4</td>\n",
       "      <td>0</td>\n",
       "      <td>0</td>\n",
       "      <td>60</td>\n",
       "      <td>-1</td>\n",
       "      <td>-1</td>\n",
       "      <td>1.164908</td>\n",
       "      <td>0.250000</td>\n",
       "      <td>0</td>\n",
       "      <td>-40.0</td>\n",
       "      <td>0.600000</td>\n",
       "      <td>-0.248572</td>\n",
       "      <td>1.341857</td>\n",
       "      <td>0.090148</td>\n",
       "      <td>0.219152</td>\n",
       "      <td>0.114188</td>\n",
       "      <td>0.157241</td>\n",
       "      <td>0.083151</td>\n",
       "      <td>0.685733</td>\n",
       "      <td>0.083952</td>\n",
       "      <td>0.547558</td>\n",
       "      <td>0</td>\n",
       "    </tr>\n",
       "    <tr>\n",
       "      <th>2</th>\n",
       "      <td>2</td>\n",
       "      <td>1</td>\n",
       "      <td>34</td>\n",
       "      <td>3.0</td>\n",
       "      <td>7</td>\n",
       "      <td>0</td>\n",
       "      <td>0</td>\n",
       "      <td>50</td>\n",
       "      <td>-1</td>\n",
       "      <td>-1</td>\n",
       "      <td>1.274643</td>\n",
       "      <td>0.142857</td>\n",
       "      <td>0</td>\n",
       "      <td>-10.0</td>\n",
       "      <td>0.833333</td>\n",
       "      <td>-0.208487</td>\n",
       "      <td>-0.068806</td>\n",
       "      <td>0.072031</td>\n",
       "      <td>0.259854</td>\n",
       "      <td>0.060641</td>\n",
       "      <td>0.011354</td>\n",
       "      <td>0.083151</td>\n",
       "      <td>0.685733</td>\n",
       "      <td>0.085013</td>\n",
       "      <td>0.422879</td>\n",
       "      <td>0</td>\n",
       "    </tr>\n",
       "    <tr>\n",
       "      <th>3</th>\n",
       "      <td>3</td>\n",
       "      <td>2</td>\n",
       "      <td>39</td>\n",
       "      <td>1.0</td>\n",
       "      <td>10</td>\n",
       "      <td>0</td>\n",
       "      <td>0</td>\n",
       "      <td>50</td>\n",
       "      <td>1</td>\n",
       "      <td>1</td>\n",
       "      <td>1.274643</td>\n",
       "      <td>0.200000</td>\n",
       "      <td>0</td>\n",
       "      <td>30.0</td>\n",
       "      <td>2.500000</td>\n",
       "      <td>-0.208487</td>\n",
       "      <td>-2.068806</td>\n",
       "      <td>0.072031</td>\n",
       "      <td>0.259854</td>\n",
       "      <td>0.116596</td>\n",
       "      <td>0.029349</td>\n",
       "      <td>0.083151</td>\n",
       "      <td>0.685733</td>\n",
       "      <td>0.083952</td>\n",
       "      <td>0.547558</td>\n",
       "      <td>0</td>\n",
       "    </tr>\n",
       "    <tr>\n",
       "      <th>4</th>\n",
       "      <td>4</td>\n",
       "      <td>1</td>\n",
       "      <td>45</td>\n",
       "      <td>3.0</td>\n",
       "      <td>2</td>\n",
       "      <td>0</td>\n",
       "      <td>0</td>\n",
       "      <td>73</td>\n",
       "      <td>-1</td>\n",
       "      <td>-1</td>\n",
       "      <td>1.256380</td>\n",
       "      <td>0.500000</td>\n",
       "      <td>0</td>\n",
       "      <td>13.0</td>\n",
       "      <td>1.216667</td>\n",
       "      <td>-6.908464</td>\n",
       "      <td>-0.144448</td>\n",
       "      <td>0.107593</td>\n",
       "      <td>0.164524</td>\n",
       "      <td>0.063274</td>\n",
       "      <td>0.030634</td>\n",
       "      <td>0.083151</td>\n",
       "      <td>0.685733</td>\n",
       "      <td>0.083952</td>\n",
       "      <td>0.547558</td>\n",
       "      <td>0</td>\n",
       "    </tr>\n",
       "  </tbody>\n",
       "</table>\n",
       "</div>"
      ],
      "text/plain": [
       "   Unnamed: 0  no_of_trainings  age  previous_year_rating  length_of_service  \\\n",
       "0           0                1   35                   5.0                  8   \n",
       "1           1                1   30                   5.0                  4   \n",
       "2           2                1   34                   3.0                  7   \n",
       "3           3                2   39                   1.0                 10   \n",
       "4           4                1   45                   3.0                  2   \n",
       "\n",
       "   KPIs_met >80%  awards_won?  avg_training_score  is_gt_avg_training  \\\n",
       "0              1            0                  49                  -1   \n",
       "1              0            0                  60                  -1   \n",
       "2              0            0                  50                  -1   \n",
       "3              0            0                  50                   1   \n",
       "4              0            0                  73                  -1   \n",
       "\n",
       "   is_dept_gt_avg_training  dept_avg_training  training_service_ratio  \\\n",
       "0                       -1           1.274643                0.125000   \n",
       "1                       -1           1.164908                0.250000   \n",
       "2                       -1           1.274643                0.142857   \n",
       "3                        1           1.274643                0.200000   \n",
       "4                       -1           1.256380                0.500000   \n",
       "\n",
       "   KPImet_and_Awardwon  score_minus_rating  score/rating  \\\n",
       "0                    0               -51.0      0.490000   \n",
       "1                    0               -40.0      0.600000   \n",
       "2                    0               -10.0      0.833333   \n",
       "3                    0                30.0      2.500000   \n",
       "4                    0                13.0      1.216667   \n",
       "\n",
       "   training_score minus dept avg score  rating minus dept avg rating  \\\n",
       "0                            -1.208487                      1.931194   \n",
       "1                            -0.248572                      1.341857   \n",
       "2                            -0.208487                     -0.068806   \n",
       "3                            -0.208487                     -2.068806   \n",
       "4                            -6.908464                     -0.144448   \n",
       "\n",
       "   prob_intra_dept  prob_inter_dept  prob_intra_region  prob_inter_region  \\\n",
       "0         0.072031         0.259854           0.106546           0.110540   \n",
       "1         0.090148         0.219152           0.114188           0.157241   \n",
       "2         0.072031         0.259854           0.060641           0.011354   \n",
       "3         0.072031         0.259854           0.116596           0.029349   \n",
       "4         0.107593         0.164524           0.063274           0.030634   \n",
       "\n",
       "   prob_intra_gender  prob_inter_gender  prob_intra_recruits  \\\n",
       "0           0.089934           0.314267             0.085013   \n",
       "1           0.083151           0.685733             0.083952   \n",
       "2           0.083151           0.685733             0.085013   \n",
       "3           0.083151           0.685733             0.083952   \n",
       "4           0.083151           0.685733             0.083952   \n",
       "\n",
       "   prob_inter_recruits  is_promoted  \n",
       "0             0.422879            0  \n",
       "1             0.547558            0  \n",
       "2             0.422879            0  \n",
       "3             0.547558            0  \n",
       "4             0.547558            0  "
      ]
     },
     "execution_count": 35,
     "metadata": {},
     "output_type": "execute_result"
    }
   ],
   "source": [
    "train.head()"
   ]
  },
  {
   "cell_type": "code",
   "execution_count": 36,
   "metadata": {},
   "outputs": [
    {
     "data": {
      "text/html": [
       "<div>\n",
       "<style>\n",
       "    .dataframe thead tr:only-child th {\n",
       "        text-align: right;\n",
       "    }\n",
       "\n",
       "    .dataframe thead th {\n",
       "        text-align: left;\n",
       "    }\n",
       "\n",
       "    .dataframe tbody tr th {\n",
       "        vertical-align: top;\n",
       "    }\n",
       "</style>\n",
       "<table border=\"1\" class=\"dataframe\">\n",
       "  <thead>\n",
       "    <tr style=\"text-align: right;\">\n",
       "      <th></th>\n",
       "      <th>no_of_trainings</th>\n",
       "      <th>age</th>\n",
       "      <th>previous_year_rating</th>\n",
       "      <th>length_of_service</th>\n",
       "      <th>KPIs_met &gt;80%</th>\n",
       "      <th>awards_won?</th>\n",
       "      <th>avg_training_score</th>\n",
       "      <th>is_gt_avg_training</th>\n",
       "      <th>is_dept_gt_avg_training</th>\n",
       "      <th>dept_avg_training</th>\n",
       "      <th>training_service_ratio</th>\n",
       "      <th>KPImet_and_Awardwon</th>\n",
       "      <th>score_minus_rating</th>\n",
       "      <th>score/rating</th>\n",
       "      <th>training_score minus dept avg score</th>\n",
       "      <th>rating minus dept avg rating</th>\n",
       "      <th>prob_intra_dept</th>\n",
       "      <th>prob_inter_dept</th>\n",
       "      <th>prob_intra_region</th>\n",
       "      <th>prob_inter_region</th>\n",
       "      <th>prob_intra_gender</th>\n",
       "      <th>prob_inter_gender</th>\n",
       "      <th>prob_intra_recruits</th>\n",
       "      <th>prob_inter_recruits</th>\n",
       "      <th>is_promoted</th>\n",
       "    </tr>\n",
       "  </thead>\n",
       "  <tbody>\n",
       "    <tr>\n",
       "      <th>0</th>\n",
       "      <td>1</td>\n",
       "      <td>35</td>\n",
       "      <td>5.0</td>\n",
       "      <td>8</td>\n",
       "      <td>1</td>\n",
       "      <td>0</td>\n",
       "      <td>49</td>\n",
       "      <td>-1</td>\n",
       "      <td>-1</td>\n",
       "      <td>1.274643</td>\n",
       "      <td>0.125000</td>\n",
       "      <td>0</td>\n",
       "      <td>-51.0</td>\n",
       "      <td>0.490000</td>\n",
       "      <td>-1.208487</td>\n",
       "      <td>1.931194</td>\n",
       "      <td>0.072031</td>\n",
       "      <td>0.259854</td>\n",
       "      <td>0.106546</td>\n",
       "      <td>0.110540</td>\n",
       "      <td>0.089934</td>\n",
       "      <td>0.314267</td>\n",
       "      <td>0.085013</td>\n",
       "      <td>0.422879</td>\n",
       "      <td>0</td>\n",
       "    </tr>\n",
       "    <tr>\n",
       "      <th>1</th>\n",
       "      <td>1</td>\n",
       "      <td>30</td>\n",
       "      <td>5.0</td>\n",
       "      <td>4</td>\n",
       "      <td>0</td>\n",
       "      <td>0</td>\n",
       "      <td>60</td>\n",
       "      <td>-1</td>\n",
       "      <td>-1</td>\n",
       "      <td>1.164908</td>\n",
       "      <td>0.250000</td>\n",
       "      <td>0</td>\n",
       "      <td>-40.0</td>\n",
       "      <td>0.600000</td>\n",
       "      <td>-0.248572</td>\n",
       "      <td>1.341857</td>\n",
       "      <td>0.090148</td>\n",
       "      <td>0.219152</td>\n",
       "      <td>0.114188</td>\n",
       "      <td>0.157241</td>\n",
       "      <td>0.083151</td>\n",
       "      <td>0.685733</td>\n",
       "      <td>0.083952</td>\n",
       "      <td>0.547558</td>\n",
       "      <td>0</td>\n",
       "    </tr>\n",
       "    <tr>\n",
       "      <th>2</th>\n",
       "      <td>1</td>\n",
       "      <td>34</td>\n",
       "      <td>3.0</td>\n",
       "      <td>7</td>\n",
       "      <td>0</td>\n",
       "      <td>0</td>\n",
       "      <td>50</td>\n",
       "      <td>-1</td>\n",
       "      <td>-1</td>\n",
       "      <td>1.274643</td>\n",
       "      <td>0.142857</td>\n",
       "      <td>0</td>\n",
       "      <td>-10.0</td>\n",
       "      <td>0.833333</td>\n",
       "      <td>-0.208487</td>\n",
       "      <td>-0.068806</td>\n",
       "      <td>0.072031</td>\n",
       "      <td>0.259854</td>\n",
       "      <td>0.060641</td>\n",
       "      <td>0.011354</td>\n",
       "      <td>0.083151</td>\n",
       "      <td>0.685733</td>\n",
       "      <td>0.085013</td>\n",
       "      <td>0.422879</td>\n",
       "      <td>0</td>\n",
       "    </tr>\n",
       "    <tr>\n",
       "      <th>3</th>\n",
       "      <td>2</td>\n",
       "      <td>39</td>\n",
       "      <td>1.0</td>\n",
       "      <td>10</td>\n",
       "      <td>0</td>\n",
       "      <td>0</td>\n",
       "      <td>50</td>\n",
       "      <td>1</td>\n",
       "      <td>1</td>\n",
       "      <td>1.274643</td>\n",
       "      <td>0.200000</td>\n",
       "      <td>0</td>\n",
       "      <td>30.0</td>\n",
       "      <td>2.500000</td>\n",
       "      <td>-0.208487</td>\n",
       "      <td>-2.068806</td>\n",
       "      <td>0.072031</td>\n",
       "      <td>0.259854</td>\n",
       "      <td>0.116596</td>\n",
       "      <td>0.029349</td>\n",
       "      <td>0.083151</td>\n",
       "      <td>0.685733</td>\n",
       "      <td>0.083952</td>\n",
       "      <td>0.547558</td>\n",
       "      <td>0</td>\n",
       "    </tr>\n",
       "    <tr>\n",
       "      <th>4</th>\n",
       "      <td>1</td>\n",
       "      <td>45</td>\n",
       "      <td>3.0</td>\n",
       "      <td>2</td>\n",
       "      <td>0</td>\n",
       "      <td>0</td>\n",
       "      <td>73</td>\n",
       "      <td>-1</td>\n",
       "      <td>-1</td>\n",
       "      <td>1.256380</td>\n",
       "      <td>0.500000</td>\n",
       "      <td>0</td>\n",
       "      <td>13.0</td>\n",
       "      <td>1.216667</td>\n",
       "      <td>-6.908464</td>\n",
       "      <td>-0.144448</td>\n",
       "      <td>0.107593</td>\n",
       "      <td>0.164524</td>\n",
       "      <td>0.063274</td>\n",
       "      <td>0.030634</td>\n",
       "      <td>0.083151</td>\n",
       "      <td>0.685733</td>\n",
       "      <td>0.083952</td>\n",
       "      <td>0.547558</td>\n",
       "      <td>0</td>\n",
       "    </tr>\n",
       "  </tbody>\n",
       "</table>\n",
       "</div>"
      ],
      "text/plain": [
       "   no_of_trainings  age  previous_year_rating  length_of_service  \\\n",
       "0                1   35                   5.0                  8   \n",
       "1                1   30                   5.0                  4   \n",
       "2                1   34                   3.0                  7   \n",
       "3                2   39                   1.0                 10   \n",
       "4                1   45                   3.0                  2   \n",
       "\n",
       "   KPIs_met >80%  awards_won?  avg_training_score  is_gt_avg_training  \\\n",
       "0              1            0                  49                  -1   \n",
       "1              0            0                  60                  -1   \n",
       "2              0            0                  50                  -1   \n",
       "3              0            0                  50                   1   \n",
       "4              0            0                  73                  -1   \n",
       "\n",
       "   is_dept_gt_avg_training  dept_avg_training  training_service_ratio  \\\n",
       "0                       -1           1.274643                0.125000   \n",
       "1                       -1           1.164908                0.250000   \n",
       "2                       -1           1.274643                0.142857   \n",
       "3                        1           1.274643                0.200000   \n",
       "4                       -1           1.256380                0.500000   \n",
       "\n",
       "   KPImet_and_Awardwon  score_minus_rating  score/rating  \\\n",
       "0                    0               -51.0      0.490000   \n",
       "1                    0               -40.0      0.600000   \n",
       "2                    0               -10.0      0.833333   \n",
       "3                    0                30.0      2.500000   \n",
       "4                    0                13.0      1.216667   \n",
       "\n",
       "   training_score minus dept avg score  rating minus dept avg rating  \\\n",
       "0                            -1.208487                      1.931194   \n",
       "1                            -0.248572                      1.341857   \n",
       "2                            -0.208487                     -0.068806   \n",
       "3                            -0.208487                     -2.068806   \n",
       "4                            -6.908464                     -0.144448   \n",
       "\n",
       "   prob_intra_dept  prob_inter_dept  prob_intra_region  prob_inter_region  \\\n",
       "0         0.072031         0.259854           0.106546           0.110540   \n",
       "1         0.090148         0.219152           0.114188           0.157241   \n",
       "2         0.072031         0.259854           0.060641           0.011354   \n",
       "3         0.072031         0.259854           0.116596           0.029349   \n",
       "4         0.107593         0.164524           0.063274           0.030634   \n",
       "\n",
       "   prob_intra_gender  prob_inter_gender  prob_intra_recruits  \\\n",
       "0           0.089934           0.314267             0.085013   \n",
       "1           0.083151           0.685733             0.083952   \n",
       "2           0.083151           0.685733             0.085013   \n",
       "3           0.083151           0.685733             0.083952   \n",
       "4           0.083151           0.685733             0.083952   \n",
       "\n",
       "   prob_inter_recruits  is_promoted  \n",
       "0             0.422879            0  \n",
       "1             0.547558            0  \n",
       "2             0.422879            0  \n",
       "3             0.547558            0  \n",
       "4             0.547558            0  "
      ]
     },
     "execution_count": 36,
     "metadata": {},
     "output_type": "execute_result"
    }
   ],
   "source": [
    "train.drop('Unnamed: 0',axis=1,inplace=True)\n",
    "train.head()"
   ]
  },
  {
   "cell_type": "code",
   "execution_count": 37,
   "metadata": {},
   "outputs": [
    {
     "data": {
      "text/html": [
       "<div>\n",
       "<style>\n",
       "    .dataframe thead tr:only-child th {\n",
       "        text-align: right;\n",
       "    }\n",
       "\n",
       "    .dataframe thead th {\n",
       "        text-align: left;\n",
       "    }\n",
       "\n",
       "    .dataframe tbody tr th {\n",
       "        vertical-align: top;\n",
       "    }\n",
       "</style>\n",
       "<table border=\"1\" class=\"dataframe\">\n",
       "  <thead>\n",
       "    <tr style=\"text-align: right;\">\n",
       "      <th></th>\n",
       "      <th>Unnamed: 0</th>\n",
       "      <th>no_of_trainings</th>\n",
       "      <th>age</th>\n",
       "      <th>previous_year_rating</th>\n",
       "      <th>length_of_service</th>\n",
       "      <th>KPIs_met &gt;80%</th>\n",
       "      <th>awards_won?</th>\n",
       "      <th>avg_training_score</th>\n",
       "      <th>is_gt_avg_training</th>\n",
       "      <th>is_dept_gt_avg_training</th>\n",
       "      <th>dept_avg_training</th>\n",
       "      <th>training_service_ratio</th>\n",
       "      <th>KPImet_and_Awardwon</th>\n",
       "      <th>score_minus_rating</th>\n",
       "      <th>score/rating</th>\n",
       "      <th>training_score minus dept avg score</th>\n",
       "      <th>rating minus dept avg rating</th>\n",
       "      <th>prob_intra_dept</th>\n",
       "      <th>prob_inter_dept</th>\n",
       "      <th>prob_intra_region</th>\n",
       "      <th>prob_inter_region</th>\n",
       "      <th>prob_intra_gender</th>\n",
       "      <th>prob_inter_gender</th>\n",
       "      <th>prob_intra_recruits</th>\n",
       "      <th>prob_inter_recruits</th>\n",
       "    </tr>\n",
       "  </thead>\n",
       "  <tbody>\n",
       "    <tr>\n",
       "      <th>0</th>\n",
       "      <td>0</td>\n",
       "      <td>1</td>\n",
       "      <td>24</td>\n",
       "      <td>3.0</td>\n",
       "      <td>1</td>\n",
       "      <td>1</td>\n",
       "      <td>0</td>\n",
       "      <td>77</td>\n",
       "      <td>-1</td>\n",
       "      <td>-1</td>\n",
       "      <td>1.256380</td>\n",
       "      <td>1.000000</td>\n",
       "      <td>0</td>\n",
       "      <td>17.0</td>\n",
       "      <td>1.283333</td>\n",
       "      <td>-2.908464</td>\n",
       "      <td>-0.144448</td>\n",
       "      <td>0.107593</td>\n",
       "      <td>0.164524</td>\n",
       "      <td>0.063274</td>\n",
       "      <td>0.030634</td>\n",
       "      <td>0.083151</td>\n",
       "      <td>0.685733</td>\n",
       "      <td>0.085013</td>\n",
       "      <td>0.422879</td>\n",
       "    </tr>\n",
       "    <tr>\n",
       "      <th>1</th>\n",
       "      <td>1</td>\n",
       "      <td>1</td>\n",
       "      <td>31</td>\n",
       "      <td>3.0</td>\n",
       "      <td>5</td>\n",
       "      <td>0</td>\n",
       "      <td>0</td>\n",
       "      <td>51</td>\n",
       "      <td>-1</td>\n",
       "      <td>-1</td>\n",
       "      <td>1.057379</td>\n",
       "      <td>0.200000</td>\n",
       "      <td>0</td>\n",
       "      <td>-9.0</td>\n",
       "      <td>0.850000</td>\n",
       "      <td>0.892663</td>\n",
       "      <td>-0.447331</td>\n",
       "      <td>0.056245</td>\n",
       "      <td>0.029135</td>\n",
       "      <td>0.144451</td>\n",
       "      <td>0.052699</td>\n",
       "      <td>0.089934</td>\n",
       "      <td>0.314267</td>\n",
       "      <td>0.083952</td>\n",
       "      <td>0.547558</td>\n",
       "    </tr>\n",
       "    <tr>\n",
       "      <th>2</th>\n",
       "      <td>2</td>\n",
       "      <td>1</td>\n",
       "      <td>31</td>\n",
       "      <td>1.0</td>\n",
       "      <td>4</td>\n",
       "      <td>0</td>\n",
       "      <td>0</td>\n",
       "      <td>47</td>\n",
       "      <td>-1</td>\n",
       "      <td>-1</td>\n",
       "      <td>1.274643</td>\n",
       "      <td>0.250000</td>\n",
       "      <td>0</td>\n",
       "      <td>27.0</td>\n",
       "      <td>2.350000</td>\n",
       "      <td>-3.208487</td>\n",
       "      <td>-2.068806</td>\n",
       "      <td>0.072031</td>\n",
       "      <td>0.259854</td>\n",
       "      <td>0.086858</td>\n",
       "      <td>0.049272</td>\n",
       "      <td>0.083151</td>\n",
       "      <td>0.685733</td>\n",
       "      <td>0.083952</td>\n",
       "      <td>0.547558</td>\n",
       "    </tr>\n",
       "    <tr>\n",
       "      <th>3</th>\n",
       "      <td>3</td>\n",
       "      <td>3</td>\n",
       "      <td>31</td>\n",
       "      <td>2.0</td>\n",
       "      <td>9</td>\n",
       "      <td>0</td>\n",
       "      <td>0</td>\n",
       "      <td>65</td>\n",
       "      <td>1</td>\n",
       "      <td>1</td>\n",
       "      <td>1.328017</td>\n",
       "      <td>0.333333</td>\n",
       "      <td>0</td>\n",
       "      <td>25.0</td>\n",
       "      <td>1.625000</td>\n",
       "      <td>-5.129455</td>\n",
       "      <td>-1.271116</td>\n",
       "      <td>0.096386</td>\n",
       "      <td>0.147386</td>\n",
       "      <td>0.080126</td>\n",
       "      <td>0.211868</td>\n",
       "      <td>0.089934</td>\n",
       "      <td>0.314267</td>\n",
       "      <td>0.083952</td>\n",
       "      <td>0.547558</td>\n",
       "    </tr>\n",
       "    <tr>\n",
       "      <th>4</th>\n",
       "      <td>4</td>\n",
       "      <td>1</td>\n",
       "      <td>30</td>\n",
       "      <td>4.0</td>\n",
       "      <td>7</td>\n",
       "      <td>0</td>\n",
       "      <td>0</td>\n",
       "      <td>61</td>\n",
       "      <td>-1</td>\n",
       "      <td>-1</td>\n",
       "      <td>1.306865</td>\n",
       "      <td>0.142857</td>\n",
       "      <td>0</td>\n",
       "      <td>-19.0</td>\n",
       "      <td>0.762500</td>\n",
       "      <td>0.747725</td>\n",
       "      <td>0.539289</td>\n",
       "      <td>0.081230</td>\n",
       "      <td>0.044130</td>\n",
       "      <td>0.043260</td>\n",
       "      <td>0.009212</td>\n",
       "      <td>0.083151</td>\n",
       "      <td>0.685733</td>\n",
       "      <td>0.085013</td>\n",
       "      <td>0.422879</td>\n",
       "    </tr>\n",
       "  </tbody>\n",
       "</table>\n",
       "</div>"
      ],
      "text/plain": [
       "   Unnamed: 0  no_of_trainings  age  previous_year_rating  length_of_service  \\\n",
       "0           0                1   24                   3.0                  1   \n",
       "1           1                1   31                   3.0                  5   \n",
       "2           2                1   31                   1.0                  4   \n",
       "3           3                3   31                   2.0                  9   \n",
       "4           4                1   30                   4.0                  7   \n",
       "\n",
       "   KPIs_met >80%  awards_won?  avg_training_score  is_gt_avg_training  \\\n",
       "0              1            0                  77                  -1   \n",
       "1              0            0                  51                  -1   \n",
       "2              0            0                  47                  -1   \n",
       "3              0            0                  65                   1   \n",
       "4              0            0                  61                  -1   \n",
       "\n",
       "   is_dept_gt_avg_training  dept_avg_training  training_service_ratio  \\\n",
       "0                       -1           1.256380                1.000000   \n",
       "1                       -1           1.057379                0.200000   \n",
       "2                       -1           1.274643                0.250000   \n",
       "3                        1           1.328017                0.333333   \n",
       "4                       -1           1.306865                0.142857   \n",
       "\n",
       "   KPImet_and_Awardwon  score_minus_rating  score/rating  \\\n",
       "0                    0                17.0      1.283333   \n",
       "1                    0                -9.0      0.850000   \n",
       "2                    0                27.0      2.350000   \n",
       "3                    0                25.0      1.625000   \n",
       "4                    0               -19.0      0.762500   \n",
       "\n",
       "   training_score minus dept avg score  rating minus dept avg rating  \\\n",
       "0                            -2.908464                     -0.144448   \n",
       "1                             0.892663                     -0.447331   \n",
       "2                            -3.208487                     -2.068806   \n",
       "3                            -5.129455                     -1.271116   \n",
       "4                             0.747725                      0.539289   \n",
       "\n",
       "   prob_intra_dept  prob_inter_dept  prob_intra_region  prob_inter_region  \\\n",
       "0         0.107593         0.164524           0.063274           0.030634   \n",
       "1         0.056245         0.029135           0.144451           0.052699   \n",
       "2         0.072031         0.259854           0.086858           0.049272   \n",
       "3         0.096386         0.147386           0.080126           0.211868   \n",
       "4         0.081230         0.044130           0.043260           0.009212   \n",
       "\n",
       "   prob_intra_gender  prob_inter_gender  prob_intra_recruits  \\\n",
       "0           0.083151           0.685733             0.085013   \n",
       "1           0.089934           0.314267             0.083952   \n",
       "2           0.083151           0.685733             0.083952   \n",
       "3           0.089934           0.314267             0.083952   \n",
       "4           0.083151           0.685733             0.085013   \n",
       "\n",
       "   prob_inter_recruits  \n",
       "0             0.422879  \n",
       "1             0.547558  \n",
       "2             0.547558  \n",
       "3             0.547558  \n",
       "4             0.422879  "
      ]
     },
     "execution_count": 37,
     "metadata": {},
     "output_type": "execute_result"
    }
   ],
   "source": [
    "test.head()"
   ]
  },
  {
   "cell_type": "code",
   "execution_count": 38,
   "metadata": {},
   "outputs": [
    {
     "data": {
      "text/html": [
       "<div>\n",
       "<style>\n",
       "    .dataframe thead tr:only-child th {\n",
       "        text-align: right;\n",
       "    }\n",
       "\n",
       "    .dataframe thead th {\n",
       "        text-align: left;\n",
       "    }\n",
       "\n",
       "    .dataframe tbody tr th {\n",
       "        vertical-align: top;\n",
       "    }\n",
       "</style>\n",
       "<table border=\"1\" class=\"dataframe\">\n",
       "  <thead>\n",
       "    <tr style=\"text-align: right;\">\n",
       "      <th></th>\n",
       "      <th>no_of_trainings</th>\n",
       "      <th>age</th>\n",
       "      <th>previous_year_rating</th>\n",
       "      <th>length_of_service</th>\n",
       "      <th>KPIs_met &gt;80%</th>\n",
       "      <th>awards_won?</th>\n",
       "      <th>avg_training_score</th>\n",
       "      <th>is_gt_avg_training</th>\n",
       "      <th>is_dept_gt_avg_training</th>\n",
       "      <th>dept_avg_training</th>\n",
       "      <th>training_service_ratio</th>\n",
       "      <th>KPImet_and_Awardwon</th>\n",
       "      <th>score_minus_rating</th>\n",
       "      <th>score/rating</th>\n",
       "      <th>training_score minus dept avg score</th>\n",
       "      <th>rating minus dept avg rating</th>\n",
       "      <th>prob_intra_dept</th>\n",
       "      <th>prob_inter_dept</th>\n",
       "      <th>prob_intra_region</th>\n",
       "      <th>prob_inter_region</th>\n",
       "      <th>prob_intra_gender</th>\n",
       "      <th>prob_inter_gender</th>\n",
       "      <th>prob_intra_recruits</th>\n",
       "      <th>prob_inter_recruits</th>\n",
       "    </tr>\n",
       "  </thead>\n",
       "  <tbody>\n",
       "    <tr>\n",
       "      <th>0</th>\n",
       "      <td>1</td>\n",
       "      <td>24</td>\n",
       "      <td>3.0</td>\n",
       "      <td>1</td>\n",
       "      <td>1</td>\n",
       "      <td>0</td>\n",
       "      <td>77</td>\n",
       "      <td>-1</td>\n",
       "      <td>-1</td>\n",
       "      <td>1.256380</td>\n",
       "      <td>1.000000</td>\n",
       "      <td>0</td>\n",
       "      <td>17.0</td>\n",
       "      <td>1.283333</td>\n",
       "      <td>-2.908464</td>\n",
       "      <td>-0.144448</td>\n",
       "      <td>0.107593</td>\n",
       "      <td>0.164524</td>\n",
       "      <td>0.063274</td>\n",
       "      <td>0.030634</td>\n",
       "      <td>0.083151</td>\n",
       "      <td>0.685733</td>\n",
       "      <td>0.085013</td>\n",
       "      <td>0.422879</td>\n",
       "    </tr>\n",
       "    <tr>\n",
       "      <th>1</th>\n",
       "      <td>1</td>\n",
       "      <td>31</td>\n",
       "      <td>3.0</td>\n",
       "      <td>5</td>\n",
       "      <td>0</td>\n",
       "      <td>0</td>\n",
       "      <td>51</td>\n",
       "      <td>-1</td>\n",
       "      <td>-1</td>\n",
       "      <td>1.057379</td>\n",
       "      <td>0.200000</td>\n",
       "      <td>0</td>\n",
       "      <td>-9.0</td>\n",
       "      <td>0.850000</td>\n",
       "      <td>0.892663</td>\n",
       "      <td>-0.447331</td>\n",
       "      <td>0.056245</td>\n",
       "      <td>0.029135</td>\n",
       "      <td>0.144451</td>\n",
       "      <td>0.052699</td>\n",
       "      <td>0.089934</td>\n",
       "      <td>0.314267</td>\n",
       "      <td>0.083952</td>\n",
       "      <td>0.547558</td>\n",
       "    </tr>\n",
       "    <tr>\n",
       "      <th>2</th>\n",
       "      <td>1</td>\n",
       "      <td>31</td>\n",
       "      <td>1.0</td>\n",
       "      <td>4</td>\n",
       "      <td>0</td>\n",
       "      <td>0</td>\n",
       "      <td>47</td>\n",
       "      <td>-1</td>\n",
       "      <td>-1</td>\n",
       "      <td>1.274643</td>\n",
       "      <td>0.250000</td>\n",
       "      <td>0</td>\n",
       "      <td>27.0</td>\n",
       "      <td>2.350000</td>\n",
       "      <td>-3.208487</td>\n",
       "      <td>-2.068806</td>\n",
       "      <td>0.072031</td>\n",
       "      <td>0.259854</td>\n",
       "      <td>0.086858</td>\n",
       "      <td>0.049272</td>\n",
       "      <td>0.083151</td>\n",
       "      <td>0.685733</td>\n",
       "      <td>0.083952</td>\n",
       "      <td>0.547558</td>\n",
       "    </tr>\n",
       "    <tr>\n",
       "      <th>3</th>\n",
       "      <td>3</td>\n",
       "      <td>31</td>\n",
       "      <td>2.0</td>\n",
       "      <td>9</td>\n",
       "      <td>0</td>\n",
       "      <td>0</td>\n",
       "      <td>65</td>\n",
       "      <td>1</td>\n",
       "      <td>1</td>\n",
       "      <td>1.328017</td>\n",
       "      <td>0.333333</td>\n",
       "      <td>0</td>\n",
       "      <td>25.0</td>\n",
       "      <td>1.625000</td>\n",
       "      <td>-5.129455</td>\n",
       "      <td>-1.271116</td>\n",
       "      <td>0.096386</td>\n",
       "      <td>0.147386</td>\n",
       "      <td>0.080126</td>\n",
       "      <td>0.211868</td>\n",
       "      <td>0.089934</td>\n",
       "      <td>0.314267</td>\n",
       "      <td>0.083952</td>\n",
       "      <td>0.547558</td>\n",
       "    </tr>\n",
       "    <tr>\n",
       "      <th>4</th>\n",
       "      <td>1</td>\n",
       "      <td>30</td>\n",
       "      <td>4.0</td>\n",
       "      <td>7</td>\n",
       "      <td>0</td>\n",
       "      <td>0</td>\n",
       "      <td>61</td>\n",
       "      <td>-1</td>\n",
       "      <td>-1</td>\n",
       "      <td>1.306865</td>\n",
       "      <td>0.142857</td>\n",
       "      <td>0</td>\n",
       "      <td>-19.0</td>\n",
       "      <td>0.762500</td>\n",
       "      <td>0.747725</td>\n",
       "      <td>0.539289</td>\n",
       "      <td>0.081230</td>\n",
       "      <td>0.044130</td>\n",
       "      <td>0.043260</td>\n",
       "      <td>0.009212</td>\n",
       "      <td>0.083151</td>\n",
       "      <td>0.685733</td>\n",
       "      <td>0.085013</td>\n",
       "      <td>0.422879</td>\n",
       "    </tr>\n",
       "  </tbody>\n",
       "</table>\n",
       "</div>"
      ],
      "text/plain": [
       "   no_of_trainings  age  previous_year_rating  length_of_service  \\\n",
       "0                1   24                   3.0                  1   \n",
       "1                1   31                   3.0                  5   \n",
       "2                1   31                   1.0                  4   \n",
       "3                3   31                   2.0                  9   \n",
       "4                1   30                   4.0                  7   \n",
       "\n",
       "   KPIs_met >80%  awards_won?  avg_training_score  is_gt_avg_training  \\\n",
       "0              1            0                  77                  -1   \n",
       "1              0            0                  51                  -1   \n",
       "2              0            0                  47                  -1   \n",
       "3              0            0                  65                   1   \n",
       "4              0            0                  61                  -1   \n",
       "\n",
       "   is_dept_gt_avg_training  dept_avg_training  training_service_ratio  \\\n",
       "0                       -1           1.256380                1.000000   \n",
       "1                       -1           1.057379                0.200000   \n",
       "2                       -1           1.274643                0.250000   \n",
       "3                        1           1.328017                0.333333   \n",
       "4                       -1           1.306865                0.142857   \n",
       "\n",
       "   KPImet_and_Awardwon  score_minus_rating  score/rating  \\\n",
       "0                    0                17.0      1.283333   \n",
       "1                    0                -9.0      0.850000   \n",
       "2                    0                27.0      2.350000   \n",
       "3                    0                25.0      1.625000   \n",
       "4                    0               -19.0      0.762500   \n",
       "\n",
       "   training_score minus dept avg score  rating minus dept avg rating  \\\n",
       "0                            -2.908464                     -0.144448   \n",
       "1                             0.892663                     -0.447331   \n",
       "2                            -3.208487                     -2.068806   \n",
       "3                            -5.129455                     -1.271116   \n",
       "4                             0.747725                      0.539289   \n",
       "\n",
       "   prob_intra_dept  prob_inter_dept  prob_intra_region  prob_inter_region  \\\n",
       "0         0.107593         0.164524           0.063274           0.030634   \n",
       "1         0.056245         0.029135           0.144451           0.052699   \n",
       "2         0.072031         0.259854           0.086858           0.049272   \n",
       "3         0.096386         0.147386           0.080126           0.211868   \n",
       "4         0.081230         0.044130           0.043260           0.009212   \n",
       "\n",
       "   prob_intra_gender  prob_inter_gender  prob_intra_recruits  \\\n",
       "0           0.083151           0.685733             0.085013   \n",
       "1           0.089934           0.314267             0.083952   \n",
       "2           0.083151           0.685733             0.083952   \n",
       "3           0.089934           0.314267             0.083952   \n",
       "4           0.083151           0.685733             0.085013   \n",
       "\n",
       "   prob_inter_recruits  \n",
       "0             0.422879  \n",
       "1             0.547558  \n",
       "2             0.547558  \n",
       "3             0.547558  \n",
       "4             0.422879  "
      ]
     },
     "execution_count": 38,
     "metadata": {},
     "output_type": "execute_result"
    }
   ],
   "source": [
    "test.drop('Unnamed: 0',axis=1,inplace=True)\n",
    "test.head()"
   ]
  },
  {
   "cell_type": "code",
   "execution_count": 39,
   "metadata": {},
   "outputs": [],
   "source": [
    "is_promoted=train.is_promoted"
   ]
  },
  {
   "cell_type": "code",
   "execution_count": 40,
   "metadata": {},
   "outputs": [],
   "source": [
    "train.drop('is_promoted',axis=1,inplace=True)"
   ]
  },
  {
   "cell_type": "code",
   "execution_count": 41,
   "metadata": {},
   "outputs": [
    {
     "data": {
      "text/html": [
       "<div>\n",
       "<style>\n",
       "    .dataframe thead tr:only-child th {\n",
       "        text-align: right;\n",
       "    }\n",
       "\n",
       "    .dataframe thead th {\n",
       "        text-align: left;\n",
       "    }\n",
       "\n",
       "    .dataframe tbody tr th {\n",
       "        vertical-align: top;\n",
       "    }\n",
       "</style>\n",
       "<table border=\"1\" class=\"dataframe\">\n",
       "  <thead>\n",
       "    <tr style=\"text-align: right;\">\n",
       "      <th></th>\n",
       "      <th>no_of_trainings</th>\n",
       "      <th>age</th>\n",
       "      <th>previous_year_rating</th>\n",
       "      <th>length_of_service</th>\n",
       "      <th>KPIs_met &gt;80%</th>\n",
       "      <th>awards_won?</th>\n",
       "      <th>avg_training_score</th>\n",
       "      <th>is_gt_avg_training</th>\n",
       "      <th>is_dept_gt_avg_training</th>\n",
       "      <th>dept_avg_training</th>\n",
       "      <th>training_service_ratio</th>\n",
       "      <th>KPImet_and_Awardwon</th>\n",
       "      <th>score_minus_rating</th>\n",
       "      <th>score/rating</th>\n",
       "      <th>training_score minus dept avg score</th>\n",
       "      <th>rating minus dept avg rating</th>\n",
       "      <th>prob_intra_dept</th>\n",
       "      <th>prob_inter_dept</th>\n",
       "      <th>prob_intra_region</th>\n",
       "      <th>prob_inter_region</th>\n",
       "      <th>prob_intra_gender</th>\n",
       "      <th>prob_inter_gender</th>\n",
       "      <th>prob_intra_recruits</th>\n",
       "      <th>prob_inter_recruits</th>\n",
       "    </tr>\n",
       "  </thead>\n",
       "  <tbody>\n",
       "    <tr>\n",
       "      <th>0</th>\n",
       "      <td>1</td>\n",
       "      <td>35</td>\n",
       "      <td>5.0</td>\n",
       "      <td>8</td>\n",
       "      <td>1</td>\n",
       "      <td>0</td>\n",
       "      <td>49</td>\n",
       "      <td>-1</td>\n",
       "      <td>-1</td>\n",
       "      <td>1.274643</td>\n",
       "      <td>0.125000</td>\n",
       "      <td>0</td>\n",
       "      <td>-51.0</td>\n",
       "      <td>0.490000</td>\n",
       "      <td>-1.208487</td>\n",
       "      <td>1.931194</td>\n",
       "      <td>0.072031</td>\n",
       "      <td>0.259854</td>\n",
       "      <td>0.106546</td>\n",
       "      <td>0.110540</td>\n",
       "      <td>0.089934</td>\n",
       "      <td>0.314267</td>\n",
       "      <td>0.085013</td>\n",
       "      <td>0.422879</td>\n",
       "    </tr>\n",
       "    <tr>\n",
       "      <th>1</th>\n",
       "      <td>1</td>\n",
       "      <td>30</td>\n",
       "      <td>5.0</td>\n",
       "      <td>4</td>\n",
       "      <td>0</td>\n",
       "      <td>0</td>\n",
       "      <td>60</td>\n",
       "      <td>-1</td>\n",
       "      <td>-1</td>\n",
       "      <td>1.164908</td>\n",
       "      <td>0.250000</td>\n",
       "      <td>0</td>\n",
       "      <td>-40.0</td>\n",
       "      <td>0.600000</td>\n",
       "      <td>-0.248572</td>\n",
       "      <td>1.341857</td>\n",
       "      <td>0.090148</td>\n",
       "      <td>0.219152</td>\n",
       "      <td>0.114188</td>\n",
       "      <td>0.157241</td>\n",
       "      <td>0.083151</td>\n",
       "      <td>0.685733</td>\n",
       "      <td>0.083952</td>\n",
       "      <td>0.547558</td>\n",
       "    </tr>\n",
       "    <tr>\n",
       "      <th>2</th>\n",
       "      <td>1</td>\n",
       "      <td>34</td>\n",
       "      <td>3.0</td>\n",
       "      <td>7</td>\n",
       "      <td>0</td>\n",
       "      <td>0</td>\n",
       "      <td>50</td>\n",
       "      <td>-1</td>\n",
       "      <td>-1</td>\n",
       "      <td>1.274643</td>\n",
       "      <td>0.142857</td>\n",
       "      <td>0</td>\n",
       "      <td>-10.0</td>\n",
       "      <td>0.833333</td>\n",
       "      <td>-0.208487</td>\n",
       "      <td>-0.068806</td>\n",
       "      <td>0.072031</td>\n",
       "      <td>0.259854</td>\n",
       "      <td>0.060641</td>\n",
       "      <td>0.011354</td>\n",
       "      <td>0.083151</td>\n",
       "      <td>0.685733</td>\n",
       "      <td>0.085013</td>\n",
       "      <td>0.422879</td>\n",
       "    </tr>\n",
       "    <tr>\n",
       "      <th>3</th>\n",
       "      <td>2</td>\n",
       "      <td>39</td>\n",
       "      <td>1.0</td>\n",
       "      <td>10</td>\n",
       "      <td>0</td>\n",
       "      <td>0</td>\n",
       "      <td>50</td>\n",
       "      <td>1</td>\n",
       "      <td>1</td>\n",
       "      <td>1.274643</td>\n",
       "      <td>0.200000</td>\n",
       "      <td>0</td>\n",
       "      <td>30.0</td>\n",
       "      <td>2.500000</td>\n",
       "      <td>-0.208487</td>\n",
       "      <td>-2.068806</td>\n",
       "      <td>0.072031</td>\n",
       "      <td>0.259854</td>\n",
       "      <td>0.116596</td>\n",
       "      <td>0.029349</td>\n",
       "      <td>0.083151</td>\n",
       "      <td>0.685733</td>\n",
       "      <td>0.083952</td>\n",
       "      <td>0.547558</td>\n",
       "    </tr>\n",
       "    <tr>\n",
       "      <th>4</th>\n",
       "      <td>1</td>\n",
       "      <td>45</td>\n",
       "      <td>3.0</td>\n",
       "      <td>2</td>\n",
       "      <td>0</td>\n",
       "      <td>0</td>\n",
       "      <td>73</td>\n",
       "      <td>-1</td>\n",
       "      <td>-1</td>\n",
       "      <td>1.256380</td>\n",
       "      <td>0.500000</td>\n",
       "      <td>0</td>\n",
       "      <td>13.0</td>\n",
       "      <td>1.216667</td>\n",
       "      <td>-6.908464</td>\n",
       "      <td>-0.144448</td>\n",
       "      <td>0.107593</td>\n",
       "      <td>0.164524</td>\n",
       "      <td>0.063274</td>\n",
       "      <td>0.030634</td>\n",
       "      <td>0.083151</td>\n",
       "      <td>0.685733</td>\n",
       "      <td>0.083952</td>\n",
       "      <td>0.547558</td>\n",
       "    </tr>\n",
       "  </tbody>\n",
       "</table>\n",
       "</div>"
      ],
      "text/plain": [
       "   no_of_trainings  age  previous_year_rating  length_of_service  \\\n",
       "0                1   35                   5.0                  8   \n",
       "1                1   30                   5.0                  4   \n",
       "2                1   34                   3.0                  7   \n",
       "3                2   39                   1.0                 10   \n",
       "4                1   45                   3.0                  2   \n",
       "\n",
       "   KPIs_met >80%  awards_won?  avg_training_score  is_gt_avg_training  \\\n",
       "0              1            0                  49                  -1   \n",
       "1              0            0                  60                  -1   \n",
       "2              0            0                  50                  -1   \n",
       "3              0            0                  50                   1   \n",
       "4              0            0                  73                  -1   \n",
       "\n",
       "   is_dept_gt_avg_training  dept_avg_training  training_service_ratio  \\\n",
       "0                       -1           1.274643                0.125000   \n",
       "1                       -1           1.164908                0.250000   \n",
       "2                       -1           1.274643                0.142857   \n",
       "3                        1           1.274643                0.200000   \n",
       "4                       -1           1.256380                0.500000   \n",
       "\n",
       "   KPImet_and_Awardwon  score_minus_rating  score/rating  \\\n",
       "0                    0               -51.0      0.490000   \n",
       "1                    0               -40.0      0.600000   \n",
       "2                    0               -10.0      0.833333   \n",
       "3                    0                30.0      2.500000   \n",
       "4                    0                13.0      1.216667   \n",
       "\n",
       "   training_score minus dept avg score  rating minus dept avg rating  \\\n",
       "0                            -1.208487                      1.931194   \n",
       "1                            -0.248572                      1.341857   \n",
       "2                            -0.208487                     -0.068806   \n",
       "3                            -0.208487                     -2.068806   \n",
       "4                            -6.908464                     -0.144448   \n",
       "\n",
       "   prob_intra_dept  prob_inter_dept  prob_intra_region  prob_inter_region  \\\n",
       "0         0.072031         0.259854           0.106546           0.110540   \n",
       "1         0.090148         0.219152           0.114188           0.157241   \n",
       "2         0.072031         0.259854           0.060641           0.011354   \n",
       "3         0.072031         0.259854           0.116596           0.029349   \n",
       "4         0.107593         0.164524           0.063274           0.030634   \n",
       "\n",
       "   prob_intra_gender  prob_inter_gender  prob_intra_recruits  \\\n",
       "0           0.089934           0.314267             0.085013   \n",
       "1           0.083151           0.685733             0.083952   \n",
       "2           0.083151           0.685733             0.085013   \n",
       "3           0.083151           0.685733             0.083952   \n",
       "4           0.083151           0.685733             0.083952   \n",
       "\n",
       "   prob_inter_recruits  \n",
       "0             0.422879  \n",
       "1             0.547558  \n",
       "2             0.422879  \n",
       "3             0.547558  \n",
       "4             0.547558  "
      ]
     },
     "execution_count": 41,
     "metadata": {},
     "output_type": "execute_result"
    }
   ],
   "source": [
    "train.head()"
   ]
  },
  {
   "cell_type": "code",
   "execution_count": 42,
   "metadata": {},
   "outputs": [
    {
     "data": {
      "text/plain": [
       "((54808, 24), (54808,))"
      ]
     },
     "execution_count": 42,
     "metadata": {},
     "output_type": "execute_result"
    }
   ],
   "source": [
    "train.shape, is_promoted.shape"
   ]
  },
  {
   "cell_type": "code",
   "execution_count": 43,
   "metadata": {},
   "outputs": [
    {
     "data": {
      "text/plain": [
       "(23490, 24)"
      ]
     },
     "execution_count": 43,
     "metadata": {},
     "output_type": "execute_result"
    }
   ],
   "source": [
    "test.shape"
   ]
  },
  {
   "cell_type": "code",
   "execution_count": 44,
   "metadata": {},
   "outputs": [
    {
     "data": {
      "text/html": [
       "<div>\n",
       "<style>\n",
       "    .dataframe thead tr:only-child th {\n",
       "        text-align: right;\n",
       "    }\n",
       "\n",
       "    .dataframe thead th {\n",
       "        text-align: left;\n",
       "    }\n",
       "\n",
       "    .dataframe tbody tr th {\n",
       "        vertical-align: top;\n",
       "    }\n",
       "</style>\n",
       "<table border=\"1\" class=\"dataframe\">\n",
       "  <thead>\n",
       "    <tr style=\"text-align: right;\">\n",
       "      <th></th>\n",
       "      <th>no_of_trainings</th>\n",
       "      <th>age</th>\n",
       "      <th>previous_year_rating</th>\n",
       "      <th>length_of_service</th>\n",
       "      <th>KPIs_met &gt;80%</th>\n",
       "      <th>awards_won?</th>\n",
       "      <th>avg_training_score</th>\n",
       "      <th>is_gt_avg_training</th>\n",
       "      <th>is_dept_gt_avg_training</th>\n",
       "      <th>dept_avg_training</th>\n",
       "      <th>training_service_ratio</th>\n",
       "      <th>KPImet_and_Awardwon</th>\n",
       "      <th>score_minus_rating</th>\n",
       "      <th>score/rating</th>\n",
       "      <th>training_score minus dept avg score</th>\n",
       "      <th>rating minus dept avg rating</th>\n",
       "      <th>prob_intra_dept</th>\n",
       "      <th>prob_inter_dept</th>\n",
       "      <th>prob_intra_region</th>\n",
       "      <th>prob_inter_region</th>\n",
       "      <th>prob_intra_gender</th>\n",
       "      <th>prob_inter_gender</th>\n",
       "      <th>prob_intra_recruits</th>\n",
       "      <th>prob_inter_recruits</th>\n",
       "    </tr>\n",
       "  </thead>\n",
       "  <tbody>\n",
       "    <tr>\n",
       "      <th>0</th>\n",
       "      <td>1</td>\n",
       "      <td>24</td>\n",
       "      <td>3.0</td>\n",
       "      <td>1</td>\n",
       "      <td>1</td>\n",
       "      <td>0</td>\n",
       "      <td>77</td>\n",
       "      <td>-1</td>\n",
       "      <td>-1</td>\n",
       "      <td>1.256380</td>\n",
       "      <td>1.000000</td>\n",
       "      <td>0</td>\n",
       "      <td>17.0</td>\n",
       "      <td>1.283333</td>\n",
       "      <td>-2.908464</td>\n",
       "      <td>-0.144448</td>\n",
       "      <td>0.107593</td>\n",
       "      <td>0.164524</td>\n",
       "      <td>0.063274</td>\n",
       "      <td>0.030634</td>\n",
       "      <td>0.083151</td>\n",
       "      <td>0.685733</td>\n",
       "      <td>0.085013</td>\n",
       "      <td>0.422879</td>\n",
       "    </tr>\n",
       "    <tr>\n",
       "      <th>1</th>\n",
       "      <td>1</td>\n",
       "      <td>31</td>\n",
       "      <td>3.0</td>\n",
       "      <td>5</td>\n",
       "      <td>0</td>\n",
       "      <td>0</td>\n",
       "      <td>51</td>\n",
       "      <td>-1</td>\n",
       "      <td>-1</td>\n",
       "      <td>1.057379</td>\n",
       "      <td>0.200000</td>\n",
       "      <td>0</td>\n",
       "      <td>-9.0</td>\n",
       "      <td>0.850000</td>\n",
       "      <td>0.892663</td>\n",
       "      <td>-0.447331</td>\n",
       "      <td>0.056245</td>\n",
       "      <td>0.029135</td>\n",
       "      <td>0.144451</td>\n",
       "      <td>0.052699</td>\n",
       "      <td>0.089934</td>\n",
       "      <td>0.314267</td>\n",
       "      <td>0.083952</td>\n",
       "      <td>0.547558</td>\n",
       "    </tr>\n",
       "    <tr>\n",
       "      <th>2</th>\n",
       "      <td>1</td>\n",
       "      <td>31</td>\n",
       "      <td>1.0</td>\n",
       "      <td>4</td>\n",
       "      <td>0</td>\n",
       "      <td>0</td>\n",
       "      <td>47</td>\n",
       "      <td>-1</td>\n",
       "      <td>-1</td>\n",
       "      <td>1.274643</td>\n",
       "      <td>0.250000</td>\n",
       "      <td>0</td>\n",
       "      <td>27.0</td>\n",
       "      <td>2.350000</td>\n",
       "      <td>-3.208487</td>\n",
       "      <td>-2.068806</td>\n",
       "      <td>0.072031</td>\n",
       "      <td>0.259854</td>\n",
       "      <td>0.086858</td>\n",
       "      <td>0.049272</td>\n",
       "      <td>0.083151</td>\n",
       "      <td>0.685733</td>\n",
       "      <td>0.083952</td>\n",
       "      <td>0.547558</td>\n",
       "    </tr>\n",
       "    <tr>\n",
       "      <th>3</th>\n",
       "      <td>3</td>\n",
       "      <td>31</td>\n",
       "      <td>2.0</td>\n",
       "      <td>9</td>\n",
       "      <td>0</td>\n",
       "      <td>0</td>\n",
       "      <td>65</td>\n",
       "      <td>1</td>\n",
       "      <td>1</td>\n",
       "      <td>1.328017</td>\n",
       "      <td>0.333333</td>\n",
       "      <td>0</td>\n",
       "      <td>25.0</td>\n",
       "      <td>1.625000</td>\n",
       "      <td>-5.129455</td>\n",
       "      <td>-1.271116</td>\n",
       "      <td>0.096386</td>\n",
       "      <td>0.147386</td>\n",
       "      <td>0.080126</td>\n",
       "      <td>0.211868</td>\n",
       "      <td>0.089934</td>\n",
       "      <td>0.314267</td>\n",
       "      <td>0.083952</td>\n",
       "      <td>0.547558</td>\n",
       "    </tr>\n",
       "    <tr>\n",
       "      <th>4</th>\n",
       "      <td>1</td>\n",
       "      <td>30</td>\n",
       "      <td>4.0</td>\n",
       "      <td>7</td>\n",
       "      <td>0</td>\n",
       "      <td>0</td>\n",
       "      <td>61</td>\n",
       "      <td>-1</td>\n",
       "      <td>-1</td>\n",
       "      <td>1.306865</td>\n",
       "      <td>0.142857</td>\n",
       "      <td>0</td>\n",
       "      <td>-19.0</td>\n",
       "      <td>0.762500</td>\n",
       "      <td>0.747725</td>\n",
       "      <td>0.539289</td>\n",
       "      <td>0.081230</td>\n",
       "      <td>0.044130</td>\n",
       "      <td>0.043260</td>\n",
       "      <td>0.009212</td>\n",
       "      <td>0.083151</td>\n",
       "      <td>0.685733</td>\n",
       "      <td>0.085013</td>\n",
       "      <td>0.422879</td>\n",
       "    </tr>\n",
       "  </tbody>\n",
       "</table>\n",
       "</div>"
      ],
      "text/plain": [
       "   no_of_trainings  age  previous_year_rating  length_of_service  \\\n",
       "0                1   24                   3.0                  1   \n",
       "1                1   31                   3.0                  5   \n",
       "2                1   31                   1.0                  4   \n",
       "3                3   31                   2.0                  9   \n",
       "4                1   30                   4.0                  7   \n",
       "\n",
       "   KPIs_met >80%  awards_won?  avg_training_score  is_gt_avg_training  \\\n",
       "0              1            0                  77                  -1   \n",
       "1              0            0                  51                  -1   \n",
       "2              0            0                  47                  -1   \n",
       "3              0            0                  65                   1   \n",
       "4              0            0                  61                  -1   \n",
       "\n",
       "   is_dept_gt_avg_training  dept_avg_training  training_service_ratio  \\\n",
       "0                       -1           1.256380                1.000000   \n",
       "1                       -1           1.057379                0.200000   \n",
       "2                       -1           1.274643                0.250000   \n",
       "3                        1           1.328017                0.333333   \n",
       "4                       -1           1.306865                0.142857   \n",
       "\n",
       "   KPImet_and_Awardwon  score_minus_rating  score/rating  \\\n",
       "0                    0                17.0      1.283333   \n",
       "1                    0                -9.0      0.850000   \n",
       "2                    0                27.0      2.350000   \n",
       "3                    0                25.0      1.625000   \n",
       "4                    0               -19.0      0.762500   \n",
       "\n",
       "   training_score minus dept avg score  rating minus dept avg rating  \\\n",
       "0                            -2.908464                     -0.144448   \n",
       "1                             0.892663                     -0.447331   \n",
       "2                            -3.208487                     -2.068806   \n",
       "3                            -5.129455                     -1.271116   \n",
       "4                             0.747725                      0.539289   \n",
       "\n",
       "   prob_intra_dept  prob_inter_dept  prob_intra_region  prob_inter_region  \\\n",
       "0         0.107593         0.164524           0.063274           0.030634   \n",
       "1         0.056245         0.029135           0.144451           0.052699   \n",
       "2         0.072031         0.259854           0.086858           0.049272   \n",
       "3         0.096386         0.147386           0.080126           0.211868   \n",
       "4         0.081230         0.044130           0.043260           0.009212   \n",
       "\n",
       "   prob_intra_gender  prob_inter_gender  prob_intra_recruits  \\\n",
       "0           0.083151           0.685733             0.085013   \n",
       "1           0.089934           0.314267             0.083952   \n",
       "2           0.083151           0.685733             0.083952   \n",
       "3           0.089934           0.314267             0.083952   \n",
       "4           0.083151           0.685733             0.085013   \n",
       "\n",
       "   prob_inter_recruits  \n",
       "0             0.422879  \n",
       "1             0.547558  \n",
       "2             0.547558  \n",
       "3             0.547558  \n",
       "4             0.422879  "
      ]
     },
     "execution_count": 44,
     "metadata": {},
     "output_type": "execute_result"
    }
   ],
   "source": [
    "test.head()"
   ]
  },
  {
   "cell_type": "code",
   "execution_count": 15,
   "metadata": {},
   "outputs": [],
   "source": [
    "from sklearn.linear_model import LogisticRegression\n",
    "from sklearn.model_selection import cross_val_score"
   ]
  },
  {
   "cell_type": "code",
   "execution_count": 16,
   "metadata": {},
   "outputs": [],
   "source": [
    "logistic = LogisticRegression(penalty='l2')\n",
    "cvscore=cross_val_score(logistic, train, is_promoted,cv=10,scoring='f1')  "
   ]
  },
  {
   "cell_type": "code",
   "execution_count": 17,
   "metadata": {},
   "outputs": [
    {
     "data": {
      "text/plain": [
       "array([0.39344262, 0.4313099 , 0.37      , 0.4399376 , 0.38834951,\n",
       "       0.38550247, 0.42054575, 0.41100324, 0.40133779, 0.36601307])"
      ]
     },
     "execution_count": 17,
     "metadata": {},
     "output_type": "execute_result"
    }
   ],
   "source": [
    "cvscore"
   ]
  },
  {
   "cell_type": "code",
   "execution_count": 20,
   "metadata": {},
   "outputs": [],
   "source": [
    "logistic = LogisticRegression(penalty='l1')\n",
    "cvscore=cross_val_score(logistic, train, is_promoted,cv=10,scoring='f1')  "
   ]
  },
  {
   "cell_type": "code",
   "execution_count": 22,
   "metadata": {},
   "outputs": [
    {
     "data": {
      "text/plain": [
       "0.4001964711776309"
      ]
     },
     "execution_count": 22,
     "metadata": {},
     "output_type": "execute_result"
    }
   ],
   "source": [
    "cvscore.mean()"
   ]
  },
  {
   "cell_type": "markdown",
   "metadata": {},
   "source": [
    "# Logistic with feature importance"
   ]
  },
  {
   "cell_type": "code",
   "execution_count": 23,
   "metadata": {},
   "outputs": [
    {
     "data": {
      "text/html": [
       "<div>\n",
       "<style>\n",
       "    .dataframe thead tr:only-child th {\n",
       "        text-align: right;\n",
       "    }\n",
       "\n",
       "    .dataframe thead th {\n",
       "        text-align: left;\n",
       "    }\n",
       "\n",
       "    .dataframe tbody tr th {\n",
       "        vertical-align: top;\n",
       "    }\n",
       "</style>\n",
       "<table border=\"1\" class=\"dataframe\">\n",
       "  <thead>\n",
       "    <tr style=\"text-align: right;\">\n",
       "      <th></th>\n",
       "      <th>no_of_trainings</th>\n",
       "      <th>age</th>\n",
       "      <th>previous_year_rating</th>\n",
       "      <th>length_of_service</th>\n",
       "      <th>KPIs_met &gt;80%</th>\n",
       "      <th>awards_won?</th>\n",
       "      <th>avg_training_score</th>\n",
       "      <th>is_gt_avg_training</th>\n",
       "      <th>is_dept_gt_avg_training</th>\n",
       "      <th>dept_avg_training</th>\n",
       "      <th>training_service_ratio</th>\n",
       "      <th>KPImet_and_Awardwon</th>\n",
       "      <th>score_minus_rating</th>\n",
       "      <th>score/rating</th>\n",
       "      <th>training_score minus dept avg score</th>\n",
       "      <th>rating minus dept avg rating</th>\n",
       "      <th>prob_intra_dept</th>\n",
       "      <th>prob_inter_dept</th>\n",
       "      <th>prob_intra_region</th>\n",
       "      <th>prob_inter_region</th>\n",
       "      <th>prob_intra_gender</th>\n",
       "      <th>prob_inter_gender</th>\n",
       "      <th>prob_intra_recruits</th>\n",
       "      <th>prob_inter_recruits</th>\n",
       "    </tr>\n",
       "  </thead>\n",
       "  <tbody>\n",
       "    <tr>\n",
       "      <th>0</th>\n",
       "      <td>1</td>\n",
       "      <td>35</td>\n",
       "      <td>5.0</td>\n",
       "      <td>8</td>\n",
       "      <td>1</td>\n",
       "      <td>0</td>\n",
       "      <td>49</td>\n",
       "      <td>-1</td>\n",
       "      <td>-1</td>\n",
       "      <td>1.274643</td>\n",
       "      <td>0.125000</td>\n",
       "      <td>0</td>\n",
       "      <td>-51.0</td>\n",
       "      <td>0.490000</td>\n",
       "      <td>-1.208487</td>\n",
       "      <td>1.931194</td>\n",
       "      <td>0.072031</td>\n",
       "      <td>0.259854</td>\n",
       "      <td>0.106546</td>\n",
       "      <td>0.110540</td>\n",
       "      <td>0.089934</td>\n",
       "      <td>0.314267</td>\n",
       "      <td>0.085013</td>\n",
       "      <td>0.422879</td>\n",
       "    </tr>\n",
       "    <tr>\n",
       "      <th>1</th>\n",
       "      <td>1</td>\n",
       "      <td>30</td>\n",
       "      <td>5.0</td>\n",
       "      <td>4</td>\n",
       "      <td>0</td>\n",
       "      <td>0</td>\n",
       "      <td>60</td>\n",
       "      <td>-1</td>\n",
       "      <td>-1</td>\n",
       "      <td>1.164908</td>\n",
       "      <td>0.250000</td>\n",
       "      <td>0</td>\n",
       "      <td>-40.0</td>\n",
       "      <td>0.600000</td>\n",
       "      <td>-0.248572</td>\n",
       "      <td>1.341857</td>\n",
       "      <td>0.090148</td>\n",
       "      <td>0.219152</td>\n",
       "      <td>0.114188</td>\n",
       "      <td>0.157241</td>\n",
       "      <td>0.083151</td>\n",
       "      <td>0.685733</td>\n",
       "      <td>0.083952</td>\n",
       "      <td>0.547558</td>\n",
       "    </tr>\n",
       "    <tr>\n",
       "      <th>2</th>\n",
       "      <td>1</td>\n",
       "      <td>34</td>\n",
       "      <td>3.0</td>\n",
       "      <td>7</td>\n",
       "      <td>0</td>\n",
       "      <td>0</td>\n",
       "      <td>50</td>\n",
       "      <td>-1</td>\n",
       "      <td>-1</td>\n",
       "      <td>1.274643</td>\n",
       "      <td>0.142857</td>\n",
       "      <td>0</td>\n",
       "      <td>-10.0</td>\n",
       "      <td>0.833333</td>\n",
       "      <td>-0.208487</td>\n",
       "      <td>-0.068806</td>\n",
       "      <td>0.072031</td>\n",
       "      <td>0.259854</td>\n",
       "      <td>0.060641</td>\n",
       "      <td>0.011354</td>\n",
       "      <td>0.083151</td>\n",
       "      <td>0.685733</td>\n",
       "      <td>0.085013</td>\n",
       "      <td>0.422879</td>\n",
       "    </tr>\n",
       "    <tr>\n",
       "      <th>3</th>\n",
       "      <td>2</td>\n",
       "      <td>39</td>\n",
       "      <td>1.0</td>\n",
       "      <td>10</td>\n",
       "      <td>0</td>\n",
       "      <td>0</td>\n",
       "      <td>50</td>\n",
       "      <td>1</td>\n",
       "      <td>1</td>\n",
       "      <td>1.274643</td>\n",
       "      <td>0.200000</td>\n",
       "      <td>0</td>\n",
       "      <td>30.0</td>\n",
       "      <td>2.500000</td>\n",
       "      <td>-0.208487</td>\n",
       "      <td>-2.068806</td>\n",
       "      <td>0.072031</td>\n",
       "      <td>0.259854</td>\n",
       "      <td>0.116596</td>\n",
       "      <td>0.029349</td>\n",
       "      <td>0.083151</td>\n",
       "      <td>0.685733</td>\n",
       "      <td>0.083952</td>\n",
       "      <td>0.547558</td>\n",
       "    </tr>\n",
       "    <tr>\n",
       "      <th>4</th>\n",
       "      <td>1</td>\n",
       "      <td>45</td>\n",
       "      <td>3.0</td>\n",
       "      <td>2</td>\n",
       "      <td>0</td>\n",
       "      <td>0</td>\n",
       "      <td>73</td>\n",
       "      <td>-1</td>\n",
       "      <td>-1</td>\n",
       "      <td>1.256380</td>\n",
       "      <td>0.500000</td>\n",
       "      <td>0</td>\n",
       "      <td>13.0</td>\n",
       "      <td>1.216667</td>\n",
       "      <td>-6.908464</td>\n",
       "      <td>-0.144448</td>\n",
       "      <td>0.107593</td>\n",
       "      <td>0.164524</td>\n",
       "      <td>0.063274</td>\n",
       "      <td>0.030634</td>\n",
       "      <td>0.083151</td>\n",
       "      <td>0.685733</td>\n",
       "      <td>0.083952</td>\n",
       "      <td>0.547558</td>\n",
       "    </tr>\n",
       "  </tbody>\n",
       "</table>\n",
       "</div>"
      ],
      "text/plain": [
       "   no_of_trainings  age  previous_year_rating  length_of_service  \\\n",
       "0                1   35                   5.0                  8   \n",
       "1                1   30                   5.0                  4   \n",
       "2                1   34                   3.0                  7   \n",
       "3                2   39                   1.0                 10   \n",
       "4                1   45                   3.0                  2   \n",
       "\n",
       "   KPIs_met >80%  awards_won?  avg_training_score  is_gt_avg_training  \\\n",
       "0              1            0                  49                  -1   \n",
       "1              0            0                  60                  -1   \n",
       "2              0            0                  50                  -1   \n",
       "3              0            0                  50                   1   \n",
       "4              0            0                  73                  -1   \n",
       "\n",
       "   is_dept_gt_avg_training  dept_avg_training  training_service_ratio  \\\n",
       "0                       -1           1.274643                0.125000   \n",
       "1                       -1           1.164908                0.250000   \n",
       "2                       -1           1.274643                0.142857   \n",
       "3                        1           1.274643                0.200000   \n",
       "4                       -1           1.256380                0.500000   \n",
       "\n",
       "   KPImet_and_Awardwon  score_minus_rating  score/rating  \\\n",
       "0                    0               -51.0      0.490000   \n",
       "1                    0               -40.0      0.600000   \n",
       "2                    0               -10.0      0.833333   \n",
       "3                    0                30.0      2.500000   \n",
       "4                    0                13.0      1.216667   \n",
       "\n",
       "   training_score minus dept avg score  rating minus dept avg rating  \\\n",
       "0                            -1.208487                      1.931194   \n",
       "1                            -0.248572                      1.341857   \n",
       "2                            -0.208487                     -0.068806   \n",
       "3                            -0.208487                     -2.068806   \n",
       "4                            -6.908464                     -0.144448   \n",
       "\n",
       "   prob_intra_dept  prob_inter_dept  prob_intra_region  prob_inter_region  \\\n",
       "0         0.072031         0.259854           0.106546           0.110540   \n",
       "1         0.090148         0.219152           0.114188           0.157241   \n",
       "2         0.072031         0.259854           0.060641           0.011354   \n",
       "3         0.072031         0.259854           0.116596           0.029349   \n",
       "4         0.107593         0.164524           0.063274           0.030634   \n",
       "\n",
       "   prob_intra_gender  prob_inter_gender  prob_intra_recruits  \\\n",
       "0           0.089934           0.314267             0.085013   \n",
       "1           0.083151           0.685733             0.083952   \n",
       "2           0.083151           0.685733             0.085013   \n",
       "3           0.083151           0.685733             0.083952   \n",
       "4           0.083151           0.685733             0.083952   \n",
       "\n",
       "   prob_inter_recruits  \n",
       "0             0.422879  \n",
       "1             0.547558  \n",
       "2             0.422879  \n",
       "3             0.547558  \n",
       "4             0.547558  "
      ]
     },
     "execution_count": 23,
     "metadata": {},
     "output_type": "execute_result"
    }
   ],
   "source": [
    "train.head()"
   ]
  },
  {
   "cell_type": "code",
   "execution_count": 45,
   "metadata": {},
   "outputs": [],
   "source": [
    "train1=train.drop(['is_gt_avg_training','is_dept_gt_avg_training'],axis=1)"
   ]
  },
  {
   "cell_type": "code",
   "execution_count": 46,
   "metadata": {},
   "outputs": [
    {
     "data": {
      "text/html": [
       "<div>\n",
       "<style>\n",
       "    .dataframe thead tr:only-child th {\n",
       "        text-align: right;\n",
       "    }\n",
       "\n",
       "    .dataframe thead th {\n",
       "        text-align: left;\n",
       "    }\n",
       "\n",
       "    .dataframe tbody tr th {\n",
       "        vertical-align: top;\n",
       "    }\n",
       "</style>\n",
       "<table border=\"1\" class=\"dataframe\">\n",
       "  <thead>\n",
       "    <tr style=\"text-align: right;\">\n",
       "      <th></th>\n",
       "      <th>no_of_trainings</th>\n",
       "      <th>age</th>\n",
       "      <th>previous_year_rating</th>\n",
       "      <th>length_of_service</th>\n",
       "      <th>KPIs_met &gt;80%</th>\n",
       "      <th>awards_won?</th>\n",
       "      <th>avg_training_score</th>\n",
       "      <th>dept_avg_training</th>\n",
       "      <th>training_service_ratio</th>\n",
       "      <th>KPImet_and_Awardwon</th>\n",
       "      <th>score_minus_rating</th>\n",
       "      <th>score/rating</th>\n",
       "      <th>training_score minus dept avg score</th>\n",
       "      <th>rating minus dept avg rating</th>\n",
       "      <th>prob_intra_dept</th>\n",
       "      <th>prob_inter_dept</th>\n",
       "      <th>prob_intra_region</th>\n",
       "      <th>prob_inter_region</th>\n",
       "      <th>prob_intra_gender</th>\n",
       "      <th>prob_inter_gender</th>\n",
       "      <th>prob_intra_recruits</th>\n",
       "      <th>prob_inter_recruits</th>\n",
       "    </tr>\n",
       "  </thead>\n",
       "  <tbody>\n",
       "    <tr>\n",
       "      <th>0</th>\n",
       "      <td>1</td>\n",
       "      <td>35</td>\n",
       "      <td>5.0</td>\n",
       "      <td>8</td>\n",
       "      <td>1</td>\n",
       "      <td>0</td>\n",
       "      <td>49</td>\n",
       "      <td>1.274643</td>\n",
       "      <td>0.125000</td>\n",
       "      <td>0</td>\n",
       "      <td>-51.0</td>\n",
       "      <td>0.490000</td>\n",
       "      <td>-1.208487</td>\n",
       "      <td>1.931194</td>\n",
       "      <td>0.072031</td>\n",
       "      <td>0.259854</td>\n",
       "      <td>0.106546</td>\n",
       "      <td>0.110540</td>\n",
       "      <td>0.089934</td>\n",
       "      <td>0.314267</td>\n",
       "      <td>0.085013</td>\n",
       "      <td>0.422879</td>\n",
       "    </tr>\n",
       "    <tr>\n",
       "      <th>1</th>\n",
       "      <td>1</td>\n",
       "      <td>30</td>\n",
       "      <td>5.0</td>\n",
       "      <td>4</td>\n",
       "      <td>0</td>\n",
       "      <td>0</td>\n",
       "      <td>60</td>\n",
       "      <td>1.164908</td>\n",
       "      <td>0.250000</td>\n",
       "      <td>0</td>\n",
       "      <td>-40.0</td>\n",
       "      <td>0.600000</td>\n",
       "      <td>-0.248572</td>\n",
       "      <td>1.341857</td>\n",
       "      <td>0.090148</td>\n",
       "      <td>0.219152</td>\n",
       "      <td>0.114188</td>\n",
       "      <td>0.157241</td>\n",
       "      <td>0.083151</td>\n",
       "      <td>0.685733</td>\n",
       "      <td>0.083952</td>\n",
       "      <td>0.547558</td>\n",
       "    </tr>\n",
       "    <tr>\n",
       "      <th>2</th>\n",
       "      <td>1</td>\n",
       "      <td>34</td>\n",
       "      <td>3.0</td>\n",
       "      <td>7</td>\n",
       "      <td>0</td>\n",
       "      <td>0</td>\n",
       "      <td>50</td>\n",
       "      <td>1.274643</td>\n",
       "      <td>0.142857</td>\n",
       "      <td>0</td>\n",
       "      <td>-10.0</td>\n",
       "      <td>0.833333</td>\n",
       "      <td>-0.208487</td>\n",
       "      <td>-0.068806</td>\n",
       "      <td>0.072031</td>\n",
       "      <td>0.259854</td>\n",
       "      <td>0.060641</td>\n",
       "      <td>0.011354</td>\n",
       "      <td>0.083151</td>\n",
       "      <td>0.685733</td>\n",
       "      <td>0.085013</td>\n",
       "      <td>0.422879</td>\n",
       "    </tr>\n",
       "    <tr>\n",
       "      <th>3</th>\n",
       "      <td>2</td>\n",
       "      <td>39</td>\n",
       "      <td>1.0</td>\n",
       "      <td>10</td>\n",
       "      <td>0</td>\n",
       "      <td>0</td>\n",
       "      <td>50</td>\n",
       "      <td>1.274643</td>\n",
       "      <td>0.200000</td>\n",
       "      <td>0</td>\n",
       "      <td>30.0</td>\n",
       "      <td>2.500000</td>\n",
       "      <td>-0.208487</td>\n",
       "      <td>-2.068806</td>\n",
       "      <td>0.072031</td>\n",
       "      <td>0.259854</td>\n",
       "      <td>0.116596</td>\n",
       "      <td>0.029349</td>\n",
       "      <td>0.083151</td>\n",
       "      <td>0.685733</td>\n",
       "      <td>0.083952</td>\n",
       "      <td>0.547558</td>\n",
       "    </tr>\n",
       "    <tr>\n",
       "      <th>4</th>\n",
       "      <td>1</td>\n",
       "      <td>45</td>\n",
       "      <td>3.0</td>\n",
       "      <td>2</td>\n",
       "      <td>0</td>\n",
       "      <td>0</td>\n",
       "      <td>73</td>\n",
       "      <td>1.256380</td>\n",
       "      <td>0.500000</td>\n",
       "      <td>0</td>\n",
       "      <td>13.0</td>\n",
       "      <td>1.216667</td>\n",
       "      <td>-6.908464</td>\n",
       "      <td>-0.144448</td>\n",
       "      <td>0.107593</td>\n",
       "      <td>0.164524</td>\n",
       "      <td>0.063274</td>\n",
       "      <td>0.030634</td>\n",
       "      <td>0.083151</td>\n",
       "      <td>0.685733</td>\n",
       "      <td>0.083952</td>\n",
       "      <td>0.547558</td>\n",
       "    </tr>\n",
       "  </tbody>\n",
       "</table>\n",
       "</div>"
      ],
      "text/plain": [
       "   no_of_trainings  age  previous_year_rating  length_of_service  \\\n",
       "0                1   35                   5.0                  8   \n",
       "1                1   30                   5.0                  4   \n",
       "2                1   34                   3.0                  7   \n",
       "3                2   39                   1.0                 10   \n",
       "4                1   45                   3.0                  2   \n",
       "\n",
       "   KPIs_met >80%  awards_won?  avg_training_score  dept_avg_training  \\\n",
       "0              1            0                  49           1.274643   \n",
       "1              0            0                  60           1.164908   \n",
       "2              0            0                  50           1.274643   \n",
       "3              0            0                  50           1.274643   \n",
       "4              0            0                  73           1.256380   \n",
       "\n",
       "   training_service_ratio  KPImet_and_Awardwon  score_minus_rating  \\\n",
       "0                0.125000                    0               -51.0   \n",
       "1                0.250000                    0               -40.0   \n",
       "2                0.142857                    0               -10.0   \n",
       "3                0.200000                    0                30.0   \n",
       "4                0.500000                    0                13.0   \n",
       "\n",
       "   score/rating  training_score minus dept avg score  \\\n",
       "0      0.490000                            -1.208487   \n",
       "1      0.600000                            -0.248572   \n",
       "2      0.833333                            -0.208487   \n",
       "3      2.500000                            -0.208487   \n",
       "4      1.216667                            -6.908464   \n",
       "\n",
       "   rating minus dept avg rating  prob_intra_dept  prob_inter_dept  \\\n",
       "0                      1.931194         0.072031         0.259854   \n",
       "1                      1.341857         0.090148         0.219152   \n",
       "2                     -0.068806         0.072031         0.259854   \n",
       "3                     -2.068806         0.072031         0.259854   \n",
       "4                     -0.144448         0.107593         0.164524   \n",
       "\n",
       "   prob_intra_region  prob_inter_region  prob_intra_gender  prob_inter_gender  \\\n",
       "0           0.106546           0.110540           0.089934           0.314267   \n",
       "1           0.114188           0.157241           0.083151           0.685733   \n",
       "2           0.060641           0.011354           0.083151           0.685733   \n",
       "3           0.116596           0.029349           0.083151           0.685733   \n",
       "4           0.063274           0.030634           0.083151           0.685733   \n",
       "\n",
       "   prob_intra_recruits  prob_inter_recruits  \n",
       "0             0.085013             0.422879  \n",
       "1             0.083952             0.547558  \n",
       "2             0.085013             0.422879  \n",
       "3             0.083952             0.547558  \n",
       "4             0.083952             0.547558  "
      ]
     },
     "execution_count": 46,
     "metadata": {},
     "output_type": "execute_result"
    }
   ],
   "source": [
    "train1.head()"
   ]
  },
  {
   "cell_type": "code",
   "execution_count": 26,
   "metadata": {},
   "outputs": [],
   "source": [
    "logistic = LogisticRegression(penalty='l2')\n",
    "cvscore=cross_val_score(logistic, train, is_promoted,cv=10,scoring='f1')  "
   ]
  },
  {
   "cell_type": "code",
   "execution_count": 27,
   "metadata": {},
   "outputs": [
    {
     "data": {
      "text/plain": [
       "array([0.39344262, 0.4313099 , 0.3706177 , 0.4399376 , 0.38772213,\n",
       "       0.38550247, 0.42054575, 0.41100324, 0.40201005, 0.36601307])"
      ]
     },
     "execution_count": 27,
     "metadata": {},
     "output_type": "execute_result"
    }
   ],
   "source": [
    "cvscore"
   ]
  },
  {
   "cell_type": "markdown",
   "metadata": {},
   "source": [
    "# Random Forest"
   ]
  },
  {
   "cell_type": "code",
   "execution_count": 28,
   "metadata": {},
   "outputs": [
    {
     "name": "stderr",
     "output_type": "stream",
     "text": [
      "C:\\Users\\User\\Anaconda3\\lib\\site-packages\\sklearn\\ensemble\\weight_boosting.py:29: DeprecationWarning: numpy.core.umath_tests is an internal NumPy module and should not be imported. It will be removed in a future NumPy release.\n",
      "  from numpy.core.umath_tests import inner1d\n"
     ]
    }
   ],
   "source": [
    "from sklearn.ensemble import RandomForestClassifier"
   ]
  },
  {
   "cell_type": "code",
   "execution_count": 60,
   "metadata": {},
   "outputs": [],
   "source": [
    "rf= RandomForestClassifier(n_estimators=200)\n",
    "cvscore=cross_val_score(rf, train, is_promoted,cv=10,scoring='f1')  "
   ]
  },
  {
   "cell_type": "code",
   "execution_count": 61,
   "metadata": {},
   "outputs": [
    {
     "data": {
      "text/plain": [
       "array([0.48421053, 0.50372578, 0.47819549, 0.52539913, 0.47692308,\n",
       "       0.52011494, 0.51497006, 0.53216374, 0.50520059, 0.49926579])"
      ]
     },
     "execution_count": 61,
     "metadata": {},
     "output_type": "execute_result"
    }
   ],
   "source": [
    "cvscore"
   ]
  },
  {
   "cell_type": "code",
   "execution_count": 49,
   "metadata": {},
   "outputs": [],
   "source": [
    "from sklearn.model_selection import train_test_split"
   ]
  },
  {
   "cell_type": "code",
   "execution_count": 50,
   "metadata": {},
   "outputs": [],
   "source": [
    "X_train, X_test, y_train, y_test = train_test_split(\n",
    "        train, is_promoted, test_size=0.30, random_state=42)"
   ]
  },
  {
   "cell_type": "code",
   "execution_count": 70,
   "metadata": {},
   "outputs": [
    {
     "data": {
      "text/plain": [
       "RandomForestClassifier(bootstrap=True, class_weight=None, criterion='entropy',\n",
       "            max_depth=15, max_features='auto', max_leaf_nodes=None,\n",
       "            min_impurity_decrease=0.0, min_impurity_split=None,\n",
       "            min_samples_leaf=1, min_samples_split=2,\n",
       "            min_weight_fraction_leaf=0.0, n_estimators=200, n_jobs=1,\n",
       "            oob_score=False, random_state=None, verbose=0,\n",
       "            warm_start=False)"
      ]
     },
     "execution_count": 70,
     "metadata": {},
     "output_type": "execute_result"
    }
   ],
   "source": [
    "rf1= RandomForestClassifier(n_estimators=200,criterion='entropy',max_depth=15)\n",
    "rf1.fit(X_train,y_train)"
   ]
  },
  {
   "cell_type": "code",
   "execution_count": 71,
   "metadata": {},
   "outputs": [],
   "source": [
    "predictions=rf1.predict(X_test)"
   ]
  },
  {
   "cell_type": "code",
   "execution_count": 72,
   "metadata": {},
   "outputs": [],
   "source": [
    "from sklearn.metrics import f1_score"
   ]
  },
  {
   "cell_type": "code",
   "execution_count": 73,
   "metadata": {},
   "outputs": [
    {
     "data": {
      "text/plain": [
       "0.5147864184008762"
      ]
     },
     "execution_count": 73,
     "metadata": {},
     "output_type": "execute_result"
    }
   ],
   "source": [
    "f1_score(y_test,predictions)"
   ]
  },
  {
   "cell_type": "code",
   "execution_count": 101,
   "metadata": {},
   "outputs": [
    {
     "data": {
      "text/plain": [
       "0.5108695652173912"
      ]
     },
     "execution_count": 101,
     "metadata": {},
     "output_type": "execute_result"
    }
   ],
   "source": [
    "rf3= RandomForestClassifier(n_estimators=200,criterion='entropy',max_depth=18)\n",
    "rf3.fit(X_train,y_train)\n",
    "predictions=rf3.predict(X_test)\n",
    "f1_score(y_test,predictions)"
   ]
  },
  {
   "cell_type": "code",
   "execution_count": 74,
   "metadata": {},
   "outputs": [],
   "source": [
    "rf2= RandomForestClassifier(n_estimators=200,criterion='entropy',max_depth=15)\n",
    "cvscore2=cross_val_score(rf, train, is_promoted,cv=10,scoring='f1')  "
   ]
  },
  {
   "cell_type": "code",
   "execution_count": 77,
   "metadata": {},
   "outputs": [
    {
     "data": {
      "text/plain": [
       "0.5060794937857359"
      ]
     },
     "execution_count": 77,
     "metadata": {},
     "output_type": "execute_result"
    }
   ],
   "source": [
    "cvscore2.mean()"
   ]
  },
  {
   "cell_type": "code",
   "execution_count": 78,
   "metadata": {},
   "outputs": [
    {
     "data": {
      "text/plain": [
       "0.5040169128609764"
      ]
     },
     "execution_count": 78,
     "metadata": {},
     "output_type": "execute_result"
    }
   ],
   "source": [
    "cvscore.mean()"
   ]
  },
  {
   "cell_type": "markdown",
   "metadata": {},
   "source": [
    "# Gradient Boosting"
   ]
  },
  {
   "cell_type": "code",
   "execution_count": 80,
   "metadata": {},
   "outputs": [],
   "source": [
    "import xgboost"
   ]
  },
  {
   "cell_type": "code",
   "execution_count": 106,
   "metadata": {},
   "outputs": [],
   "source": [
    "xg=xgboost.XGBClassifier(booster='gbtree',max_depth=10,n_estimators=100,objective='reg:logistic',\\\n",
    "                         colsample_bytree=0.7,subsample=0.8)"
   ]
  },
  {
   "cell_type": "code",
   "execution_count": 103,
   "metadata": {},
   "outputs": [
    {
     "data": {
      "text/plain": [
       "XGBClassifier(base_score=0.5, booster='gbtree', colsample_bylevel=1,\n",
       "       colsample_bytree=0.7, gamma=0, learning_rate=0.1, max_delta_step=0,\n",
       "       max_depth=10, min_child_weight=1, missing=None, n_estimators=200,\n",
       "       n_jobs=1, nthread=None, objective='reg:logistic', random_state=0,\n",
       "       reg_alpha=0, reg_lambda=1, scale_pos_weight=1, seed=None,\n",
       "       silent=True, subsample=0.8)"
      ]
     },
     "execution_count": 103,
     "metadata": {},
     "output_type": "execute_result"
    }
   ],
   "source": [
    "xg.fit(X_train,y_train)"
   ]
  },
  {
   "cell_type": "code",
   "execution_count": 104,
   "metadata": {},
   "outputs": [
    {
     "name": "stderr",
     "output_type": "stream",
     "text": [
      "C:\\Users\\User\\Anaconda3\\lib\\site-packages\\sklearn\\preprocessing\\label.py:151: DeprecationWarning: The truth value of an empty array is ambiguous. Returning False, but in future this will result in an error. Use `array.size > 0` to check that an array is not empty.\n",
      "  if diff:\n"
     ]
    },
    {
     "data": {
      "text/plain": [
       "0.5025693730729701"
      ]
     },
     "execution_count": 104,
     "metadata": {},
     "output_type": "execute_result"
    }
   ],
   "source": [
    "pred=xg.predict(X_test)\n",
    "f1_score(y_test,pred)"
   ]
  },
  {
   "cell_type": "code",
   "execution_count": 107,
   "metadata": {},
   "outputs": [
    {
     "name": "stderr",
     "output_type": "stream",
     "text": [
      "C:\\Users\\User\\Anaconda3\\lib\\site-packages\\sklearn\\preprocessing\\label.py:151: DeprecationWarning: The truth value of an empty array is ambiguous. Returning False, but in future this will result in an error. Use `array.size > 0` to check that an array is not empty.\n",
      "  if diff:\n",
      "C:\\Users\\User\\Anaconda3\\lib\\site-packages\\sklearn\\preprocessing\\label.py:151: DeprecationWarning: The truth value of an empty array is ambiguous. Returning False, but in future this will result in an error. Use `array.size > 0` to check that an array is not empty.\n",
      "  if diff:\n",
      "C:\\Users\\User\\Anaconda3\\lib\\site-packages\\sklearn\\preprocessing\\label.py:151: DeprecationWarning: The truth value of an empty array is ambiguous. Returning False, but in future this will result in an error. Use `array.size > 0` to check that an array is not empty.\n",
      "  if diff:\n",
      "C:\\Users\\User\\Anaconda3\\lib\\site-packages\\sklearn\\preprocessing\\label.py:151: DeprecationWarning: The truth value of an empty array is ambiguous. Returning False, but in future this will result in an error. Use `array.size > 0` to check that an array is not empty.\n",
      "  if diff:\n",
      "C:\\Users\\User\\Anaconda3\\lib\\site-packages\\sklearn\\preprocessing\\label.py:151: DeprecationWarning: The truth value of an empty array is ambiguous. Returning False, but in future this will result in an error. Use `array.size > 0` to check that an array is not empty.\n",
      "  if diff:\n",
      "C:\\Users\\User\\Anaconda3\\lib\\site-packages\\sklearn\\preprocessing\\label.py:151: DeprecationWarning: The truth value of an empty array is ambiguous. Returning False, but in future this will result in an error. Use `array.size > 0` to check that an array is not empty.\n",
      "  if diff:\n",
      "C:\\Users\\User\\Anaconda3\\lib\\site-packages\\sklearn\\preprocessing\\label.py:151: DeprecationWarning: The truth value of an empty array is ambiguous. Returning False, but in future this will result in an error. Use `array.size > 0` to check that an array is not empty.\n",
      "  if diff:\n",
      "C:\\Users\\User\\Anaconda3\\lib\\site-packages\\sklearn\\preprocessing\\label.py:151: DeprecationWarning: The truth value of an empty array is ambiguous. Returning False, but in future this will result in an error. Use `array.size > 0` to check that an array is not empty.\n",
      "  if diff:\n",
      "C:\\Users\\User\\Anaconda3\\lib\\site-packages\\sklearn\\preprocessing\\label.py:151: DeprecationWarning: The truth value of an empty array is ambiguous. Returning False, but in future this will result in an error. Use `array.size > 0` to check that an array is not empty.\n",
      "  if diff:\n",
      "C:\\Users\\User\\Anaconda3\\lib\\site-packages\\sklearn\\preprocessing\\label.py:151: DeprecationWarning: The truth value of an empty array is ambiguous. Returning False, but in future this will result in an error. Use `array.size > 0` to check that an array is not empty.\n",
      "  if diff:\n"
     ]
    },
    {
     "data": {
      "text/plain": [
       "array([0.50231125, 0.51376147, 0.47900467, 0.51963746, 0.47226624,\n",
       "       0.52968037, 0.51515152, 0.54354354, 0.51242236, 0.4992343 ])"
      ]
     },
     "execution_count": 107,
     "metadata": {},
     "output_type": "execute_result"
    }
   ],
   "source": [
    "cvscore=cross_val_score(xg, train, is_promoted,cv=10,scoring='f1')  \n",
    "cvscore"
   ]
  },
  {
   "cell_type": "code",
   "execution_count": 117,
   "metadata": {},
   "outputs": [],
   "source": [
    "xg1=xgboost.XGBClassifier(booster='dart',n_estimators=200,objective='reg:logistic',\\\n",
    "                         colsample_bytree=0.7,subsample=0.8)"
   ]
  },
  {
   "cell_type": "code",
   "execution_count": 115,
   "metadata": {},
   "outputs": [
    {
     "data": {
      "text/plain": [
       "XGBClassifier(base_score=0.5, booster='dart', colsample_bylevel=1,\n",
       "       colsample_bytree=0.7, gamma=0, learning_rate=0.1, max_delta_step=0,\n",
       "       max_depth=3, min_child_weight=1, missing=None, n_estimators=200,\n",
       "       n_jobs=1, nthread=None, objective='reg:logistic', random_state=0,\n",
       "       reg_alpha=0, reg_lambda=1, scale_pos_weight=1, seed=None,\n",
       "       silent=True, subsample=0.8)"
      ]
     },
     "execution_count": 115,
     "metadata": {},
     "output_type": "execute_result"
    }
   ],
   "source": [
    "xg1.fit(X_train,y_train)"
   ]
  },
  {
   "cell_type": "code",
   "execution_count": 116,
   "metadata": {},
   "outputs": [
    {
     "name": "stderr",
     "output_type": "stream",
     "text": [
      "C:\\Users\\User\\Anaconda3\\lib\\site-packages\\sklearn\\preprocessing\\label.py:151: DeprecationWarning: The truth value of an empty array is ambiguous. Returning False, but in future this will result in an error. Use `array.size > 0` to check that an array is not empty.\n",
      "  if diff:\n"
     ]
    },
    {
     "data": {
      "text/plain": [
       "0.5142543859649124"
      ]
     },
     "execution_count": 116,
     "metadata": {},
     "output_type": "execute_result"
    }
   ],
   "source": [
    "pred=xg1.predict(X_test)\n",
    "f1_score(y_test,pred)"
   ]
  },
  {
   "cell_type": "code",
   "execution_count": 118,
   "metadata": {},
   "outputs": [
    {
     "name": "stderr",
     "output_type": "stream",
     "text": [
      "C:\\Users\\User\\Anaconda3\\lib\\site-packages\\sklearn\\preprocessing\\label.py:151: DeprecationWarning: The truth value of an empty array is ambiguous. Returning False, but in future this will result in an error. Use `array.size > 0` to check that an array is not empty.\n",
      "  if diff:\n",
      "C:\\Users\\User\\Anaconda3\\lib\\site-packages\\sklearn\\preprocessing\\label.py:151: DeprecationWarning: The truth value of an empty array is ambiguous. Returning False, but in future this will result in an error. Use `array.size > 0` to check that an array is not empty.\n",
      "  if diff:\n",
      "C:\\Users\\User\\Anaconda3\\lib\\site-packages\\sklearn\\preprocessing\\label.py:151: DeprecationWarning: The truth value of an empty array is ambiguous. Returning False, but in future this will result in an error. Use `array.size > 0` to check that an array is not empty.\n",
      "  if diff:\n",
      "C:\\Users\\User\\Anaconda3\\lib\\site-packages\\sklearn\\preprocessing\\label.py:151: DeprecationWarning: The truth value of an empty array is ambiguous. Returning False, but in future this will result in an error. Use `array.size > 0` to check that an array is not empty.\n",
      "  if diff:\n",
      "C:\\Users\\User\\Anaconda3\\lib\\site-packages\\sklearn\\preprocessing\\label.py:151: DeprecationWarning: The truth value of an empty array is ambiguous. Returning False, but in future this will result in an error. Use `array.size > 0` to check that an array is not empty.\n",
      "  if diff:\n",
      "C:\\Users\\User\\Anaconda3\\lib\\site-packages\\sklearn\\preprocessing\\label.py:151: DeprecationWarning: The truth value of an empty array is ambiguous. Returning False, but in future this will result in an error. Use `array.size > 0` to check that an array is not empty.\n",
      "  if diff:\n",
      "C:\\Users\\User\\Anaconda3\\lib\\site-packages\\sklearn\\preprocessing\\label.py:151: DeprecationWarning: The truth value of an empty array is ambiguous. Returning False, but in future this will result in an error. Use `array.size > 0` to check that an array is not empty.\n",
      "  if diff:\n",
      "C:\\Users\\User\\Anaconda3\\lib\\site-packages\\sklearn\\preprocessing\\label.py:151: DeprecationWarning: The truth value of an empty array is ambiguous. Returning False, but in future this will result in an error. Use `array.size > 0` to check that an array is not empty.\n",
      "  if diff:\n",
      "C:\\Users\\User\\Anaconda3\\lib\\site-packages\\sklearn\\preprocessing\\label.py:151: DeprecationWarning: The truth value of an empty array is ambiguous. Returning False, but in future this will result in an error. Use `array.size > 0` to check that an array is not empty.\n",
      "  if diff:\n",
      "C:\\Users\\User\\Anaconda3\\lib\\site-packages\\sklearn\\preprocessing\\label.py:151: DeprecationWarning: The truth value of an empty array is ambiguous. Returning False, but in future this will result in an error. Use `array.size > 0` to check that an array is not empty.\n",
      "  if diff:\n"
     ]
    },
    {
     "data": {
      "text/plain": [
       "array([0.49363057, 0.51643192, 0.47665056, 0.52321981, 0.4847512 ,\n",
       "       0.52923077, 0.52201258, 0.54211332, 0.50318471, 0.48973144])"
      ]
     },
     "execution_count": 118,
     "metadata": {},
     "output_type": "execute_result"
    }
   ],
   "source": [
    "cvscore=cross_val_score(xg1, train, is_promoted,cv=10,scoring='f1')  \n",
    "cvscore"
   ]
  },
  {
   "cell_type": "code",
   "execution_count": null,
   "metadata": {},
   "outputs": [],
   "source": []
  },
  {
   "cell_type": "markdown",
   "metadata": {},
   "source": [
    "# neural netwrok"
   ]
  },
  {
   "cell_type": "code",
   "execution_count": 119,
   "metadata": {},
   "outputs": [],
   "source": [
    "from sklearn.neural_network import MLPClassifier"
   ]
  },
  {
   "cell_type": "code",
   "execution_count": 149,
   "metadata": {},
   "outputs": [],
   "source": [
    "mlp=MLPClassifier(hidden_layer_sizes=(100,150,100),activation='logistic',learning_rate='adaptive',solver='adam')"
   ]
  },
  {
   "cell_type": "code",
   "execution_count": 150,
   "metadata": {},
   "outputs": [
    {
     "data": {
      "text/plain": [
       "MLPClassifier(activation='logistic', alpha=0.0001, batch_size='auto',\n",
       "       beta_1=0.9, beta_2=0.999, early_stopping=False, epsilon=1e-08,\n",
       "       hidden_layer_sizes=(100, 150, 100), learning_rate='adaptive',\n",
       "       learning_rate_init=0.001, max_iter=200, momentum=0.9,\n",
       "       nesterovs_momentum=True, power_t=0.5, random_state=None,\n",
       "       shuffle=True, solver='adam', tol=0.0001, validation_fraction=0.1,\n",
       "       verbose=False, warm_start=False)"
      ]
     },
     "execution_count": 150,
     "metadata": {},
     "output_type": "execute_result"
    }
   ],
   "source": [
    "mlp.fit(X_train,y_train)"
   ]
  },
  {
   "cell_type": "code",
   "execution_count": 151,
   "metadata": {},
   "outputs": [
    {
     "data": {
      "text/plain": [
       "0.5080906148867314"
      ]
     },
     "execution_count": 151,
     "metadata": {},
     "output_type": "execute_result"
    }
   ],
   "source": [
    "preds=mlp.predict(X_test)\n",
    "f1_score(y_test,preds)"
   ]
  },
  {
   "cell_type": "markdown",
   "metadata": {},
   "source": [
    "# SVM"
   ]
  },
  {
   "cell_type": "code",
   "execution_count": 152,
   "metadata": {},
   "outputs": [
    {
     "data": {
      "text/plain": [
       "SVC(C=1.0, cache_size=200, class_weight=None, coef0=0.0,\n",
       "  decision_function_shape='ovr', degree=3, gamma='auto', kernel='rbf',\n",
       "  max_iter=-1, probability=False, random_state=None, shrinking=True,\n",
       "  tol=0.001, verbose=False)"
      ]
     },
     "execution_count": 152,
     "metadata": {},
     "output_type": "execute_result"
    }
   ],
   "source": [
    "from sklearn.svm import SVC\n",
    "clf = SVC()\n",
    "clf.fit(X_train, y_train) "
   ]
  },
  {
   "cell_type": "code",
   "execution_count": 153,
   "metadata": {},
   "outputs": [
    {
     "data": {
      "text/plain": [
       "0.43604651162790686"
      ]
     },
     "execution_count": 153,
     "metadata": {},
     "output_type": "execute_result"
    }
   ],
   "source": [
    "pred=clf.predict(X_test)\n",
    "f1_score(y_test,pred)"
   ]
  },
  {
   "cell_type": "code",
   "execution_count": 154,
   "metadata": {},
   "outputs": [
    {
     "data": {
      "text/plain": [
       "SVC(C=0.8, cache_size=200, class_weight=None, coef0=0.0,\n",
       "  decision_function_shape='ovr', degree=3, gamma='auto', kernel='rbf',\n",
       "  max_iter=-1, probability=False, random_state=None, shrinking=True,\n",
       "  tol=0.001, verbose=False)"
      ]
     },
     "execution_count": 154,
     "metadata": {},
     "output_type": "execute_result"
    }
   ],
   "source": [
    "from sklearn.svm import SVC\n",
    "clf = SVC(C=0.8)\n",
    "clf.fit(X_train, y_train) "
   ]
  },
  {
   "cell_type": "code",
   "execution_count": 155,
   "metadata": {},
   "outputs": [
    {
     "data": {
      "text/plain": [
       "0.4299065420560748"
      ]
     },
     "execution_count": 155,
     "metadata": {},
     "output_type": "execute_result"
    }
   ],
   "source": [
    "pred=clf.predict(X_test)\n",
    "f1_score(y_test,pred)"
   ]
  },
  {
   "cell_type": "markdown",
   "metadata": {},
   "source": [
    "# Keras"
   ]
  },
  {
   "cell_type": "code",
   "execution_count": 248,
   "metadata": {},
   "outputs": [
    {
     "data": {
      "text/html": [
       "<div>\n",
       "<style>\n",
       "    .dataframe thead tr:only-child th {\n",
       "        text-align: right;\n",
       "    }\n",
       "\n",
       "    .dataframe thead th {\n",
       "        text-align: left;\n",
       "    }\n",
       "\n",
       "    .dataframe tbody tr th {\n",
       "        vertical-align: top;\n",
       "    }\n",
       "</style>\n",
       "<table border=\"1\" class=\"dataframe\">\n",
       "  <thead>\n",
       "    <tr style=\"text-align: right;\">\n",
       "      <th></th>\n",
       "      <th>no_of_trainings</th>\n",
       "      <th>age</th>\n",
       "      <th>previous_year_rating</th>\n",
       "      <th>length_of_service</th>\n",
       "      <th>KPIs_met &gt;80%</th>\n",
       "      <th>awards_won?</th>\n",
       "      <th>avg_training_score</th>\n",
       "      <th>is_gt_avg_training</th>\n",
       "      <th>is_dept_gt_avg_training</th>\n",
       "      <th>dept_avg_training</th>\n",
       "      <th>training_service_ratio</th>\n",
       "      <th>KPImet_and_Awardwon</th>\n",
       "      <th>score_minus_rating</th>\n",
       "      <th>score/rating</th>\n",
       "      <th>training_score minus dept avg score</th>\n",
       "      <th>rating minus dept avg rating</th>\n",
       "      <th>prob_intra_dept</th>\n",
       "      <th>prob_inter_dept</th>\n",
       "      <th>prob_intra_region</th>\n",
       "      <th>prob_inter_region</th>\n",
       "      <th>prob_intra_gender</th>\n",
       "      <th>prob_inter_gender</th>\n",
       "      <th>prob_intra_recruits</th>\n",
       "      <th>prob_inter_recruits</th>\n",
       "    </tr>\n",
       "  </thead>\n",
       "  <tbody>\n",
       "    <tr>\n",
       "      <th>0</th>\n",
       "      <td>1</td>\n",
       "      <td>35</td>\n",
       "      <td>5.0</td>\n",
       "      <td>8</td>\n",
       "      <td>1</td>\n",
       "      <td>0</td>\n",
       "      <td>49</td>\n",
       "      <td>-1</td>\n",
       "      <td>-1</td>\n",
       "      <td>1.274643</td>\n",
       "      <td>0.125000</td>\n",
       "      <td>0</td>\n",
       "      <td>-51.0</td>\n",
       "      <td>0.490000</td>\n",
       "      <td>-1.208487</td>\n",
       "      <td>1.931194</td>\n",
       "      <td>0.072031</td>\n",
       "      <td>0.259854</td>\n",
       "      <td>0.106546</td>\n",
       "      <td>0.110540</td>\n",
       "      <td>0.089934</td>\n",
       "      <td>0.314267</td>\n",
       "      <td>0.085013</td>\n",
       "      <td>0.422879</td>\n",
       "    </tr>\n",
       "    <tr>\n",
       "      <th>1</th>\n",
       "      <td>1</td>\n",
       "      <td>30</td>\n",
       "      <td>5.0</td>\n",
       "      <td>4</td>\n",
       "      <td>0</td>\n",
       "      <td>0</td>\n",
       "      <td>60</td>\n",
       "      <td>-1</td>\n",
       "      <td>-1</td>\n",
       "      <td>1.164908</td>\n",
       "      <td>0.250000</td>\n",
       "      <td>0</td>\n",
       "      <td>-40.0</td>\n",
       "      <td>0.600000</td>\n",
       "      <td>-0.248572</td>\n",
       "      <td>1.341857</td>\n",
       "      <td>0.090148</td>\n",
       "      <td>0.219152</td>\n",
       "      <td>0.114188</td>\n",
       "      <td>0.157241</td>\n",
       "      <td>0.083151</td>\n",
       "      <td>0.685733</td>\n",
       "      <td>0.083952</td>\n",
       "      <td>0.547558</td>\n",
       "    </tr>\n",
       "    <tr>\n",
       "      <th>2</th>\n",
       "      <td>1</td>\n",
       "      <td>34</td>\n",
       "      <td>3.0</td>\n",
       "      <td>7</td>\n",
       "      <td>0</td>\n",
       "      <td>0</td>\n",
       "      <td>50</td>\n",
       "      <td>-1</td>\n",
       "      <td>-1</td>\n",
       "      <td>1.274643</td>\n",
       "      <td>0.142857</td>\n",
       "      <td>0</td>\n",
       "      <td>-10.0</td>\n",
       "      <td>0.833333</td>\n",
       "      <td>-0.208487</td>\n",
       "      <td>-0.068806</td>\n",
       "      <td>0.072031</td>\n",
       "      <td>0.259854</td>\n",
       "      <td>0.060641</td>\n",
       "      <td>0.011354</td>\n",
       "      <td>0.083151</td>\n",
       "      <td>0.685733</td>\n",
       "      <td>0.085013</td>\n",
       "      <td>0.422879</td>\n",
       "    </tr>\n",
       "    <tr>\n",
       "      <th>3</th>\n",
       "      <td>2</td>\n",
       "      <td>39</td>\n",
       "      <td>1.0</td>\n",
       "      <td>10</td>\n",
       "      <td>0</td>\n",
       "      <td>0</td>\n",
       "      <td>50</td>\n",
       "      <td>1</td>\n",
       "      <td>1</td>\n",
       "      <td>1.274643</td>\n",
       "      <td>0.200000</td>\n",
       "      <td>0</td>\n",
       "      <td>30.0</td>\n",
       "      <td>2.500000</td>\n",
       "      <td>-0.208487</td>\n",
       "      <td>-2.068806</td>\n",
       "      <td>0.072031</td>\n",
       "      <td>0.259854</td>\n",
       "      <td>0.116596</td>\n",
       "      <td>0.029349</td>\n",
       "      <td>0.083151</td>\n",
       "      <td>0.685733</td>\n",
       "      <td>0.083952</td>\n",
       "      <td>0.547558</td>\n",
       "    </tr>\n",
       "    <tr>\n",
       "      <th>4</th>\n",
       "      <td>1</td>\n",
       "      <td>45</td>\n",
       "      <td>3.0</td>\n",
       "      <td>2</td>\n",
       "      <td>0</td>\n",
       "      <td>0</td>\n",
       "      <td>73</td>\n",
       "      <td>-1</td>\n",
       "      <td>-1</td>\n",
       "      <td>1.256380</td>\n",
       "      <td>0.500000</td>\n",
       "      <td>0</td>\n",
       "      <td>13.0</td>\n",
       "      <td>1.216667</td>\n",
       "      <td>-6.908464</td>\n",
       "      <td>-0.144448</td>\n",
       "      <td>0.107593</td>\n",
       "      <td>0.164524</td>\n",
       "      <td>0.063274</td>\n",
       "      <td>0.030634</td>\n",
       "      <td>0.083151</td>\n",
       "      <td>0.685733</td>\n",
       "      <td>0.083952</td>\n",
       "      <td>0.547558</td>\n",
       "    </tr>\n",
       "  </tbody>\n",
       "</table>\n",
       "</div>"
      ],
      "text/plain": [
       "   no_of_trainings  age  previous_year_rating  length_of_service  \\\n",
       "0                1   35                   5.0                  8   \n",
       "1                1   30                   5.0                  4   \n",
       "2                1   34                   3.0                  7   \n",
       "3                2   39                   1.0                 10   \n",
       "4                1   45                   3.0                  2   \n",
       "\n",
       "   KPIs_met >80%  awards_won?  avg_training_score  is_gt_avg_training  \\\n",
       "0              1            0                  49                  -1   \n",
       "1              0            0                  60                  -1   \n",
       "2              0            0                  50                  -1   \n",
       "3              0            0                  50                   1   \n",
       "4              0            0                  73                  -1   \n",
       "\n",
       "   is_dept_gt_avg_training  dept_avg_training  training_service_ratio  \\\n",
       "0                       -1           1.274643                0.125000   \n",
       "1                       -1           1.164908                0.250000   \n",
       "2                       -1           1.274643                0.142857   \n",
       "3                        1           1.274643                0.200000   \n",
       "4                       -1           1.256380                0.500000   \n",
       "\n",
       "   KPImet_and_Awardwon  score_minus_rating  score/rating  \\\n",
       "0                    0               -51.0      0.490000   \n",
       "1                    0               -40.0      0.600000   \n",
       "2                    0               -10.0      0.833333   \n",
       "3                    0                30.0      2.500000   \n",
       "4                    0                13.0      1.216667   \n",
       "\n",
       "   training_score minus dept avg score  rating minus dept avg rating  \\\n",
       "0                            -1.208487                      1.931194   \n",
       "1                            -0.248572                      1.341857   \n",
       "2                            -0.208487                     -0.068806   \n",
       "3                            -0.208487                     -2.068806   \n",
       "4                            -6.908464                     -0.144448   \n",
       "\n",
       "   prob_intra_dept  prob_inter_dept  prob_intra_region  prob_inter_region  \\\n",
       "0         0.072031         0.259854           0.106546           0.110540   \n",
       "1         0.090148         0.219152           0.114188           0.157241   \n",
       "2         0.072031         0.259854           0.060641           0.011354   \n",
       "3         0.072031         0.259854           0.116596           0.029349   \n",
       "4         0.107593         0.164524           0.063274           0.030634   \n",
       "\n",
       "   prob_intra_gender  prob_inter_gender  prob_intra_recruits  \\\n",
       "0           0.089934           0.314267             0.085013   \n",
       "1           0.083151           0.685733             0.083952   \n",
       "2           0.083151           0.685733             0.085013   \n",
       "3           0.083151           0.685733             0.083952   \n",
       "4           0.083151           0.685733             0.083952   \n",
       "\n",
       "   prob_inter_recruits  \n",
       "0             0.422879  \n",
       "1             0.547558  \n",
       "2             0.422879  \n",
       "3             0.547558  \n",
       "4             0.547558  "
      ]
     },
     "execution_count": 248,
     "metadata": {},
     "output_type": "execute_result"
    }
   ],
   "source": [
    "train.head()"
   ]
  },
  {
   "cell_type": "code",
   "execution_count": null,
   "metadata": {},
   "outputs": [],
   "source": [
    "X_train1, X_test1, y_train1, y_test1 = train_test_split(\n",
    "        trains, is_promoted, test_size=0.30, random_state=42)"
   ]
  },
  {
   "cell_type": "code",
   "execution_count": 166,
   "metadata": {},
   "outputs": [
    {
     "data": {
      "text/html": [
       "<div>\n",
       "<style>\n",
       "    .dataframe thead tr:only-child th {\n",
       "        text-align: right;\n",
       "    }\n",
       "\n",
       "    .dataframe thead th {\n",
       "        text-align: left;\n",
       "    }\n",
       "\n",
       "    .dataframe tbody tr th {\n",
       "        vertical-align: top;\n",
       "    }\n",
       "</style>\n",
       "<table border=\"1\" class=\"dataframe\">\n",
       "  <thead>\n",
       "    <tr style=\"text-align: right;\">\n",
       "      <th></th>\n",
       "      <th>0</th>\n",
       "      <th>1</th>\n",
       "    </tr>\n",
       "  </thead>\n",
       "  <tbody>\n",
       "    <tr>\n",
       "      <th>3113</th>\n",
       "      <td>1</td>\n",
       "      <td>0</td>\n",
       "    </tr>\n",
       "    <tr>\n",
       "      <th>118</th>\n",
       "      <td>0</td>\n",
       "      <td>1</td>\n",
       "    </tr>\n",
       "    <tr>\n",
       "      <th>17005</th>\n",
       "      <td>1</td>\n",
       "      <td>0</td>\n",
       "    </tr>\n",
       "    <tr>\n",
       "      <th>14505</th>\n",
       "      <td>1</td>\n",
       "      <td>0</td>\n",
       "    </tr>\n",
       "    <tr>\n",
       "      <th>31487</th>\n",
       "      <td>1</td>\n",
       "      <td>0</td>\n",
       "    </tr>\n",
       "  </tbody>\n",
       "</table>\n",
       "</div>"
      ],
      "text/plain": [
       "       0  1\n",
       "3113   1  0\n",
       "118    0  1\n",
       "17005  1  0\n",
       "14505  1  0\n",
       "31487  1  0"
      ]
     },
     "execution_count": 166,
     "metadata": {},
     "output_type": "execute_result"
    }
   ],
   "source": [
    "y_train1=pd.get_dummies(y_train)\n",
    "y_train1.head()"
   ]
  },
  {
   "cell_type": "code",
   "execution_count": 167,
   "metadata": {},
   "outputs": [
    {
     "data": {
      "text/plain": [
       "3113     0\n",
       "118      1\n",
       "17005    0\n",
       "14505    0\n",
       "31487    0\n",
       "Name: is_promoted, dtype: int64"
      ]
     },
     "execution_count": 167,
     "metadata": {},
     "output_type": "execute_result"
    }
   ],
   "source": [
    "y_train.head()"
   ]
  },
  {
   "cell_type": "code",
   "execution_count": 168,
   "metadata": {},
   "outputs": [
    {
     "data": {
      "text/html": [
       "<div>\n",
       "<style>\n",
       "    .dataframe thead tr:only-child th {\n",
       "        text-align: right;\n",
       "    }\n",
       "\n",
       "    .dataframe thead th {\n",
       "        text-align: left;\n",
       "    }\n",
       "\n",
       "    .dataframe tbody tr th {\n",
       "        vertical-align: top;\n",
       "    }\n",
       "</style>\n",
       "<table border=\"1\" class=\"dataframe\">\n",
       "  <thead>\n",
       "    <tr style=\"text-align: right;\">\n",
       "      <th></th>\n",
       "      <th>0</th>\n",
       "      <th>1</th>\n",
       "    </tr>\n",
       "  </thead>\n",
       "  <tbody>\n",
       "    <tr>\n",
       "      <th>40907</th>\n",
       "      <td>1</td>\n",
       "      <td>0</td>\n",
       "    </tr>\n",
       "    <tr>\n",
       "      <th>51939</th>\n",
       "      <td>1</td>\n",
       "      <td>0</td>\n",
       "    </tr>\n",
       "    <tr>\n",
       "      <th>6978</th>\n",
       "      <td>1</td>\n",
       "      <td>0</td>\n",
       "    </tr>\n",
       "    <tr>\n",
       "      <th>12814</th>\n",
       "      <td>1</td>\n",
       "      <td>0</td>\n",
       "    </tr>\n",
       "    <tr>\n",
       "      <th>22921</th>\n",
       "      <td>1</td>\n",
       "      <td>0</td>\n",
       "    </tr>\n",
       "  </tbody>\n",
       "</table>\n",
       "</div>"
      ],
      "text/plain": [
       "       0  1\n",
       "40907  1  0\n",
       "51939  1  0\n",
       "6978   1  0\n",
       "12814  1  0\n",
       "22921  1  0"
      ]
     },
     "execution_count": 168,
     "metadata": {},
     "output_type": "execute_result"
    }
   ],
   "source": [
    "y_test1=pd.get_dummies(y_test)\n",
    "y_test1.head()"
   ]
  },
  {
   "cell_type": "code",
   "execution_count": 186,
   "metadata": {},
   "outputs": [],
   "source": [
    "import numpy as np\n",
    "from keras.models import Sequential\n",
    "from keras.layers import Dense, Dropout\n",
    "\n",
    "# Generate dummy data\n",
    "\n",
    "model = Sequential()\n",
    "model.add(Dense(20, input_dim=X_train.shape[1], activation='relu'))\n",
    "model.add(Dropout(0.1))\n",
    "model.add(Dense(20, activation='relu'))\n",
    "model.add(Dropout(0.1))\n",
    "model.add(Dense(2, activation='sigmoid'))\n",
    "\n",
    "model.compile(loss='binary_crossentropy',\n",
    "              optimizer='rmsprop',\n",
    "              metrics=['accuracy'])"
   ]
  },
  {
   "cell_type": "code",
   "execution_count": 187,
   "metadata": {},
   "outputs": [
    {
     "name": "stdout",
     "output_type": "stream",
     "text": [
      "Train on 38365 samples, validate on 16443 samples\n",
      "Epoch 1/20\n",
      "38365/38365 [==============================] - 2s 60us/step - loss: 0.6775 - acc: 0.8348 - val_loss: 0.2212 - val_acc: 0.9402\n",
      "Epoch 2/20\n",
      "38365/38365 [==============================] - 1s 38us/step - loss: 0.2440 - acc: 0.9337 - val_loss: 0.2067 - val_acc: 0.9443\n",
      "Epoch 3/20\n",
      "38365/38365 [==============================] - 2s 44us/step - loss: 0.2267 - acc: 0.9373 - val_loss: 0.1984 - val_acc: 0.9451\n",
      "Epoch 4/20\n",
      "38365/38365 [==============================] - 2s 46us/step - loss: 0.2168 - acc: 0.9389 - val_loss: 0.1901 - val_acc: 0.9446\n",
      "Epoch 5/20\n",
      "38365/38365 [==============================] - 2s 42us/step - loss: 0.2083 - acc: 0.9396 - val_loss: 0.1809 - val_acc: 0.9453\n",
      "Epoch 6/20\n",
      "38365/38365 [==============================] - 2s 45us/step - loss: 0.2016 - acc: 0.9397 - val_loss: 0.1735 - val_acc: 0.9451\n",
      "Epoch 7/20\n",
      "38365/38365 [==============================] - 2s 41us/step - loss: 0.1946 - acc: 0.9398 - val_loss: 0.1735 - val_acc: 0.9446\n",
      "Epoch 8/20\n",
      "38365/38365 [==============================] - 2s 40us/step - loss: 0.1877 - acc: 0.9402 - val_loss: 0.1676 - val_acc: 0.9452\n",
      "Epoch 9/20\n",
      "38365/38365 [==============================] - 2s 39us/step - loss: 0.1835 - acc: 0.9405 - val_loss: 0.1638 - val_acc: 0.9450\n",
      "Epoch 10/20\n",
      "38365/38365 [==============================] - 2s 45us/step - loss: 0.1809 - acc: 0.9405 - val_loss: 0.1658 - val_acc: 0.9444\n",
      "Epoch 11/20\n",
      "38365/38365 [==============================] - 2s 42us/step - loss: 0.1794 - acc: 0.9408 - val_loss: 0.1628 - val_acc: 0.9448\n",
      "Epoch 12/20\n",
      "38365/38365 [==============================] - 2s 43us/step - loss: 0.1774 - acc: 0.9409 - val_loss: 0.1625 - val_acc: 0.9451\n",
      "Epoch 13/20\n",
      "38365/38365 [==============================] - 2s 43us/step - loss: 0.1765 - acc: 0.9410 - val_loss: 0.1663 - val_acc: 0.9453\n",
      "Epoch 14/20\n",
      "38365/38365 [==============================] - 2s 43us/step - loss: 0.1771 - acc: 0.9407 - val_loss: 0.1627 - val_acc: 0.9446\n",
      "Epoch 15/20\n",
      "38365/38365 [==============================] - 2s 47us/step - loss: 0.1763 - acc: 0.9409 - val_loss: 0.1615 - val_acc: 0.9446\n",
      "Epoch 16/20\n",
      "38365/38365 [==============================] - 2s 62us/step - loss: 0.1752 - acc: 0.9411 - val_loss: 0.1611 - val_acc: 0.9456\n",
      "Epoch 17/20\n",
      "38365/38365 [==============================] - 2s 43us/step - loss: 0.1751 - acc: 0.9411 - val_loss: 0.1615 - val_acc: 0.9451\n",
      "Epoch 18/20\n",
      "38365/38365 [==============================] - 2s 47us/step - loss: 0.1742 - acc: 0.9408 - val_loss: 0.1649 - val_acc: 0.9439\n",
      "Epoch 19/20\n",
      "38365/38365 [==============================] - 1s 39us/step - loss: 0.1748 - acc: 0.9412 - val_loss: 0.1612 - val_acc: 0.9458\n",
      "Epoch 20/20\n",
      "38365/38365 [==============================] - 1s 39us/step - loss: 0.1741 - acc: 0.9409 - val_loss: 0.1610 - val_acc: 0.9455\n"
     ]
    },
    {
     "data": {
      "text/plain": [
       "<keras.callbacks.History at 0x16556c3d198>"
      ]
     },
     "execution_count": 187,
     "metadata": {},
     "output_type": "execute_result"
    }
   ],
   "source": [
    "model.fit(X_train, y_train1,\n",
    "          epochs=20,\n",
    "          batch_size=128,validation_data=(X_test, y_test1))"
   ]
  },
  {
   "cell_type": "code",
   "execution_count": 188,
   "metadata": {},
   "outputs": [],
   "source": [
    "ans=model.predict(X_test)"
   ]
  },
  {
   "cell_type": "code",
   "execution_count": 189,
   "metadata": {},
   "outputs": [
    {
     "data": {
      "text/plain": [
       "array([[9.9991655e-01, 1.3117844e-04],\n",
       "       [9.9999678e-01, 5.9723666e-06],\n",
       "       [9.9484813e-01, 5.1539550e-03],\n",
       "       ...,\n",
       "       [9.6962816e-01, 2.8579032e-02],\n",
       "       [8.2215774e-01, 1.7502470e-01],\n",
       "       [8.3846289e-01, 1.8069690e-01]], dtype=float32)"
      ]
     },
     "execution_count": 189,
     "metadata": {},
     "output_type": "execute_result"
    }
   ],
   "source": [
    "ans"
   ]
  },
  {
   "cell_type": "code",
   "execution_count": 190,
   "metadata": {},
   "outputs": [],
   "source": [
    "ans=np.argmax(ans,axis=1)"
   ]
  },
  {
   "cell_type": "code",
   "execution_count": 191,
   "metadata": {},
   "outputs": [
    {
     "data": {
      "text/plain": [
       "array([0, 0, 0, ..., 0, 0, 0], dtype=int64)"
      ]
     },
     "execution_count": 191,
     "metadata": {},
     "output_type": "execute_result"
    }
   ],
   "source": [
    "ans"
   ]
  },
  {
   "cell_type": "code",
   "execution_count": 192,
   "metadata": {},
   "outputs": [
    {
     "data": {
      "text/plain": [
       "0.5066079295154184"
      ]
     },
     "execution_count": 192,
     "metadata": {},
     "output_type": "execute_result"
    }
   ],
   "source": [
    "f1_score(y_test,ans)"
   ]
  },
  {
   "cell_type": "code",
   "execution_count": 184,
   "metadata": {},
   "outputs": [
    {
     "data": {
      "text/html": [
       "<div>\n",
       "<style>\n",
       "    .dataframe thead tr:only-child th {\n",
       "        text-align: right;\n",
       "    }\n",
       "\n",
       "    .dataframe thead th {\n",
       "        text-align: left;\n",
       "    }\n",
       "\n",
       "    .dataframe tbody tr th {\n",
       "        vertical-align: top;\n",
       "    }\n",
       "</style>\n",
       "<table border=\"1\" class=\"dataframe\">\n",
       "  <thead>\n",
       "    <tr style=\"text-align: right;\">\n",
       "      <th></th>\n",
       "      <th>no_of_trainings</th>\n",
       "      <th>age</th>\n",
       "      <th>previous_year_rating</th>\n",
       "      <th>length_of_service</th>\n",
       "      <th>KPIs_met &gt;80%</th>\n",
       "      <th>awards_won?</th>\n",
       "      <th>avg_training_score</th>\n",
       "      <th>is_gt_avg_training</th>\n",
       "      <th>is_dept_gt_avg_training</th>\n",
       "      <th>dept_avg_training</th>\n",
       "      <th>training_service_ratio</th>\n",
       "      <th>KPImet_and_Awardwon</th>\n",
       "      <th>score_minus_rating</th>\n",
       "      <th>score/rating</th>\n",
       "      <th>training_score minus dept avg score</th>\n",
       "      <th>rating minus dept avg rating</th>\n",
       "      <th>prob_intra_dept</th>\n",
       "      <th>prob_inter_dept</th>\n",
       "      <th>prob_intra_region</th>\n",
       "      <th>prob_inter_region</th>\n",
       "      <th>prob_intra_gender</th>\n",
       "      <th>prob_inter_gender</th>\n",
       "      <th>prob_intra_recruits</th>\n",
       "      <th>prob_inter_recruits</th>\n",
       "    </tr>\n",
       "  </thead>\n",
       "  <tbody>\n",
       "    <tr>\n",
       "      <th>3113</th>\n",
       "      <td>2</td>\n",
       "      <td>26</td>\n",
       "      <td>2.0</td>\n",
       "      <td>3</td>\n",
       "      <td>0</td>\n",
       "      <td>0</td>\n",
       "      <td>77</td>\n",
       "      <td>1</td>\n",
       "      <td>1</td>\n",
       "      <td>1.256380</td>\n",
       "      <td>0.666667</td>\n",
       "      <td>0</td>\n",
       "      <td>37.0</td>\n",
       "      <td>1.925000</td>\n",
       "      <td>-2.908464</td>\n",
       "      <td>-1.144448</td>\n",
       "      <td>0.107593</td>\n",
       "      <td>0.164524</td>\n",
       "      <td>0.066000</td>\n",
       "      <td>0.007069</td>\n",
       "      <td>0.083151</td>\n",
       "      <td>0.685733</td>\n",
       "      <td>0.083952</td>\n",
       "      <td>0.547558</td>\n",
       "    </tr>\n",
       "    <tr>\n",
       "      <th>118</th>\n",
       "      <td>1</td>\n",
       "      <td>27</td>\n",
       "      <td>4.0</td>\n",
       "      <td>4</td>\n",
       "      <td>1</td>\n",
       "      <td>0</td>\n",
       "      <td>72</td>\n",
       "      <td>-1</td>\n",
       "      <td>-1</td>\n",
       "      <td>1.328017</td>\n",
       "      <td>0.250000</td>\n",
       "      <td>0</td>\n",
       "      <td>-8.0</td>\n",
       "      <td>0.900000</td>\n",
       "      <td>1.870545</td>\n",
       "      <td>0.728884</td>\n",
       "      <td>0.096386</td>\n",
       "      <td>0.147386</td>\n",
       "      <td>0.116596</td>\n",
       "      <td>0.029349</td>\n",
       "      <td>0.089934</td>\n",
       "      <td>0.314267</td>\n",
       "      <td>0.083952</td>\n",
       "      <td>0.547558</td>\n",
       "    </tr>\n",
       "    <tr>\n",
       "      <th>17005</th>\n",
       "      <td>3</td>\n",
       "      <td>34</td>\n",
       "      <td>3.0</td>\n",
       "      <td>6</td>\n",
       "      <td>1</td>\n",
       "      <td>0</td>\n",
       "      <td>56</td>\n",
       "      <td>1</td>\n",
       "      <td>1</td>\n",
       "      <td>1.306865</td>\n",
       "      <td>0.500000</td>\n",
       "      <td>0</td>\n",
       "      <td>-4.0</td>\n",
       "      <td>0.933333</td>\n",
       "      <td>-4.252275</td>\n",
       "      <td>-0.460711</td>\n",
       "      <td>0.081230</td>\n",
       "      <td>0.044130</td>\n",
       "      <td>0.116844</td>\n",
       "      <td>0.032991</td>\n",
       "      <td>0.083151</td>\n",
       "      <td>0.685733</td>\n",
       "      <td>0.083952</td>\n",
       "      <td>0.547558</td>\n",
       "    </tr>\n",
       "    <tr>\n",
       "      <th>14505</th>\n",
       "      <td>2</td>\n",
       "      <td>40</td>\n",
       "      <td>5.0</td>\n",
       "      <td>9</td>\n",
       "      <td>1</td>\n",
       "      <td>0</td>\n",
       "      <td>83</td>\n",
       "      <td>1</td>\n",
       "      <td>1</td>\n",
       "      <td>1.341025</td>\n",
       "      <td>0.222222</td>\n",
       "      <td>0</td>\n",
       "      <td>-17.0</td>\n",
       "      <td>0.830000</td>\n",
       "      <td>-1.584278</td>\n",
       "      <td>1.499283</td>\n",
       "      <td>0.095665</td>\n",
       "      <td>0.109683</td>\n",
       "      <td>0.106546</td>\n",
       "      <td>0.110540</td>\n",
       "      <td>0.083151</td>\n",
       "      <td>0.685733</td>\n",
       "      <td>0.083952</td>\n",
       "      <td>0.547558</td>\n",
       "    </tr>\n",
       "    <tr>\n",
       "      <th>31487</th>\n",
       "      <td>1</td>\n",
       "      <td>45</td>\n",
       "      <td>3.0</td>\n",
       "      <td>17</td>\n",
       "      <td>0</td>\n",
       "      <td>0</td>\n",
       "      <td>68</td>\n",
       "      <td>-1</td>\n",
       "      <td>-1</td>\n",
       "      <td>1.328017</td>\n",
       "      <td>0.058824</td>\n",
       "      <td>0</td>\n",
       "      <td>8.0</td>\n",
       "      <td>1.133333</td>\n",
       "      <td>-2.129455</td>\n",
       "      <td>-0.271116</td>\n",
       "      <td>0.096386</td>\n",
       "      <td>0.147386</td>\n",
       "      <td>0.136935</td>\n",
       "      <td>0.023350</td>\n",
       "      <td>0.083151</td>\n",
       "      <td>0.685733</td>\n",
       "      <td>0.083952</td>\n",
       "      <td>0.547558</td>\n",
       "    </tr>\n",
       "  </tbody>\n",
       "</table>\n",
       "</div>"
      ],
      "text/plain": [
       "       no_of_trainings  age  previous_year_rating  length_of_service  \\\n",
       "3113                 2   26                   2.0                  3   \n",
       "118                  1   27                   4.0                  4   \n",
       "17005                3   34                   3.0                  6   \n",
       "14505                2   40                   5.0                  9   \n",
       "31487                1   45                   3.0                 17   \n",
       "\n",
       "       KPIs_met >80%  awards_won?  avg_training_score  is_gt_avg_training  \\\n",
       "3113               0            0                  77                   1   \n",
       "118                1            0                  72                  -1   \n",
       "17005              1            0                  56                   1   \n",
       "14505              1            0                  83                   1   \n",
       "31487              0            0                  68                  -1   \n",
       "\n",
       "       is_dept_gt_avg_training  dept_avg_training  training_service_ratio  \\\n",
       "3113                         1           1.256380                0.666667   \n",
       "118                         -1           1.328017                0.250000   \n",
       "17005                        1           1.306865                0.500000   \n",
       "14505                        1           1.341025                0.222222   \n",
       "31487                       -1           1.328017                0.058824   \n",
       "\n",
       "       KPImet_and_Awardwon  score_minus_rating  score/rating  \\\n",
       "3113                     0                37.0      1.925000   \n",
       "118                      0                -8.0      0.900000   \n",
       "17005                    0                -4.0      0.933333   \n",
       "14505                    0               -17.0      0.830000   \n",
       "31487                    0                 8.0      1.133333   \n",
       "\n",
       "       training_score minus dept avg score  rating minus dept avg rating  \\\n",
       "3113                             -2.908464                     -1.144448   \n",
       "118                               1.870545                      0.728884   \n",
       "17005                            -4.252275                     -0.460711   \n",
       "14505                            -1.584278                      1.499283   \n",
       "31487                            -2.129455                     -0.271116   \n",
       "\n",
       "       prob_intra_dept  prob_inter_dept  prob_intra_region  prob_inter_region  \\\n",
       "3113          0.107593         0.164524           0.066000           0.007069   \n",
       "118           0.096386         0.147386           0.116596           0.029349   \n",
       "17005         0.081230         0.044130           0.116844           0.032991   \n",
       "14505         0.095665         0.109683           0.106546           0.110540   \n",
       "31487         0.096386         0.147386           0.136935           0.023350   \n",
       "\n",
       "       prob_intra_gender  prob_inter_gender  prob_intra_recruits  \\\n",
       "3113            0.083151           0.685733             0.083952   \n",
       "118             0.089934           0.314267             0.083952   \n",
       "17005           0.083151           0.685733             0.083952   \n",
       "14505           0.083151           0.685733             0.083952   \n",
       "31487           0.083151           0.685733             0.083952   \n",
       "\n",
       "       prob_inter_recruits  \n",
       "3113              0.547558  \n",
       "118               0.547558  \n",
       "17005             0.547558  \n",
       "14505             0.547558  \n",
       "31487             0.547558  "
      ]
     },
     "execution_count": 184,
     "metadata": {},
     "output_type": "execute_result"
    }
   ],
   "source": [
    "X_train.head()"
   ]
  },
  {
   "cell_type": "markdown",
   "metadata": {},
   "source": [
    "# PCA"
   ]
  },
  {
   "cell_type": "code",
   "execution_count": 193,
   "metadata": {},
   "outputs": [],
   "source": [
    "from sklearn.decomposition import PCA"
   ]
  },
  {
   "cell_type": "code",
   "execution_count": 195,
   "metadata": {},
   "outputs": [
    {
     "data": {
      "text/plain": [
       "(78298, 24)"
      ]
     },
     "execution_count": 195,
     "metadata": {},
     "output_type": "execute_result"
    }
   ],
   "source": [
    "full=pd.concat([train,test])\n",
    "full.shape"
   ]
  },
  {
   "cell_type": "code",
   "execution_count": 197,
   "metadata": {},
   "outputs": [],
   "source": [
    "pc=PCA()\n",
    "final=pc.fit(full)"
   ]
  },
  {
   "cell_type": "code",
   "execution_count": 199,
   "metadata": {},
   "outputs": [
    {
     "data": {
      "text/plain": [
       "array([0.76473952, 0.90377405, 0.97069913, 0.98896673, 0.99783831,\n",
       "       0.99936032, 0.99956272, 0.99970161, 0.99981052, 0.99986626,\n",
       "       0.99991537, 0.99994761, 0.99997549, 0.99998376, 0.99998955,\n",
       "       0.99999325, 0.99999649, 0.99999933, 0.99999995, 0.99999999,\n",
       "       1.        , 1.        , 1.        , 1.        ])"
      ]
     },
     "execution_count": 199,
     "metadata": {},
     "output_type": "execute_result"
    }
   ],
   "source": [
    "final.explained_variance_ratio_.cumsum()"
   ]
  },
  {
   "cell_type": "code",
   "execution_count": 200,
   "metadata": {},
   "outputs": [],
   "source": [
    "pc=PCA(n_components=10)\n",
    "final=pc.fit(full)"
   ]
  },
  {
   "cell_type": "code",
   "execution_count": 203,
   "metadata": {},
   "outputs": [],
   "source": [
    "final1=pc.transform(full)"
   ]
  },
  {
   "cell_type": "code",
   "execution_count": 204,
   "metadata": {},
   "outputs": [],
   "source": [
    "final1=pd.DataFrame(final1)"
   ]
  },
  {
   "cell_type": "code",
   "execution_count": 205,
   "metadata": {},
   "outputs": [
    {
     "data": {
      "text/html": [
       "<div>\n",
       "<style>\n",
       "    .dataframe thead tr:only-child th {\n",
       "        text-align: right;\n",
       "    }\n",
       "\n",
       "    .dataframe thead th {\n",
       "        text-align: left;\n",
       "    }\n",
       "\n",
       "    .dataframe tbody tr th {\n",
       "        vertical-align: top;\n",
       "    }\n",
       "</style>\n",
       "<table border=\"1\" class=\"dataframe\">\n",
       "  <thead>\n",
       "    <tr style=\"text-align: right;\">\n",
       "      <th></th>\n",
       "      <th>0</th>\n",
       "      <th>1</th>\n",
       "      <th>2</th>\n",
       "      <th>3</th>\n",
       "      <th>4</th>\n",
       "      <th>5</th>\n",
       "      <th>6</th>\n",
       "      <th>7</th>\n",
       "      <th>8</th>\n",
       "      <th>9</th>\n",
       "    </tr>\n",
       "  </thead>\n",
       "  <tbody>\n",
       "    <tr>\n",
       "      <th>0</th>\n",
       "      <td>-50.168869</td>\n",
       "      <td>-1.495848</td>\n",
       "      <td>0.270094</td>\n",
       "      <td>0.311345</td>\n",
       "      <td>1.906136</td>\n",
       "      <td>-0.440154</td>\n",
       "      <td>0.548921</td>\n",
       "      <td>-0.272962</td>\n",
       "      <td>0.118567</td>\n",
       "      <td>0.039813</td>\n",
       "    </tr>\n",
       "    <tr>\n",
       "      <th>1</th>\n",
       "      <td>-36.594285</td>\n",
       "      <td>6.493919</td>\n",
       "      <td>-5.447588</td>\n",
       "      <td>-0.095193</td>\n",
       "      <td>0.208437</td>\n",
       "      <td>-0.573977</td>\n",
       "      <td>-0.473462</td>\n",
       "      <td>-0.492389</td>\n",
       "      <td>0.067443</td>\n",
       "      <td>0.014809</td>\n",
       "    </tr>\n",
       "    <tr>\n",
       "      <th>2</th>\n",
       "      <td>-10.171552</td>\n",
       "      <td>-10.992679</td>\n",
       "      <td>-0.755898</td>\n",
       "      <td>1.630792</td>\n",
       "      <td>1.380800</td>\n",
       "      <td>-0.542870</td>\n",
       "      <td>-0.340220</td>\n",
       "      <td>0.165272</td>\n",
       "      <td>-0.157456</td>\n",
       "      <td>0.122726</td>\n",
       "    </tr>\n",
       "    <tr>\n",
       "      <th>3</th>\n",
       "      <td>28.512592</td>\n",
       "      <td>-21.565828</td>\n",
       "      <td>5.205801</td>\n",
       "      <td>1.957729</td>\n",
       "      <td>2.163486</td>\n",
       "      <td>2.372188</td>\n",
       "      <td>0.156534</td>\n",
       "      <td>-0.500623</td>\n",
       "      <td>-0.340255</td>\n",
       "      <td>-0.088217</td>\n",
       "    </tr>\n",
       "    <tr>\n",
       "      <th>4</th>\n",
       "      <td>17.632484</td>\n",
       "      <td>3.888248</td>\n",
       "      <td>8.149421</td>\n",
       "      <td>-8.118220</td>\n",
       "      <td>-7.577495</td>\n",
       "      <td>-0.612045</td>\n",
       "      <td>-0.496517</td>\n",
       "      <td>0.209731</td>\n",
       "      <td>-0.008859</td>\n",
       "      <td>0.023701</td>\n",
       "    </tr>\n",
       "  </tbody>\n",
       "</table>\n",
       "</div>"
      ],
      "text/plain": [
       "           0          1         2         3         4         5         6  \\\n",
       "0 -50.168869  -1.495848  0.270094  0.311345  1.906136 -0.440154  0.548921   \n",
       "1 -36.594285   6.493919 -5.447588 -0.095193  0.208437 -0.573977 -0.473462   \n",
       "2 -10.171552 -10.992679 -0.755898  1.630792  1.380800 -0.542870 -0.340220   \n",
       "3  28.512592 -21.565828  5.205801  1.957729  2.163486  2.372188  0.156534   \n",
       "4  17.632484   3.888248  8.149421 -8.118220 -7.577495 -0.612045 -0.496517   \n",
       "\n",
       "          7         8         9  \n",
       "0 -0.272962  0.118567  0.039813  \n",
       "1 -0.492389  0.067443  0.014809  \n",
       "2  0.165272 -0.157456  0.122726  \n",
       "3 -0.500623 -0.340255 -0.088217  \n",
       "4  0.209731 -0.008859  0.023701  "
      ]
     },
     "execution_count": 205,
     "metadata": {},
     "output_type": "execute_result"
    }
   ],
   "source": [
    "final1.head()"
   ]
  },
  {
   "cell_type": "code",
   "execution_count": 206,
   "metadata": {},
   "outputs": [
    {
     "data": {
      "text/plain": [
       "(78298, 10)"
      ]
     },
     "execution_count": 206,
     "metadata": {},
     "output_type": "execute_result"
    }
   ],
   "source": [
    "final1.shape"
   ]
  },
  {
   "cell_type": "code",
   "execution_count": 207,
   "metadata": {},
   "outputs": [
    {
     "data": {
      "text/plain": [
       "(54808, 24)"
      ]
     },
     "execution_count": 207,
     "metadata": {},
     "output_type": "execute_result"
    }
   ],
   "source": [
    "train.shape"
   ]
  },
  {
   "cell_type": "code",
   "execution_count": 208,
   "metadata": {},
   "outputs": [],
   "source": [
    "trains=final1.iloc[0:54808,:]\n",
    "tests=final1.iloc[54808:,:]"
   ]
  },
  {
   "cell_type": "code",
   "execution_count": 210,
   "metadata": {},
   "outputs": [],
   "source": [
    "X_train1, X_test1, y_train1, y_test1 = train_test_split(\n",
    "        trains, is_promoted, test_size=0.30, random_state=42)"
   ]
  },
  {
   "cell_type": "code",
   "execution_count": 211,
   "metadata": {},
   "outputs": [
    {
     "data": {
      "text/plain": [
       "RandomForestClassifier(bootstrap=True, class_weight=None, criterion='entropy',\n",
       "            max_depth=15, max_features='auto', max_leaf_nodes=None,\n",
       "            min_impurity_decrease=0.0, min_impurity_split=None,\n",
       "            min_samples_leaf=1, min_samples_split=2,\n",
       "            min_weight_fraction_leaf=0.0, n_estimators=200, n_jobs=1,\n",
       "            oob_score=False, random_state=None, verbose=0,\n",
       "            warm_start=False)"
      ]
     },
     "execution_count": 211,
     "metadata": {},
     "output_type": "execute_result"
    }
   ],
   "source": [
    "rf1= RandomForestClassifier(n_estimators=200,criterion='entropy',max_depth=15)\n",
    "rf1.fit(X_train1,y_train1)"
   ]
  },
  {
   "cell_type": "code",
   "execution_count": 212,
   "metadata": {},
   "outputs": [
    {
     "data": {
      "text/plain": [
       "0.49972421400992834"
      ]
     },
     "execution_count": 212,
     "metadata": {},
     "output_type": "execute_result"
    }
   ],
   "source": [
    "pred=rf1.predict(X_test1)\n",
    "f1_score(y_test1,pred)"
   ]
  },
  {
   "cell_type": "markdown",
   "metadata": {},
   "source": [
    "# Naive Bayes"
   ]
  },
  {
   "cell_type": "code",
   "execution_count": 213,
   "metadata": {},
   "outputs": [
    {
     "data": {
      "text/plain": [
       "GaussianNB(priors=None)"
      ]
     },
     "execution_count": 213,
     "metadata": {},
     "output_type": "execute_result"
    }
   ],
   "source": [
    "from sklearn.naive_bayes import GaussianNB\n",
    "clf = GaussianNB()\n",
    "clf.fit(X_train1, y_train1)"
   ]
  },
  {
   "cell_type": "code",
   "execution_count": 214,
   "metadata": {},
   "outputs": [
    {
     "data": {
      "text/plain": [
       "0.47629195524773577"
      ]
     },
     "execution_count": 214,
     "metadata": {},
     "output_type": "execute_result"
    }
   ],
   "source": [
    "pred=clf.predict(X_test1)\n",
    "f1_score(y_test1,pred)"
   ]
  },
  {
   "cell_type": "markdown",
   "metadata": {},
   "source": [
    "# KNN"
   ]
  },
  {
   "cell_type": "code",
   "execution_count": 215,
   "metadata": {},
   "outputs": [
    {
     "data": {
      "text/plain": [
       "KNeighborsClassifier(algorithm='auto', leaf_size=30, metric='minkowski',\n",
       "           metric_params=None, n_jobs=1, n_neighbors=3, p=2,\n",
       "           weights='uniform')"
      ]
     },
     "execution_count": 215,
     "metadata": {},
     "output_type": "execute_result"
    }
   ],
   "source": [
    "from sklearn.neighbors import KNeighborsClassifier"
   ]
  },
  {
   "cell_type": "code",
   "execution_count": 217,
   "metadata": {},
   "outputs": [
    {
     "name": "stdout",
     "output_type": "stream",
     "text": [
      "2 ch: 0.4498910675381264\n",
      "3 ch: 0.463739516526887\n",
      "4 ch: 0.4682981090100112\n",
      "5 ch: 0.47783783783783784\n",
      "6 ch: 0.46825396825396826\n",
      "7 ch: 0.47650635710337197\n",
      "8 ch: 0.47198641765704585\n",
      "9 ch: 0.476510067114094\n",
      "10 ch: 0.46985210466439137\n",
      "11 ch: 0.47178329571106103\n",
      "12 ch: 0.46567505720823804\n",
      "13 ch: 0.47018739352640543\n",
      "14 ch: 0.4595060310166571\n"
     ]
    }
   ],
   "source": [
    "for i in range(2,15):\n",
    "    neigh = KNeighborsClassifier(n_neighbors=i)\n",
    "    neigh.fit(X_train1, y_train1) \n",
    "    pred=neigh.predict(X_test1)\n",
    "    print(i,\"ch:\",f1_score(y_test1,pred))"
   ]
  },
  {
   "cell_type": "code",
   "execution_count": 243,
   "metadata": {},
   "outputs": [],
   "source": [
    "pc=PCA()\n",
    "pc.fit(full)\n",
    "fo1=pc.transform(full)\n",
    "fo1=pd.DataFrame(fo1)\n",
    "trains=fo1.iloc[0:54808,:]\n",
    "tests=fo1.iloc[54808:,:]\n",
    "X_train1, X_test1, y_train1, y_test1 = train_test_split(\n",
    "        trains, is_promoted, test_size=0.30, random_state=42)"
   ]
  },
  {
   "cell_type": "code",
   "execution_count": 220,
   "metadata": {},
   "outputs": [
    {
     "name": "stdout",
     "output_type": "stream",
     "text": [
      "2 ch: 0.4472389283761618\n",
      "3 ch: 0.4606181455633101\n",
      "4 ch: 0.4669260700389105\n",
      "5 ch: 0.4789644012944984\n",
      "6 ch: 0.46651532349602726\n",
      "7 ch: 0.47888888888888886\n",
      "8 ch: 0.46965399886557\n",
      "9 ch: 0.4790619765494137\n",
      "10 ch: 0.46810933940774485\n",
      "11 ch: 0.47495779403489025\n",
      "12 ch: 0.46716162193032557\n",
      "13 ch: 0.4713231118682567\n",
      "14 ch: 0.46153846153846145\n"
     ]
    }
   ],
   "source": [
    "for i in range(2,15):\n",
    "    neigh = KNeighborsClassifier(n_neighbors=i)\n",
    "    neigh.fit(X_train1, y_train1) \n",
    "    pred=neigh.predict(X_test1)\n",
    "    print(i,\"ch:\",f1_score(y_test1,pred))"
   ]
  },
  {
   "cell_type": "code",
   "execution_count": null,
   "metadata": {},
   "outputs": [],
   "source": []
  },
  {
   "cell_type": "code",
   "execution_count": 221,
   "metadata": {},
   "outputs": [
    {
     "data": {
      "text/plain": [
       "GaussianNB(priors=None)"
      ]
     },
     "execution_count": 221,
     "metadata": {},
     "output_type": "execute_result"
    }
   ],
   "source": [
    "clf = GaussianNB()\n",
    "clf.fit(X_train1, y_train1)"
   ]
  },
  {
   "cell_type": "code",
   "execution_count": 222,
   "metadata": {},
   "outputs": [
    {
     "data": {
      "text/plain": [
       "0.43792766373411535"
      ]
     },
     "execution_count": 222,
     "metadata": {},
     "output_type": "execute_result"
    }
   ],
   "source": [
    "pred=clf.predict(X_test1)\n",
    "f1_score(y_test1,pred)"
   ]
  },
  {
   "cell_type": "code",
   "execution_count": 223,
   "metadata": {},
   "outputs": [
    {
     "data": {
      "text/plain": [
       "(54808, 24)"
      ]
     },
     "execution_count": 223,
     "metadata": {},
     "output_type": "execute_result"
    }
   ],
   "source": [
    "trains.shape"
   ]
  },
  {
   "cell_type": "code",
   "execution_count": 224,
   "metadata": {},
   "outputs": [],
   "source": [
    "pc=PCA(n_components=5)\n",
    "pc.fit(full)\n",
    "fo1=pc.transform(full)\n",
    "fo1=pd.DataFrame(fo1)\n",
    "trains=fo1.iloc[0:54808,:]\n",
    "tests=fo1.iloc[54808:,:]\n",
    "X_train1, X_test1, y_train1, y_test1 = train_test_split(\n",
    "        trains, is_promoted, test_size=0.30, random_state=42)"
   ]
  },
  {
   "cell_type": "code",
   "execution_count": 225,
   "metadata": {},
   "outputs": [
    {
     "data": {
      "text/plain": [
       "GaussianNB(priors=None)"
      ]
     },
     "execution_count": 225,
     "metadata": {},
     "output_type": "execute_result"
    }
   ],
   "source": [
    "clf = GaussianNB()\n",
    "clf.fit(X_train1, y_train1)"
   ]
  },
  {
   "cell_type": "code",
   "execution_count": 226,
   "metadata": {},
   "outputs": [
    {
     "data": {
      "text/plain": [
       "0.47947454844006576"
      ]
     },
     "execution_count": 226,
     "metadata": {},
     "output_type": "execute_result"
    }
   ],
   "source": [
    "pred=clf.predict(X_test1)\n",
    "f1_score(y_test1,pred)"
   ]
  },
  {
   "cell_type": "code",
   "execution_count": 227,
   "metadata": {},
   "outputs": [
    {
     "name": "stdout",
     "output_type": "stream",
     "text": [
      "2 ch: 0.44612068965517243\n",
      "3 ch: 0.45790251107828656\n",
      "4 ch: 0.45663122551762736\n",
      "5 ch: 0.46742057081313954\n",
      "6 ch: 0.4660633484162896\n",
      "7 ch: 0.4764542936288089\n",
      "8 ch: 0.46678023850085176\n",
      "9 ch: 0.47442383361439006\n",
      "10 ch: 0.46716162193032557\n",
      "11 ch: 0.47392290249433106\n",
      "12 ch: 0.46716162193032557\n",
      "13 ch: 0.4715909090909091\n",
      "14 ch: 0.45986238532110096\n"
     ]
    }
   ],
   "source": [
    "for i in range(2,15):\n",
    "    neigh = KNeighborsClassifier(n_neighbors=i)\n",
    "    neigh.fit(X_train1, y_train1) \n",
    "    pred=neigh.predict(X_test1)\n",
    "    print(i,\"ch:\",f1_score(y_test1,pred))"
   ]
  },
  {
   "cell_type": "code",
   "execution_count": 228,
   "metadata": {},
   "outputs": [
    {
     "data": {
      "text/html": [
       "<div>\n",
       "<style>\n",
       "    .dataframe thead tr:only-child th {\n",
       "        text-align: right;\n",
       "    }\n",
       "\n",
       "    .dataframe thead th {\n",
       "        text-align: left;\n",
       "    }\n",
       "\n",
       "    .dataframe tbody tr th {\n",
       "        vertical-align: top;\n",
       "    }\n",
       "</style>\n",
       "<table border=\"1\" class=\"dataframe\">\n",
       "  <thead>\n",
       "    <tr style=\"text-align: right;\">\n",
       "      <th></th>\n",
       "      <th>no_of_trainings</th>\n",
       "      <th>age</th>\n",
       "      <th>previous_year_rating</th>\n",
       "      <th>length_of_service</th>\n",
       "      <th>KPIs_met &gt;80%</th>\n",
       "      <th>awards_won?</th>\n",
       "      <th>avg_training_score</th>\n",
       "      <th>is_gt_avg_training</th>\n",
       "      <th>is_dept_gt_avg_training</th>\n",
       "      <th>dept_avg_training</th>\n",
       "      <th>training_service_ratio</th>\n",
       "      <th>KPImet_and_Awardwon</th>\n",
       "      <th>score_minus_rating</th>\n",
       "      <th>score/rating</th>\n",
       "      <th>training_score minus dept avg score</th>\n",
       "      <th>rating minus dept avg rating</th>\n",
       "      <th>prob_intra_dept</th>\n",
       "      <th>prob_inter_dept</th>\n",
       "      <th>prob_intra_region</th>\n",
       "      <th>prob_inter_region</th>\n",
       "      <th>prob_intra_gender</th>\n",
       "      <th>prob_inter_gender</th>\n",
       "      <th>prob_intra_recruits</th>\n",
       "      <th>prob_inter_recruits</th>\n",
       "    </tr>\n",
       "  </thead>\n",
       "  <tbody>\n",
       "    <tr>\n",
       "      <th>0</th>\n",
       "      <td>1</td>\n",
       "      <td>35</td>\n",
       "      <td>5.0</td>\n",
       "      <td>8</td>\n",
       "      <td>1</td>\n",
       "      <td>0</td>\n",
       "      <td>49</td>\n",
       "      <td>-1</td>\n",
       "      <td>-1</td>\n",
       "      <td>1.274643</td>\n",
       "      <td>0.125000</td>\n",
       "      <td>0</td>\n",
       "      <td>-51.0</td>\n",
       "      <td>0.490000</td>\n",
       "      <td>-1.208487</td>\n",
       "      <td>1.931194</td>\n",
       "      <td>0.072031</td>\n",
       "      <td>0.259854</td>\n",
       "      <td>0.106546</td>\n",
       "      <td>0.110540</td>\n",
       "      <td>0.089934</td>\n",
       "      <td>0.314267</td>\n",
       "      <td>0.085013</td>\n",
       "      <td>0.422879</td>\n",
       "    </tr>\n",
       "    <tr>\n",
       "      <th>1</th>\n",
       "      <td>1</td>\n",
       "      <td>30</td>\n",
       "      <td>5.0</td>\n",
       "      <td>4</td>\n",
       "      <td>0</td>\n",
       "      <td>0</td>\n",
       "      <td>60</td>\n",
       "      <td>-1</td>\n",
       "      <td>-1</td>\n",
       "      <td>1.164908</td>\n",
       "      <td>0.250000</td>\n",
       "      <td>0</td>\n",
       "      <td>-40.0</td>\n",
       "      <td>0.600000</td>\n",
       "      <td>-0.248572</td>\n",
       "      <td>1.341857</td>\n",
       "      <td>0.090148</td>\n",
       "      <td>0.219152</td>\n",
       "      <td>0.114188</td>\n",
       "      <td>0.157241</td>\n",
       "      <td>0.083151</td>\n",
       "      <td>0.685733</td>\n",
       "      <td>0.083952</td>\n",
       "      <td>0.547558</td>\n",
       "    </tr>\n",
       "    <tr>\n",
       "      <th>2</th>\n",
       "      <td>1</td>\n",
       "      <td>34</td>\n",
       "      <td>3.0</td>\n",
       "      <td>7</td>\n",
       "      <td>0</td>\n",
       "      <td>0</td>\n",
       "      <td>50</td>\n",
       "      <td>-1</td>\n",
       "      <td>-1</td>\n",
       "      <td>1.274643</td>\n",
       "      <td>0.142857</td>\n",
       "      <td>0</td>\n",
       "      <td>-10.0</td>\n",
       "      <td>0.833333</td>\n",
       "      <td>-0.208487</td>\n",
       "      <td>-0.068806</td>\n",
       "      <td>0.072031</td>\n",
       "      <td>0.259854</td>\n",
       "      <td>0.060641</td>\n",
       "      <td>0.011354</td>\n",
       "      <td>0.083151</td>\n",
       "      <td>0.685733</td>\n",
       "      <td>0.085013</td>\n",
       "      <td>0.422879</td>\n",
       "    </tr>\n",
       "    <tr>\n",
       "      <th>3</th>\n",
       "      <td>2</td>\n",
       "      <td>39</td>\n",
       "      <td>1.0</td>\n",
       "      <td>10</td>\n",
       "      <td>0</td>\n",
       "      <td>0</td>\n",
       "      <td>50</td>\n",
       "      <td>1</td>\n",
       "      <td>1</td>\n",
       "      <td>1.274643</td>\n",
       "      <td>0.200000</td>\n",
       "      <td>0</td>\n",
       "      <td>30.0</td>\n",
       "      <td>2.500000</td>\n",
       "      <td>-0.208487</td>\n",
       "      <td>-2.068806</td>\n",
       "      <td>0.072031</td>\n",
       "      <td>0.259854</td>\n",
       "      <td>0.116596</td>\n",
       "      <td>0.029349</td>\n",
       "      <td>0.083151</td>\n",
       "      <td>0.685733</td>\n",
       "      <td>0.083952</td>\n",
       "      <td>0.547558</td>\n",
       "    </tr>\n",
       "    <tr>\n",
       "      <th>4</th>\n",
       "      <td>1</td>\n",
       "      <td>45</td>\n",
       "      <td>3.0</td>\n",
       "      <td>2</td>\n",
       "      <td>0</td>\n",
       "      <td>0</td>\n",
       "      <td>73</td>\n",
       "      <td>-1</td>\n",
       "      <td>-1</td>\n",
       "      <td>1.256380</td>\n",
       "      <td>0.500000</td>\n",
       "      <td>0</td>\n",
       "      <td>13.0</td>\n",
       "      <td>1.216667</td>\n",
       "      <td>-6.908464</td>\n",
       "      <td>-0.144448</td>\n",
       "      <td>0.107593</td>\n",
       "      <td>0.164524</td>\n",
       "      <td>0.063274</td>\n",
       "      <td>0.030634</td>\n",
       "      <td>0.083151</td>\n",
       "      <td>0.685733</td>\n",
       "      <td>0.083952</td>\n",
       "      <td>0.547558</td>\n",
       "    </tr>\n",
       "  </tbody>\n",
       "</table>\n",
       "</div>"
      ],
      "text/plain": [
       "   no_of_trainings  age  previous_year_rating  length_of_service  \\\n",
       "0                1   35                   5.0                  8   \n",
       "1                1   30                   5.0                  4   \n",
       "2                1   34                   3.0                  7   \n",
       "3                2   39                   1.0                 10   \n",
       "4                1   45                   3.0                  2   \n",
       "\n",
       "   KPIs_met >80%  awards_won?  avg_training_score  is_gt_avg_training  \\\n",
       "0              1            0                  49                  -1   \n",
       "1              0            0                  60                  -1   \n",
       "2              0            0                  50                  -1   \n",
       "3              0            0                  50                   1   \n",
       "4              0            0                  73                  -1   \n",
       "\n",
       "   is_dept_gt_avg_training  dept_avg_training  training_service_ratio  \\\n",
       "0                       -1           1.274643                0.125000   \n",
       "1                       -1           1.164908                0.250000   \n",
       "2                       -1           1.274643                0.142857   \n",
       "3                        1           1.274643                0.200000   \n",
       "4                       -1           1.256380                0.500000   \n",
       "\n",
       "   KPImet_and_Awardwon  score_minus_rating  score/rating  \\\n",
       "0                    0               -51.0      0.490000   \n",
       "1                    0               -40.0      0.600000   \n",
       "2                    0               -10.0      0.833333   \n",
       "3                    0                30.0      2.500000   \n",
       "4                    0                13.0      1.216667   \n",
       "\n",
       "   training_score minus dept avg score  rating minus dept avg rating  \\\n",
       "0                            -1.208487                      1.931194   \n",
       "1                            -0.248572                      1.341857   \n",
       "2                            -0.208487                     -0.068806   \n",
       "3                            -0.208487                     -2.068806   \n",
       "4                            -6.908464                     -0.144448   \n",
       "\n",
       "   prob_intra_dept  prob_inter_dept  prob_intra_region  prob_inter_region  \\\n",
       "0         0.072031         0.259854           0.106546           0.110540   \n",
       "1         0.090148         0.219152           0.114188           0.157241   \n",
       "2         0.072031         0.259854           0.060641           0.011354   \n",
       "3         0.072031         0.259854           0.116596           0.029349   \n",
       "4         0.107593         0.164524           0.063274           0.030634   \n",
       "\n",
       "   prob_intra_gender  prob_inter_gender  prob_intra_recruits  \\\n",
       "0           0.089934           0.314267             0.085013   \n",
       "1           0.083151           0.685733             0.083952   \n",
       "2           0.083151           0.685733             0.085013   \n",
       "3           0.083151           0.685733             0.083952   \n",
       "4           0.083151           0.685733             0.083952   \n",
       "\n",
       "   prob_inter_recruits  \n",
       "0             0.422879  \n",
       "1             0.547558  \n",
       "2             0.422879  \n",
       "3             0.547558  \n",
       "4             0.547558  "
      ]
     },
     "execution_count": 228,
     "metadata": {},
     "output_type": "execute_result"
    }
   ],
   "source": [
    "train.head()"
   ]
  },
  {
   "cell_type": "code",
   "execution_count": 244,
   "metadata": {},
   "outputs": [
    {
     "data": {
      "text/plain": [
       "RandomForestClassifier(bootstrap=True, class_weight=None, criterion='entropy',\n",
       "            max_depth=15, max_features='auto', max_leaf_nodes=None,\n",
       "            min_impurity_decrease=0.0, min_impurity_split=None,\n",
       "            min_samples_leaf=1, min_samples_split=2,\n",
       "            min_weight_fraction_leaf=0.0, n_estimators=200, n_jobs=1,\n",
       "            oob_score=False, random_state=None, verbose=0,\n",
       "            warm_start=False)"
      ]
     },
     "execution_count": 244,
     "metadata": {},
     "output_type": "execute_result"
    }
   ],
   "source": [
    "rf1= RandomForestClassifier(n_estimators=200,criterion='entropy',max_depth=15)\n",
    "rf1.fit(X_train1,y_train1)"
   ]
  },
  {
   "cell_type": "code",
   "execution_count": 245,
   "metadata": {},
   "outputs": [
    {
     "data": {
      "text/plain": [
       "(16443, 24)"
      ]
     },
     "execution_count": 245,
     "metadata": {},
     "output_type": "execute_result"
    }
   ],
   "source": [
    "X_test1.shape"
   ]
  },
  {
   "cell_type": "code",
   "execution_count": 246,
   "metadata": {},
   "outputs": [
    {
     "data": {
      "text/plain": [
       "(38365, 24)"
      ]
     },
     "execution_count": 246,
     "metadata": {},
     "output_type": "execute_result"
    }
   ],
   "source": [
    "X_train1.shape"
   ]
  },
  {
   "cell_type": "code",
   "execution_count": 247,
   "metadata": {},
   "outputs": [
    {
     "ename": "ValueError",
     "evalue": "operands could not be broadcast together with shapes (16443,24) (5,) ",
     "output_type": "error",
     "traceback": [
      "\u001b[1;31m---------------------------------------------------------------------------\u001b[0m",
      "\u001b[1;31mValueError\u001b[0m                                Traceback (most recent call last)",
      "\u001b[1;32m<ipython-input-247-5b916fd66263>\u001b[0m in \u001b[0;36m<module>\u001b[1;34m()\u001b[0m\n\u001b[1;32m----> 1\u001b[1;33m \u001b[0mpred\u001b[0m\u001b[1;33m=\u001b[0m\u001b[0mclf\u001b[0m\u001b[1;33m.\u001b[0m\u001b[0mpredict\u001b[0m\u001b[1;33m(\u001b[0m\u001b[0mX_test1\u001b[0m\u001b[1;33m)\u001b[0m\u001b[1;33m\u001b[0m\u001b[0m\n\u001b[0m\u001b[0;32m      2\u001b[0m \u001b[0mf1_score\u001b[0m\u001b[1;33m(\u001b[0m\u001b[0my_test1\u001b[0m\u001b[1;33m,\u001b[0m\u001b[0mpred\u001b[0m\u001b[1;33m)\u001b[0m\u001b[1;33m\u001b[0m\u001b[0m\n",
      "\u001b[1;32m~\\Anaconda3\\lib\\site-packages\\sklearn\\naive_bayes.py\u001b[0m in \u001b[0;36mpredict\u001b[1;34m(self, X)\u001b[0m\n\u001b[0;32m     64\u001b[0m             \u001b[0mPredicted\u001b[0m \u001b[0mtarget\u001b[0m \u001b[0mvalues\u001b[0m \u001b[1;32mfor\u001b[0m \u001b[0mX\u001b[0m\u001b[1;33m\u001b[0m\u001b[0m\n\u001b[0;32m     65\u001b[0m         \"\"\"\n\u001b[1;32m---> 66\u001b[1;33m         \u001b[0mjll\u001b[0m \u001b[1;33m=\u001b[0m \u001b[0mself\u001b[0m\u001b[1;33m.\u001b[0m\u001b[0m_joint_log_likelihood\u001b[0m\u001b[1;33m(\u001b[0m\u001b[0mX\u001b[0m\u001b[1;33m)\u001b[0m\u001b[1;33m\u001b[0m\u001b[0m\n\u001b[0m\u001b[0;32m     67\u001b[0m         \u001b[1;32mreturn\u001b[0m \u001b[0mself\u001b[0m\u001b[1;33m.\u001b[0m\u001b[0mclasses_\u001b[0m\u001b[1;33m[\u001b[0m\u001b[0mnp\u001b[0m\u001b[1;33m.\u001b[0m\u001b[0margmax\u001b[0m\u001b[1;33m(\u001b[0m\u001b[0mjll\u001b[0m\u001b[1;33m,\u001b[0m \u001b[0maxis\u001b[0m\u001b[1;33m=\u001b[0m\u001b[1;36m1\u001b[0m\u001b[1;33m)\u001b[0m\u001b[1;33m]\u001b[0m\u001b[1;33m\u001b[0m\u001b[0m\n\u001b[0;32m     68\u001b[0m \u001b[1;33m\u001b[0m\u001b[0m\n",
      "\u001b[1;32m~\\Anaconda3\\lib\\site-packages\\sklearn\\naive_bayes.py\u001b[0m in \u001b[0;36m_joint_log_likelihood\u001b[1;34m(self, X)\u001b[0m\n\u001b[0;32m    431\u001b[0m             \u001b[0mjointi\u001b[0m \u001b[1;33m=\u001b[0m \u001b[0mnp\u001b[0m\u001b[1;33m.\u001b[0m\u001b[0mlog\u001b[0m\u001b[1;33m(\u001b[0m\u001b[0mself\u001b[0m\u001b[1;33m.\u001b[0m\u001b[0mclass_prior_\u001b[0m\u001b[1;33m[\u001b[0m\u001b[0mi\u001b[0m\u001b[1;33m]\u001b[0m\u001b[1;33m)\u001b[0m\u001b[1;33m\u001b[0m\u001b[0m\n\u001b[0;32m    432\u001b[0m             \u001b[0mn_ij\u001b[0m \u001b[1;33m=\u001b[0m \u001b[1;33m-\u001b[0m \u001b[1;36m0.5\u001b[0m \u001b[1;33m*\u001b[0m \u001b[0mnp\u001b[0m\u001b[1;33m.\u001b[0m\u001b[0msum\u001b[0m\u001b[1;33m(\u001b[0m\u001b[0mnp\u001b[0m\u001b[1;33m.\u001b[0m\u001b[0mlog\u001b[0m\u001b[1;33m(\u001b[0m\u001b[1;36m2.\u001b[0m \u001b[1;33m*\u001b[0m \u001b[0mnp\u001b[0m\u001b[1;33m.\u001b[0m\u001b[0mpi\u001b[0m \u001b[1;33m*\u001b[0m \u001b[0mself\u001b[0m\u001b[1;33m.\u001b[0m\u001b[0msigma_\u001b[0m\u001b[1;33m[\u001b[0m\u001b[0mi\u001b[0m\u001b[1;33m,\u001b[0m \u001b[1;33m:\u001b[0m\u001b[1;33m]\u001b[0m\u001b[1;33m)\u001b[0m\u001b[1;33m)\u001b[0m\u001b[1;33m\u001b[0m\u001b[0m\n\u001b[1;32m--> 433\u001b[1;33m             n_ij -= 0.5 * np.sum(((X - self.theta_[i, :]) ** 2) /\n\u001b[0m\u001b[0;32m    434\u001b[0m                                  (self.sigma_[i, :]), 1)\n\u001b[0;32m    435\u001b[0m             \u001b[0mjoint_log_likelihood\u001b[0m\u001b[1;33m.\u001b[0m\u001b[0mappend\u001b[0m\u001b[1;33m(\u001b[0m\u001b[0mjointi\u001b[0m \u001b[1;33m+\u001b[0m \u001b[0mn_ij\u001b[0m\u001b[1;33m)\u001b[0m\u001b[1;33m\u001b[0m\u001b[0m\n",
      "\u001b[1;31mValueError\u001b[0m: operands could not be broadcast together with shapes (16443,24) (5,) "
     ]
    }
   ],
   "source": [
    "pred=clf.predict(X_test1)\n",
    "f1_score(y_test1,pred)"
   ]
  },
  {
   "cell_type": "code",
   "execution_count": null,
   "metadata": {},
   "outputs": [],
   "source": [
    "rf1.feature_importances_"
   ]
  },
  {
   "cell_type": "code",
   "execution_count": null,
   "metadata": {},
   "outputs": [],
   "source": []
  }
 ],
 "metadata": {
  "kernelspec": {
   "display_name": "Python 3",
   "language": "python",
   "name": "python3"
  },
  "language_info": {
   "codemirror_mode": {
    "name": "ipython",
    "version": 3
   },
   "file_extension": ".py",
   "mimetype": "text/x-python",
   "name": "python",
   "nbconvert_exporter": "python",
   "pygments_lexer": "ipython3",
   "version": "3.6.3"
  }
 },
 "nbformat": 4,
 "nbformat_minor": 2
}
