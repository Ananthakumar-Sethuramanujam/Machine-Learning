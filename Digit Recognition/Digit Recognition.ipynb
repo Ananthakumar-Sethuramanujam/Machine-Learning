{
 "cells": [
  {
   "cell_type": "code",
   "execution_count": 2,
   "metadata": {},
   "outputs": [],
   "source": [
    "import numpy as np\n",
    "import pandas as pd\n",
    "from sklearn.metrics import accuracy_score\n",
    "import math\n",
    "from sklearn.naive_bayes import GaussianNB\n",
    "from sklearn.model_selection import cross_val_score\n",
    "from sklearn.neighbors import KNeighborsClassifier\n",
    "from sklearn.ensemble import GradientBoostingClassifier\n",
    "from sklearn.ensemble import RandomForestClassifier"
   ]
  },
  {
   "cell_type": "code",
   "execution_count": 3,
   "metadata": {},
   "outputs": [],
   "source": [
    "data=pd.read_csv('Digit_dataset.csv')   # Read the data"
   ]
  },
  {
   "cell_type": "code",
   "execution_count": 4,
   "metadata": {},
   "outputs": [
    {
     "data": {
      "text/plain": [
       "(42000, 785)"
      ]
     },
     "execution_count": 4,
     "metadata": {},
     "output_type": "execute_result"
    }
   ],
   "source": [
    "data.shape                "
   ]
  },
  {
   "cell_type": "code",
   "execution_count": 5,
   "metadata": {},
   "outputs": [
    {
     "data": {
      "text/html": [
       "<div>\n",
       "<style>\n",
       "    .dataframe thead tr:only-child th {\n",
       "        text-align: right;\n",
       "    }\n",
       "\n",
       "    .dataframe thead th {\n",
       "        text-align: left;\n",
       "    }\n",
       "\n",
       "    .dataframe tbody tr th {\n",
       "        vertical-align: top;\n",
       "    }\n",
       "</style>\n",
       "<table border=\"1\" class=\"dataframe\">\n",
       "  <thead>\n",
       "    <tr style=\"text-align: right;\">\n",
       "      <th></th>\n",
       "      <th>label</th>\n",
       "      <th>pixel0</th>\n",
       "      <th>pixel1</th>\n",
       "      <th>pixel2</th>\n",
       "      <th>pixel3</th>\n",
       "      <th>pixel4</th>\n",
       "      <th>pixel5</th>\n",
       "      <th>pixel6</th>\n",
       "      <th>pixel7</th>\n",
       "      <th>pixel8</th>\n",
       "      <th>...</th>\n",
       "      <th>pixel774</th>\n",
       "      <th>pixel775</th>\n",
       "      <th>pixel776</th>\n",
       "      <th>pixel777</th>\n",
       "      <th>pixel778</th>\n",
       "      <th>pixel779</th>\n",
       "      <th>pixel780</th>\n",
       "      <th>pixel781</th>\n",
       "      <th>pixel782</th>\n",
       "      <th>pixel783</th>\n",
       "    </tr>\n",
       "  </thead>\n",
       "  <tbody>\n",
       "    <tr>\n",
       "      <th>0</th>\n",
       "      <td>1</td>\n",
       "      <td>0</td>\n",
       "      <td>0</td>\n",
       "      <td>0</td>\n",
       "      <td>0</td>\n",
       "      <td>0</td>\n",
       "      <td>0</td>\n",
       "      <td>0</td>\n",
       "      <td>0</td>\n",
       "      <td>0</td>\n",
       "      <td>...</td>\n",
       "      <td>0</td>\n",
       "      <td>0</td>\n",
       "      <td>0</td>\n",
       "      <td>0</td>\n",
       "      <td>0</td>\n",
       "      <td>0</td>\n",
       "      <td>0</td>\n",
       "      <td>0</td>\n",
       "      <td>0</td>\n",
       "      <td>0</td>\n",
       "    </tr>\n",
       "    <tr>\n",
       "      <th>1</th>\n",
       "      <td>0</td>\n",
       "      <td>0</td>\n",
       "      <td>0</td>\n",
       "      <td>0</td>\n",
       "      <td>0</td>\n",
       "      <td>0</td>\n",
       "      <td>0</td>\n",
       "      <td>0</td>\n",
       "      <td>0</td>\n",
       "      <td>0</td>\n",
       "      <td>...</td>\n",
       "      <td>0</td>\n",
       "      <td>0</td>\n",
       "      <td>0</td>\n",
       "      <td>0</td>\n",
       "      <td>0</td>\n",
       "      <td>0</td>\n",
       "      <td>0</td>\n",
       "      <td>0</td>\n",
       "      <td>0</td>\n",
       "      <td>0</td>\n",
       "    </tr>\n",
       "    <tr>\n",
       "      <th>2</th>\n",
       "      <td>1</td>\n",
       "      <td>0</td>\n",
       "      <td>0</td>\n",
       "      <td>0</td>\n",
       "      <td>0</td>\n",
       "      <td>0</td>\n",
       "      <td>0</td>\n",
       "      <td>0</td>\n",
       "      <td>0</td>\n",
       "      <td>0</td>\n",
       "      <td>...</td>\n",
       "      <td>0</td>\n",
       "      <td>0</td>\n",
       "      <td>0</td>\n",
       "      <td>0</td>\n",
       "      <td>0</td>\n",
       "      <td>0</td>\n",
       "      <td>0</td>\n",
       "      <td>0</td>\n",
       "      <td>0</td>\n",
       "      <td>0</td>\n",
       "    </tr>\n",
       "    <tr>\n",
       "      <th>3</th>\n",
       "      <td>4</td>\n",
       "      <td>0</td>\n",
       "      <td>0</td>\n",
       "      <td>0</td>\n",
       "      <td>0</td>\n",
       "      <td>0</td>\n",
       "      <td>0</td>\n",
       "      <td>0</td>\n",
       "      <td>0</td>\n",
       "      <td>0</td>\n",
       "      <td>...</td>\n",
       "      <td>0</td>\n",
       "      <td>0</td>\n",
       "      <td>0</td>\n",
       "      <td>0</td>\n",
       "      <td>0</td>\n",
       "      <td>0</td>\n",
       "      <td>0</td>\n",
       "      <td>0</td>\n",
       "      <td>0</td>\n",
       "      <td>0</td>\n",
       "    </tr>\n",
       "    <tr>\n",
       "      <th>4</th>\n",
       "      <td>0</td>\n",
       "      <td>0</td>\n",
       "      <td>0</td>\n",
       "      <td>0</td>\n",
       "      <td>0</td>\n",
       "      <td>0</td>\n",
       "      <td>0</td>\n",
       "      <td>0</td>\n",
       "      <td>0</td>\n",
       "      <td>0</td>\n",
       "      <td>...</td>\n",
       "      <td>0</td>\n",
       "      <td>0</td>\n",
       "      <td>0</td>\n",
       "      <td>0</td>\n",
       "      <td>0</td>\n",
       "      <td>0</td>\n",
       "      <td>0</td>\n",
       "      <td>0</td>\n",
       "      <td>0</td>\n",
       "      <td>0</td>\n",
       "    </tr>\n",
       "  </tbody>\n",
       "</table>\n",
       "<p>5 rows × 785 columns</p>\n",
       "</div>"
      ],
      "text/plain": [
       "   label  pixel0  pixel1  pixel2  pixel3  pixel4  pixel5  pixel6  pixel7  \\\n",
       "0      1       0       0       0       0       0       0       0       0   \n",
       "1      0       0       0       0       0       0       0       0       0   \n",
       "2      1       0       0       0       0       0       0       0       0   \n",
       "3      4       0       0       0       0       0       0       0       0   \n",
       "4      0       0       0       0       0       0       0       0       0   \n",
       "\n",
       "   pixel8    ...     pixel774  pixel775  pixel776  pixel777  pixel778  \\\n",
       "0       0    ...            0         0         0         0         0   \n",
       "1       0    ...            0         0         0         0         0   \n",
       "2       0    ...            0         0         0         0         0   \n",
       "3       0    ...            0         0         0         0         0   \n",
       "4       0    ...            0         0         0         0         0   \n",
       "\n",
       "   pixel779  pixel780  pixel781  pixel782  pixel783  \n",
       "0         0         0         0         0         0  \n",
       "1         0         0         0         0         0  \n",
       "2         0         0         0         0         0  \n",
       "3         0         0         0         0         0  \n",
       "4         0         0         0         0         0  \n",
       "\n",
       "[5 rows x 785 columns]"
      ]
     },
     "execution_count": 5,
     "metadata": {},
     "output_type": "execute_result"
    }
   ],
   "source": [
    "data.head()"
   ]
  },
  {
   "cell_type": "code",
   "execution_count": 1,
   "metadata": {},
   "outputs": [
    {
     "data": {
      "text/plain": [
       "[0,\n",
       " 28,\n",
       " 56,\n",
       " 84,\n",
       " 112,\n",
       " 140,\n",
       " 168,\n",
       " 196,\n",
       " 224,\n",
       " 252,\n",
       " 280,\n",
       " 308,\n",
       " 336,\n",
       " 364,\n",
       " 392,\n",
       " 420,\n",
       " 448,\n",
       " 476,\n",
       " 504,\n",
       " 532,\n",
       " 560,\n",
       " 588,\n",
       " 616,\n",
       " 644,\n",
       " 672,\n",
       " 700,\n",
       " 728,\n",
       " 756,\n",
       " 784]"
      ]
     },
     "execution_count": 1,
     "metadata": {},
     "output_type": "execute_result"
    }
   ],
   "source": [
    "\"\"\" The dimension of the dataset is 784. This is 28*28 matrix. Let's average each row of the pixel matrix.\n",
    "    Thus we will get 28 dimensions. The code below creates a list of indices(slice_list) in the feature vector \n",
    "    in 28 step increment.\n",
    "\"\"\"\n",
    "\n",
    "slice_list=[0]                                      \n",
    "while(slice_list[-1]<=756):\n",
    "    slice_list.append(slice_list[-1]+28)\n",
    "slice_list"
   ]
  },
  {
   "cell_type": "code",
   "execution_count": 6,
   "metadata": {},
   "outputs": [
    {
     "data": {
      "text/plain": [
       "(42000,)"
      ]
     },
     "execution_count": 6,
     "metadata": {},
     "output_type": "execute_result"
    }
   ],
   "source": [
    "labels=data['label']   # Store the target label in labels\n",
    "labels.shape"
   ]
  },
  {
   "cell_type": "code",
   "execution_count": 7,
   "metadata": {},
   "outputs": [],
   "source": [
    "data.drop('label',axis=1,inplace=True)  # drop the target variable from the data"
   ]
  },
  {
   "cell_type": "code",
   "execution_count": null,
   "metadata": {},
   "outputs": [],
   "source": [
    "\"\"\" Make use of the slice_list we have created to average each row and form a new 28 dimensional feature vector\n",
    "    from 784 dimensional feature vector. CAUTION: This operation will take atleast 30 minutes\n",
    "\"\"\"\n",
    "\n",
    "df=pd.DataFrame()                    \n",
    "for j in range(0,data.shape[0]):\n",
    "    #print(j)\n",
    "    row_list=[]\n",
    "    for i in range(0,28):\n",
    "        row_list.append(data.iloc[j,slice_list[i]:slice_list[i+1]].mean())\n",
    "    df=pd.concat([df,pd.DataFrame(row_list).T])"
   ]
  },
  {
   "cell_type": "code",
   "execution_count": 3,
   "metadata": {},
   "outputs": [],
   "source": [
    "# To avoid the above operation again, store the new feature matrix in a file named Digit_cleaned.csv \n",
    "df.to_csv('Digit_cleaned.csv')   "
   ]
  },
  {
   "cell_type": "markdown",
   "metadata": {},
   "source": [
    "# Build models on Digit_cleaned.csv"
   ]
  },
  {
   "cell_type": "code",
   "execution_count": 2,
   "metadata": {
    "collapsed": true
   },
   "outputs": [],
   "source": [
    "data=pd.read_csv('Digit_cleaned.csv')"
   ]
  },
  {
   "cell_type": "code",
   "execution_count": 3,
   "metadata": {},
   "outputs": [
    {
     "data": {
      "text/html": [
       "<div>\n",
       "<style>\n",
       "    .dataframe thead tr:only-child th {\n",
       "        text-align: right;\n",
       "    }\n",
       "\n",
       "    .dataframe thead th {\n",
       "        text-align: left;\n",
       "    }\n",
       "\n",
       "    .dataframe tbody tr th {\n",
       "        vertical-align: top;\n",
       "    }\n",
       "</style>\n",
       "<table border=\"1\" class=\"dataframe\">\n",
       "  <thead>\n",
       "    <tr style=\"text-align: right;\">\n",
       "      <th></th>\n",
       "      <th>Unnamed: 0</th>\n",
       "      <th>0</th>\n",
       "      <th>1</th>\n",
       "      <th>2</th>\n",
       "      <th>3</th>\n",
       "      <th>4</th>\n",
       "      <th>5</th>\n",
       "      <th>6</th>\n",
       "      <th>7</th>\n",
       "      <th>8</th>\n",
       "      <th>...</th>\n",
       "      <th>19</th>\n",
       "      <th>20</th>\n",
       "      <th>21</th>\n",
       "      <th>22</th>\n",
       "      <th>23</th>\n",
       "      <th>24</th>\n",
       "      <th>25</th>\n",
       "      <th>26</th>\n",
       "      <th>27</th>\n",
       "      <th>label</th>\n",
       "    </tr>\n",
       "  </thead>\n",
       "  <tbody>\n",
       "    <tr>\n",
       "      <th>0</th>\n",
       "      <td>0</td>\n",
       "      <td>0.0</td>\n",
       "      <td>0.0</td>\n",
       "      <td>0.0</td>\n",
       "      <td>0.0</td>\n",
       "      <td>19.178571</td>\n",
       "      <td>28.107143</td>\n",
       "      <td>28.607143</td>\n",
       "      <td>28.607143</td>\n",
       "      <td>28.607143</td>\n",
       "      <td>...</td>\n",
       "      <td>28.642857</td>\n",
       "      <td>29.321429</td>\n",
       "      <td>33.821429</td>\n",
       "      <td>34.785714</td>\n",
       "      <td>18.821429</td>\n",
       "      <td>0.000000</td>\n",
       "      <td>0.0</td>\n",
       "      <td>0.0</td>\n",
       "      <td>0.0</td>\n",
       "      <td>1</td>\n",
       "    </tr>\n",
       "    <tr>\n",
       "      <th>1</th>\n",
       "      <td>1</td>\n",
       "      <td>0.0</td>\n",
       "      <td>0.0</td>\n",
       "      <td>0.0</td>\n",
       "      <td>0.0</td>\n",
       "      <td>24.035714</td>\n",
       "      <td>71.821429</td>\n",
       "      <td>99.321429</td>\n",
       "      <td>115.142857</td>\n",
       "      <td>116.321429</td>\n",
       "      <td>...</td>\n",
       "      <td>92.464286</td>\n",
       "      <td>122.535714</td>\n",
       "      <td>106.785714</td>\n",
       "      <td>90.714286</td>\n",
       "      <td>51.000000</td>\n",
       "      <td>0.000000</td>\n",
       "      <td>0.0</td>\n",
       "      <td>0.0</td>\n",
       "      <td>0.0</td>\n",
       "      <td>0</td>\n",
       "    </tr>\n",
       "    <tr>\n",
       "      <th>2</th>\n",
       "      <td>2</td>\n",
       "      <td>0.0</td>\n",
       "      <td>0.0</td>\n",
       "      <td>0.0</td>\n",
       "      <td>0.0</td>\n",
       "      <td>10.214286</td>\n",
       "      <td>18.750000</td>\n",
       "      <td>18.750000</td>\n",
       "      <td>22.250000</td>\n",
       "      <td>25.035714</td>\n",
       "      <td>...</td>\n",
       "      <td>30.285714</td>\n",
       "      <td>31.392857</td>\n",
       "      <td>31.321429</td>\n",
       "      <td>31.321429</td>\n",
       "      <td>22.607143</td>\n",
       "      <td>0.000000</td>\n",
       "      <td>0.0</td>\n",
       "      <td>0.0</td>\n",
       "      <td>0.0</td>\n",
       "      <td>1</td>\n",
       "    </tr>\n",
       "    <tr>\n",
       "      <th>3</th>\n",
       "      <td>3</td>\n",
       "      <td>0.0</td>\n",
       "      <td>0.0</td>\n",
       "      <td>0.0</td>\n",
       "      <td>0.0</td>\n",
       "      <td>0.000000</td>\n",
       "      <td>17.535714</td>\n",
       "      <td>18.607143</td>\n",
       "      <td>26.464286</td>\n",
       "      <td>25.678571</td>\n",
       "      <td>...</td>\n",
       "      <td>49.178571</td>\n",
       "      <td>12.321429</td>\n",
       "      <td>12.321429</td>\n",
       "      <td>11.321429</td>\n",
       "      <td>12.321429</td>\n",
       "      <td>11.285714</td>\n",
       "      <td>0.0</td>\n",
       "      <td>0.0</td>\n",
       "      <td>0.0</td>\n",
       "      <td>4</td>\n",
       "    </tr>\n",
       "    <tr>\n",
       "      <th>4</th>\n",
       "      <td>4</td>\n",
       "      <td>0.0</td>\n",
       "      <td>0.0</td>\n",
       "      <td>0.0</td>\n",
       "      <td>0.0</td>\n",
       "      <td>45.071429</td>\n",
       "      <td>80.392857</td>\n",
       "      <td>102.000000</td>\n",
       "      <td>111.892857</td>\n",
       "      <td>121.250000</td>\n",
       "      <td>...</td>\n",
       "      <td>95.571429</td>\n",
       "      <td>122.714286</td>\n",
       "      <td>128.642857</td>\n",
       "      <td>104.714286</td>\n",
       "      <td>62.500000</td>\n",
       "      <td>0.000000</td>\n",
       "      <td>0.0</td>\n",
       "      <td>0.0</td>\n",
       "      <td>0.0</td>\n",
       "      <td>0</td>\n",
       "    </tr>\n",
       "  </tbody>\n",
       "</table>\n",
       "<p>5 rows × 30 columns</p>\n",
       "</div>"
      ],
      "text/plain": [
       "   Unnamed: 0    0    1    2    3          4          5           6  \\\n",
       "0           0  0.0  0.0  0.0  0.0  19.178571  28.107143   28.607143   \n",
       "1           1  0.0  0.0  0.0  0.0  24.035714  71.821429   99.321429   \n",
       "2           2  0.0  0.0  0.0  0.0  10.214286  18.750000   18.750000   \n",
       "3           3  0.0  0.0  0.0  0.0   0.000000  17.535714   18.607143   \n",
       "4           4  0.0  0.0  0.0  0.0  45.071429  80.392857  102.000000   \n",
       "\n",
       "            7           8  ...           19          20          21  \\\n",
       "0   28.607143   28.607143  ...    28.642857   29.321429   33.821429   \n",
       "1  115.142857  116.321429  ...    92.464286  122.535714  106.785714   \n",
       "2   22.250000   25.035714  ...    30.285714   31.392857   31.321429   \n",
       "3   26.464286   25.678571  ...    49.178571   12.321429   12.321429   \n",
       "4  111.892857  121.250000  ...    95.571429  122.714286  128.642857   \n",
       "\n",
       "           22         23         24   25   26   27  label  \n",
       "0   34.785714  18.821429   0.000000  0.0  0.0  0.0      1  \n",
       "1   90.714286  51.000000   0.000000  0.0  0.0  0.0      0  \n",
       "2   31.321429  22.607143   0.000000  0.0  0.0  0.0      1  \n",
       "3   11.321429  12.321429  11.285714  0.0  0.0  0.0      4  \n",
       "4  104.714286  62.500000   0.000000  0.0  0.0  0.0      0  \n",
       "\n",
       "[5 rows x 30 columns]"
      ]
     },
     "execution_count": 3,
     "metadata": {},
     "output_type": "execute_result"
    }
   ],
   "source": [
    "data.head()"
   ]
  },
  {
   "cell_type": "code",
   "execution_count": 4,
   "metadata": {
    "collapsed": true
   },
   "outputs": [],
   "source": [
    "labels=data['label']\n",
    "data.drop(['Unnamed: 0','label'],axis=1,inplace=True)"
   ]
  },
  {
   "cell_type": "markdown",
   "metadata": {},
   "source": [
    "* The dataset has 42000 rows. Building a Random Forest or Gradient Boosting Classifier will take significant amount of time.\n",
    "* To avoid this take first 5000 rows for computational purposes"
   ]
  },
  {
   "cell_type": "code",
   "execution_count": 6,
   "metadata": {
    "collapsed": true
   },
   "outputs": [],
   "source": [
    "data=data.iloc[0:5000,:]"
   ]
  },
  {
   "cell_type": "code",
   "execution_count": 7,
   "metadata": {
    "collapsed": true
   },
   "outputs": [],
   "source": [
    "labels=labels[0:5000]"
   ]
  },
  {
   "cell_type": "code",
   "execution_count": 10,
   "metadata": {},
   "outputs": [
    {
     "name": "stdout",
     "output_type": "stream",
     "text": [
      "(5000, 28)\n",
      "(5000,)\n"
     ]
    }
   ],
   "source": [
    "print(data.shape)\n",
    "print(labels.shape)"
   ]
  },
  {
   "cell_type": "markdown",
   "metadata": {},
   "source": [
    "* Gaussian Naive Bayes"
   ]
  },
  {
   "cell_type": "code",
   "execution_count": 11,
   "metadata": {},
   "outputs": [
    {
     "data": {
      "text/plain": [
       "0.54831064619764569"
      ]
     },
     "execution_count": 11,
     "metadata": {},
     "output_type": "execute_result"
    }
   ],
   "source": [
    "clf = GaussianNB()\n",
    "score=cross_val_score(clf,data,labels,cv=10,scoring='accuracy')\n",
    "score.mean()"
   ]
  },
  {
   "cell_type": "markdown",
   "metadata": {},
   "source": [
    "* Random Forest Classifier"
   ]
  },
  {
   "cell_type": "code",
   "execution_count": 12,
   "metadata": {},
   "outputs": [
    {
     "data": {
      "text/plain": [
       "0.78279409043985393"
      ]
     },
     "execution_count": 12,
     "metadata": {},
     "output_type": "execute_result"
    }
   ],
   "source": [
    "rfe=RandomForestClassifier()\n",
    "score=cross_val_score(rfe,data,labels,cv=10,scoring='accuracy')\n",
    "score.mean()"
   ]
  },
  {
   "cell_type": "markdown",
   "metadata": {},
   "source": [
    "* Gradient Boosting Classifier"
   ]
  },
  {
   "cell_type": "code",
   "execution_count": 13,
   "metadata": {},
   "outputs": [
    {
     "data": {
      "text/plain": [
       "0.80421471120646226"
      ]
     },
     "execution_count": 13,
     "metadata": {},
     "output_type": "execute_result"
    }
   ],
   "source": [
    "gbc=GradientBoostingClassifier()\n",
    "score=cross_val_score(gbc,data,labels,cv=10,scoring='accuracy')\n",
    "score.mean()"
   ]
  },
  {
   "cell_type": "markdown",
   "metadata": {},
   "source": [
    "* KNN Classifier"
   ]
  },
  {
   "cell_type": "code",
   "execution_count": 16,
   "metadata": {},
   "outputs": [
    {
     "data": {
      "text/plain": [
       "0.78077479946993256"
      ]
     },
     "execution_count": 16,
     "metadata": {},
     "output_type": "execute_result"
    }
   ],
   "source": [
    "knn=KNeighborsClassifier()\n",
    "score=cross_val_score(knn,data,labels,cv=10,scoring='accuracy')\n",
    "score.mean()"
   ]
  },
  {
   "cell_type": "markdown",
   "metadata": {
    "collapsed": true
   },
   "source": [
    "* As you see the results are not that great! So let's try Principal Component Analysis"
   ]
  },
  {
   "cell_type": "markdown",
   "metadata": {},
   "source": [
    "# PCA on original dataset "
   ]
  },
  {
   "cell_type": "code",
   "execution_count": 4,
   "metadata": {
    "collapsed": true
   },
   "outputs": [],
   "source": [
    "\"\"\" Remember that we have to run PCA on Digit_dataset.csv and not on Digit_cleaned.csv\"\"\"\n",
    "data=pd.read_csv('Digit_dataset.csv')"
   ]
  },
  {
   "cell_type": "code",
   "execution_count": 5,
   "metadata": {
    "collapsed": true
   },
   "outputs": [],
   "source": [
    "labels=data['label']"
   ]
  },
  {
   "cell_type": "markdown",
   "metadata": {},
   "source": [
    "* Again for computational purposes, take only 5000 rows"
   ]
  },
  {
   "cell_type": "code",
   "execution_count": 6,
   "metadata": {
    "collapsed": true
   },
   "outputs": [],
   "source": [
    "data=data.iloc[15000:20000,:]\n",
    "labels=labels[15000:20000]"
   ]
  },
  {
   "cell_type": "code",
   "execution_count": 7,
   "metadata": {},
   "outputs": [
    {
     "data": {
      "text/html": [
       "<div>\n",
       "<style>\n",
       "    .dataframe thead tr:only-child th {\n",
       "        text-align: right;\n",
       "    }\n",
       "\n",
       "    .dataframe thead th {\n",
       "        text-align: left;\n",
       "    }\n",
       "\n",
       "    .dataframe tbody tr th {\n",
       "        vertical-align: top;\n",
       "    }\n",
       "</style>\n",
       "<table border=\"1\" class=\"dataframe\">\n",
       "  <thead>\n",
       "    <tr style=\"text-align: right;\">\n",
       "      <th></th>\n",
       "      <th>label</th>\n",
       "      <th>pixel0</th>\n",
       "      <th>pixel1</th>\n",
       "      <th>pixel2</th>\n",
       "      <th>pixel3</th>\n",
       "      <th>pixel4</th>\n",
       "      <th>pixel5</th>\n",
       "      <th>pixel6</th>\n",
       "      <th>pixel7</th>\n",
       "      <th>pixel8</th>\n",
       "      <th>...</th>\n",
       "      <th>pixel774</th>\n",
       "      <th>pixel775</th>\n",
       "      <th>pixel776</th>\n",
       "      <th>pixel777</th>\n",
       "      <th>pixel778</th>\n",
       "      <th>pixel779</th>\n",
       "      <th>pixel780</th>\n",
       "      <th>pixel781</th>\n",
       "      <th>pixel782</th>\n",
       "      <th>pixel783</th>\n",
       "    </tr>\n",
       "  </thead>\n",
       "  <tbody>\n",
       "    <tr>\n",
       "      <th>15000</th>\n",
       "      <td>1</td>\n",
       "      <td>0</td>\n",
       "      <td>0</td>\n",
       "      <td>0</td>\n",
       "      <td>0</td>\n",
       "      <td>0</td>\n",
       "      <td>0</td>\n",
       "      <td>0</td>\n",
       "      <td>0</td>\n",
       "      <td>0</td>\n",
       "      <td>...</td>\n",
       "      <td>0</td>\n",
       "      <td>0</td>\n",
       "      <td>0</td>\n",
       "      <td>0</td>\n",
       "      <td>0</td>\n",
       "      <td>0</td>\n",
       "      <td>0</td>\n",
       "      <td>0</td>\n",
       "      <td>0</td>\n",
       "      <td>0</td>\n",
       "    </tr>\n",
       "    <tr>\n",
       "      <th>15001</th>\n",
       "      <td>3</td>\n",
       "      <td>0</td>\n",
       "      <td>0</td>\n",
       "      <td>0</td>\n",
       "      <td>0</td>\n",
       "      <td>0</td>\n",
       "      <td>0</td>\n",
       "      <td>0</td>\n",
       "      <td>0</td>\n",
       "      <td>0</td>\n",
       "      <td>...</td>\n",
       "      <td>0</td>\n",
       "      <td>0</td>\n",
       "      <td>0</td>\n",
       "      <td>0</td>\n",
       "      <td>0</td>\n",
       "      <td>0</td>\n",
       "      <td>0</td>\n",
       "      <td>0</td>\n",
       "      <td>0</td>\n",
       "      <td>0</td>\n",
       "    </tr>\n",
       "    <tr>\n",
       "      <th>15002</th>\n",
       "      <td>0</td>\n",
       "      <td>0</td>\n",
       "      <td>0</td>\n",
       "      <td>0</td>\n",
       "      <td>0</td>\n",
       "      <td>0</td>\n",
       "      <td>0</td>\n",
       "      <td>0</td>\n",
       "      <td>0</td>\n",
       "      <td>0</td>\n",
       "      <td>...</td>\n",
       "      <td>0</td>\n",
       "      <td>0</td>\n",
       "      <td>0</td>\n",
       "      <td>0</td>\n",
       "      <td>0</td>\n",
       "      <td>0</td>\n",
       "      <td>0</td>\n",
       "      <td>0</td>\n",
       "      <td>0</td>\n",
       "      <td>0</td>\n",
       "    </tr>\n",
       "    <tr>\n",
       "      <th>15003</th>\n",
       "      <td>8</td>\n",
       "      <td>0</td>\n",
       "      <td>0</td>\n",
       "      <td>0</td>\n",
       "      <td>0</td>\n",
       "      <td>0</td>\n",
       "      <td>0</td>\n",
       "      <td>0</td>\n",
       "      <td>0</td>\n",
       "      <td>0</td>\n",
       "      <td>...</td>\n",
       "      <td>0</td>\n",
       "      <td>0</td>\n",
       "      <td>0</td>\n",
       "      <td>0</td>\n",
       "      <td>0</td>\n",
       "      <td>0</td>\n",
       "      <td>0</td>\n",
       "      <td>0</td>\n",
       "      <td>0</td>\n",
       "      <td>0</td>\n",
       "    </tr>\n",
       "    <tr>\n",
       "      <th>15004</th>\n",
       "      <td>7</td>\n",
       "      <td>0</td>\n",
       "      <td>0</td>\n",
       "      <td>0</td>\n",
       "      <td>0</td>\n",
       "      <td>0</td>\n",
       "      <td>0</td>\n",
       "      <td>0</td>\n",
       "      <td>0</td>\n",
       "      <td>0</td>\n",
       "      <td>...</td>\n",
       "      <td>0</td>\n",
       "      <td>0</td>\n",
       "      <td>0</td>\n",
       "      <td>0</td>\n",
       "      <td>0</td>\n",
       "      <td>0</td>\n",
       "      <td>0</td>\n",
       "      <td>0</td>\n",
       "      <td>0</td>\n",
       "      <td>0</td>\n",
       "    </tr>\n",
       "  </tbody>\n",
       "</table>\n",
       "<p>5 rows × 785 columns</p>\n",
       "</div>"
      ],
      "text/plain": [
       "       label  pixel0  pixel1  pixel2  pixel3  pixel4  pixel5  pixel6  pixel7  \\\n",
       "15000      1       0       0       0       0       0       0       0       0   \n",
       "15001      3       0       0       0       0       0       0       0       0   \n",
       "15002      0       0       0       0       0       0       0       0       0   \n",
       "15003      8       0       0       0       0       0       0       0       0   \n",
       "15004      7       0       0       0       0       0       0       0       0   \n",
       "\n",
       "       pixel8    ...     pixel774  pixel775  pixel776  pixel777  pixel778  \\\n",
       "15000       0    ...            0         0         0         0         0   \n",
       "15001       0    ...            0         0         0         0         0   \n",
       "15002       0    ...            0         0         0         0         0   \n",
       "15003       0    ...            0         0         0         0         0   \n",
       "15004       0    ...            0         0         0         0         0   \n",
       "\n",
       "       pixel779  pixel780  pixel781  pixel782  pixel783  \n",
       "15000         0         0         0         0         0  \n",
       "15001         0         0         0         0         0  \n",
       "15002         0         0         0         0         0  \n",
       "15003         0         0         0         0         0  \n",
       "15004         0         0         0         0         0  \n",
       "\n",
       "[5 rows x 785 columns]"
      ]
     },
     "execution_count": 7,
     "metadata": {},
     "output_type": "execute_result"
    }
   ],
   "source": [
    "data.head()"
   ]
  },
  {
   "cell_type": "code",
   "execution_count": 8,
   "metadata": {
    "collapsed": true
   },
   "outputs": [],
   "source": [
    "data.drop('label',axis=1,inplace=True)"
   ]
  },
  {
   "cell_type": "markdown",
   "metadata": {},
   "source": [
    "* Perform PCA"
   ]
  },
  {
   "cell_type": "code",
   "execution_count": 9,
   "metadata": {
    "collapsed": true
   },
   "outputs": [],
   "source": [
    "from sklearn.decomposition import PCA"
   ]
  },
  {
   "cell_type": "code",
   "execution_count": 10,
   "metadata": {
    "collapsed": true
   },
   "outputs": [],
   "source": [
    "\"\"\" We are extracting only 70% of the variance. This gives the best result. \n",
    "    I arrived at this value after spending a huge time on experimentation.\n",
    "\"\"\"\n",
    "pca=PCA(n_components=0.7)\n",
    "data=pca.fit_transform(data)\n",
    "data=pd.DataFrame(data)"
   ]
  },
  {
   "cell_type": "code",
   "execution_count": 11,
   "metadata": {},
   "outputs": [
    {
     "data": {
      "text/html": [
       "<div>\n",
       "<style>\n",
       "    .dataframe thead tr:only-child th {\n",
       "        text-align: right;\n",
       "    }\n",
       "\n",
       "    .dataframe thead th {\n",
       "        text-align: left;\n",
       "    }\n",
       "\n",
       "    .dataframe tbody tr th {\n",
       "        vertical-align: top;\n",
       "    }\n",
       "</style>\n",
       "<table border=\"1\" class=\"dataframe\">\n",
       "  <thead>\n",
       "    <tr style=\"text-align: right;\">\n",
       "      <th></th>\n",
       "      <th>0</th>\n",
       "      <th>1</th>\n",
       "      <th>2</th>\n",
       "      <th>3</th>\n",
       "      <th>4</th>\n",
       "      <th>5</th>\n",
       "      <th>6</th>\n",
       "      <th>7</th>\n",
       "      <th>8</th>\n",
       "      <th>9</th>\n",
       "      <th>...</th>\n",
       "      <th>16</th>\n",
       "      <th>17</th>\n",
       "      <th>18</th>\n",
       "      <th>19</th>\n",
       "      <th>20</th>\n",
       "      <th>21</th>\n",
       "      <th>22</th>\n",
       "      <th>23</th>\n",
       "      <th>24</th>\n",
       "      <th>25</th>\n",
       "    </tr>\n",
       "  </thead>\n",
       "  <tbody>\n",
       "    <tr>\n",
       "      <th>0</th>\n",
       "      <td>-760.573094</td>\n",
       "      <td>-382.601458</td>\n",
       "      <td>355.550019</td>\n",
       "      <td>-89.185339</td>\n",
       "      <td>278.080317</td>\n",
       "      <td>-778.302402</td>\n",
       "      <td>-456.022171</td>\n",
       "      <td>-7.938861</td>\n",
       "      <td>184.126016</td>\n",
       "      <td>39.389263</td>\n",
       "      <td>...</td>\n",
       "      <td>-62.004924</td>\n",
       "      <td>120.889833</td>\n",
       "      <td>-186.987307</td>\n",
       "      <td>256.633081</td>\n",
       "      <td>91.634223</td>\n",
       "      <td>-223.377326</td>\n",
       "      <td>5.564531</td>\n",
       "      <td>-78.501492</td>\n",
       "      <td>95.287068</td>\n",
       "      <td>-77.284602</td>\n",
       "    </tr>\n",
       "    <tr>\n",
       "      <th>1</th>\n",
       "      <td>376.766070</td>\n",
       "      <td>-259.368682</td>\n",
       "      <td>-305.668697</td>\n",
       "      <td>1246.413890</td>\n",
       "      <td>573.805538</td>\n",
       "      <td>-426.326365</td>\n",
       "      <td>256.334144</td>\n",
       "      <td>-163.412406</td>\n",
       "      <td>-205.925922</td>\n",
       "      <td>-36.226830</td>\n",
       "      <td>...</td>\n",
       "      <td>217.492033</td>\n",
       "      <td>148.651431</td>\n",
       "      <td>84.161675</td>\n",
       "      <td>-34.253006</td>\n",
       "      <td>137.161721</td>\n",
       "      <td>-266.913316</td>\n",
       "      <td>-258.307377</td>\n",
       "      <td>-326.877748</td>\n",
       "      <td>-81.417418</td>\n",
       "      <td>155.820724</td>\n",
       "    </tr>\n",
       "    <tr>\n",
       "      <th>2</th>\n",
       "      <td>1140.959466</td>\n",
       "      <td>-442.414035</td>\n",
       "      <td>-314.155101</td>\n",
       "      <td>-642.634037</td>\n",
       "      <td>-536.837679</td>\n",
       "      <td>-571.240100</td>\n",
       "      <td>188.333319</td>\n",
       "      <td>-253.207825</td>\n",
       "      <td>-368.280121</td>\n",
       "      <td>116.274157</td>\n",
       "      <td>...</td>\n",
       "      <td>-156.344104</td>\n",
       "      <td>0.723203</td>\n",
       "      <td>-50.952318</td>\n",
       "      <td>147.128180</td>\n",
       "      <td>-23.779269</td>\n",
       "      <td>-0.052042</td>\n",
       "      <td>269.772180</td>\n",
       "      <td>-155.380960</td>\n",
       "      <td>53.661183</td>\n",
       "      <td>175.851602</td>\n",
       "    </tr>\n",
       "    <tr>\n",
       "      <th>3</th>\n",
       "      <td>-528.343566</td>\n",
       "      <td>-585.820966</td>\n",
       "      <td>260.496475</td>\n",
       "      <td>757.633013</td>\n",
       "      <td>189.856232</td>\n",
       "      <td>-40.660304</td>\n",
       "      <td>106.256372</td>\n",
       "      <td>-172.334864</td>\n",
       "      <td>129.961502</td>\n",
       "      <td>532.193262</td>\n",
       "      <td>...</td>\n",
       "      <td>-163.489628</td>\n",
       "      <td>25.951204</td>\n",
       "      <td>51.237660</td>\n",
       "      <td>351.782284</td>\n",
       "      <td>-173.036670</td>\n",
       "      <td>-142.614773</td>\n",
       "      <td>187.141874</td>\n",
       "      <td>-236.863320</td>\n",
       "      <td>35.998777</td>\n",
       "      <td>-276.897734</td>\n",
       "    </tr>\n",
       "    <tr>\n",
       "      <th>4</th>\n",
       "      <td>-226.357543</td>\n",
       "      <td>1003.850563</td>\n",
       "      <td>-332.158474</td>\n",
       "      <td>544.606918</td>\n",
       "      <td>-64.685905</td>\n",
       "      <td>-200.020185</td>\n",
       "      <td>721.240905</td>\n",
       "      <td>536.367123</td>\n",
       "      <td>-280.616484</td>\n",
       "      <td>243.822512</td>\n",
       "      <td>...</td>\n",
       "      <td>131.516248</td>\n",
       "      <td>-75.540667</td>\n",
       "      <td>-78.193311</td>\n",
       "      <td>294.785840</td>\n",
       "      <td>23.857250</td>\n",
       "      <td>-26.293037</td>\n",
       "      <td>-99.253278</td>\n",
       "      <td>143.620704</td>\n",
       "      <td>203.939358</td>\n",
       "      <td>235.525900</td>\n",
       "    </tr>\n",
       "  </tbody>\n",
       "</table>\n",
       "<p>5 rows × 26 columns</p>\n",
       "</div>"
      ],
      "text/plain": [
       "            0            1           2            3           4           5   \\\n",
       "0  -760.573094  -382.601458  355.550019   -89.185339  278.080317 -778.302402   \n",
       "1   376.766070  -259.368682 -305.668697  1246.413890  573.805538 -426.326365   \n",
       "2  1140.959466  -442.414035 -314.155101  -642.634037 -536.837679 -571.240100   \n",
       "3  -528.343566  -585.820966  260.496475   757.633013  189.856232  -40.660304   \n",
       "4  -226.357543  1003.850563 -332.158474   544.606918  -64.685905 -200.020185   \n",
       "\n",
       "           6           7           8           9      ...              16  \\\n",
       "0 -456.022171   -7.938861  184.126016   39.389263     ...      -62.004924   \n",
       "1  256.334144 -163.412406 -205.925922  -36.226830     ...      217.492033   \n",
       "2  188.333319 -253.207825 -368.280121  116.274157     ...     -156.344104   \n",
       "3  106.256372 -172.334864  129.961502  532.193262     ...     -163.489628   \n",
       "4  721.240905  536.367123 -280.616484  243.822512     ...      131.516248   \n",
       "\n",
       "           17          18          19          20          21          22  \\\n",
       "0  120.889833 -186.987307  256.633081   91.634223 -223.377326    5.564531   \n",
       "1  148.651431   84.161675  -34.253006  137.161721 -266.913316 -258.307377   \n",
       "2    0.723203  -50.952318  147.128180  -23.779269   -0.052042  269.772180   \n",
       "3   25.951204   51.237660  351.782284 -173.036670 -142.614773  187.141874   \n",
       "4  -75.540667  -78.193311  294.785840   23.857250  -26.293037  -99.253278   \n",
       "\n",
       "           23          24          25  \n",
       "0  -78.501492   95.287068  -77.284602  \n",
       "1 -326.877748  -81.417418  155.820724  \n",
       "2 -155.380960   53.661183  175.851602  \n",
       "3 -236.863320   35.998777 -276.897734  \n",
       "4  143.620704  203.939358  235.525900  \n",
       "\n",
       "[5 rows x 26 columns]"
      ]
     },
     "execution_count": 11,
     "metadata": {},
     "output_type": "execute_result"
    }
   ],
   "source": [
    "data.head()"
   ]
  },
  {
   "cell_type": "markdown",
   "metadata": {},
   "source": [
    "* Check the label distribution"
   ]
  },
  {
   "cell_type": "code",
   "execution_count": 12,
   "metadata": {
    "collapsed": true
   },
   "outputs": [],
   "source": [
    "import matplotlib.pyplot as plt\n",
    "%matplotlib inline"
   ]
  },
  {
   "cell_type": "code",
   "execution_count": 13,
   "metadata": {},
   "outputs": [
    {
     "data": {
      "text/plain": [
       "(array([ 483.,  564.,  496.,  553.,  495.,  436.,  492.,  520.,  961.]),\n",
       " array([ 0.,  1.,  2.,  3.,  4.,  5.,  6.,  7.,  8.,  9.]),\n",
       " <a list of 9 Patch objects>)"
      ]
     },
     "execution_count": 13,
     "metadata": {},
     "output_type": "execute_result"
    },
    {
     "data": {
      "image/png": "[encoded data removed]",
      "text/plain": [
       "<matplotlib.figure.Figure at 0x1c03a546cc0>"
      ]
     },
     "metadata": {},
     "output_type": "display_data"
    }
   ],
   "source": [
    "plt.hist(labels,bins=9)"
   ]
  },
  {
   "cell_type": "markdown",
   "metadata": {},
   "source": [
    "* Gaussian Naive Bayes"
   ]
  },
  {
   "cell_type": "code",
   "execution_count": 261,
   "metadata": {},
   "outputs": [
    {
     "data": {
      "text/plain": [
       "0.85376907343740138"
      ]
     },
     "execution_count": 261,
     "metadata": {},
     "output_type": "execute_result"
    }
   ],
   "source": [
    "clf = GaussianNB()\n",
    "score=cross_val_score(clf,data,labels,cv=10,scoring='accuracy')\n",
    "score.mean()"
   ]
  },
  {
   "cell_type": "markdown",
   "metadata": {},
   "source": [
    "* Random Forest Classifier"
   ]
  },
  {
   "cell_type": "code",
   "execution_count": 262,
   "metadata": {},
   "outputs": [
    {
     "data": {
      "text/plain": [
       "0.8621667435770648"
      ]
     },
     "execution_count": 262,
     "metadata": {},
     "output_type": "execute_result"
    }
   ],
   "source": [
    "rfe=RandomForestClassifier()\n",
    "score=cross_val_score(rfe,data,labels,cv=10,scoring='accuracy')\n",
    "score.mean()"
   ]
  },
  {
   "cell_type": "markdown",
   "metadata": {},
   "source": [
    "* Gradient Boosting Classifier"
   ]
  },
  {
   "cell_type": "code",
   "execution_count": 248,
   "metadata": {},
   "outputs": [
    {
     "data": {
      "text/plain": [
       "0.80634715783524835"
      ]
     },
     "execution_count": 248,
     "metadata": {},
     "output_type": "execute_result"
    }
   ],
   "source": [
    "gbc=GradientBoostingClassifier()\n",
    "score=cross_val_score(gbc,data,labels,cv=10,scoring='accuracy')\n",
    "score.mean()"
   ]
  },
  {
   "cell_type": "markdown",
   "metadata": {},
   "source": [
    "* KNN classifier"
   ]
  },
  {
   "cell_type": "code",
   "execution_count": 271,
   "metadata": {},
   "outputs": [
    {
     "name": "stdout",
     "output_type": "stream",
     "text": [
      "0.945980129646\n",
      "0.952962966169\n",
      "0.952974869701\n",
      "0.951358836379\n",
      "0.951559682577\n",
      "0.949371520629\n",
      "0.947373018525\n",
      "0.947173029544\n"
     ]
    }
   ],
   "source": [
    "for i in range(2,10):\n",
    "    knn=KNeighborsClassifier(n_neighbors=i,weights='distance')\n",
    "    score=cross_val_score(knn,data,labels,cv=10,scoring='accuracy')\n",
    "    print(score.mean())"
   ]
  },
  {
   "cell_type": "markdown",
   "metadata": {},
   "source": [
    "We see that we have tremendously improved our classifier by performing PCA on the dataset. Now let's check whether the accuarcy improves if we normalize the data"
   ]
  },
  {
   "cell_type": "markdown",
   "metadata": {},
   "source": [
    "* MinMax normalization for KNN"
   ]
  },
  {
   "cell_type": "code",
   "execution_count": 264,
   "metadata": {},
   "outputs": [
    {
     "data": {
      "text/html": [
       "<div>\n",
       "<style>\n",
       "    .dataframe thead tr:only-child th {\n",
       "        text-align: right;\n",
       "    }\n",
       "\n",
       "    .dataframe thead th {\n",
       "        text-align: left;\n",
       "    }\n",
       "\n",
       "    .dataframe tbody tr th {\n",
       "        vertical-align: top;\n",
       "    }\n",
       "</style>\n",
       "<table border=\"1\" class=\"dataframe\">\n",
       "  <thead>\n",
       "    <tr style=\"text-align: right;\">\n",
       "      <th></th>\n",
       "      <th>0</th>\n",
       "      <th>1</th>\n",
       "      <th>2</th>\n",
       "      <th>3</th>\n",
       "      <th>4</th>\n",
       "      <th>5</th>\n",
       "      <th>6</th>\n",
       "      <th>7</th>\n",
       "      <th>8</th>\n",
       "      <th>9</th>\n",
       "      <th>...</th>\n",
       "      <th>16</th>\n",
       "      <th>17</th>\n",
       "      <th>18</th>\n",
       "      <th>19</th>\n",
       "      <th>20</th>\n",
       "      <th>21</th>\n",
       "      <th>22</th>\n",
       "      <th>23</th>\n",
       "      <th>24</th>\n",
       "      <th>25</th>\n",
       "    </tr>\n",
       "  </thead>\n",
       "  <tbody>\n",
       "    <tr>\n",
       "      <th>0</th>\n",
       "      <td>0.098524</td>\n",
       "      <td>0.323340</td>\n",
       "      <td>0.626153</td>\n",
       "      <td>0.456236</td>\n",
       "      <td>0.574907</td>\n",
       "      <td>0.151181</td>\n",
       "      <td>0.206885</td>\n",
       "      <td>0.453073</td>\n",
       "      <td>0.573614</td>\n",
       "      <td>0.516073</td>\n",
       "      <td>...</td>\n",
       "      <td>0.437603</td>\n",
       "      <td>0.516192</td>\n",
       "      <td>0.336023</td>\n",
       "      <td>0.627326</td>\n",
       "      <td>0.541366</td>\n",
       "      <td>0.324670</td>\n",
       "      <td>0.482414</td>\n",
       "      <td>0.430395</td>\n",
       "      <td>0.545814</td>\n",
       "      <td>0.407975</td>\n",
       "    </tr>\n",
       "    <tr>\n",
       "      <th>1</th>\n",
       "      <td>0.445092</td>\n",
       "      <td>0.369019</td>\n",
       "      <td>0.378762</td>\n",
       "      <td>0.902155</td>\n",
       "      <td>0.691803</td>\n",
       "      <td>0.296974</td>\n",
       "      <td>0.556302</td>\n",
       "      <td>0.376468</td>\n",
       "      <td>0.392179</td>\n",
       "      <td>0.473391</td>\n",
       "      <td>...</td>\n",
       "      <td>0.615343</td>\n",
       "      <td>0.532900</td>\n",
       "      <td>0.512538</td>\n",
       "      <td>0.429079</td>\n",
       "      <td>0.575111</td>\n",
       "      <td>0.296171</td>\n",
       "      <td>0.317812</td>\n",
       "      <td>0.238738</td>\n",
       "      <td>0.426055</td>\n",
       "      <td>0.602901</td>\n",
       "    </tr>\n",
       "    <tr>\n",
       "      <th>2</th>\n",
       "      <td>0.677955</td>\n",
       "      <td>0.301169</td>\n",
       "      <td>0.375587</td>\n",
       "      <td>0.271455</td>\n",
       "      <td>0.252781</td>\n",
       "      <td>0.236949</td>\n",
       "      <td>0.522947</td>\n",
       "      <td>0.332224</td>\n",
       "      <td>0.316659</td>\n",
       "      <td>0.559471</td>\n",
       "      <td>...</td>\n",
       "      <td>0.377609</td>\n",
       "      <td>0.443871</td>\n",
       "      <td>0.424580</td>\n",
       "      <td>0.552696</td>\n",
       "      <td>0.455821</td>\n",
       "      <td>0.470861</td>\n",
       "      <td>0.647225</td>\n",
       "      <td>0.371072</td>\n",
       "      <td>0.517602</td>\n",
       "      <td>0.619651</td>\n",
       "    </tr>\n",
       "    <tr>\n",
       "      <th>3</th>\n",
       "      <td>0.169289</td>\n",
       "      <td>0.248012</td>\n",
       "      <td>0.590589</td>\n",
       "      <td>0.738965</td>\n",
       "      <td>0.540033</td>\n",
       "      <td>0.456721</td>\n",
       "      <td>0.482687</td>\n",
       "      <td>0.372072</td>\n",
       "      <td>0.548419</td>\n",
       "      <td>0.794238</td>\n",
       "      <td>...</td>\n",
       "      <td>0.373065</td>\n",
       "      <td>0.459054</td>\n",
       "      <td>0.491105</td>\n",
       "      <td>0.692173</td>\n",
       "      <td>0.345190</td>\n",
       "      <td>0.377538</td>\n",
       "      <td>0.595680</td>\n",
       "      <td>0.308197</td>\n",
       "      <td>0.505632</td>\n",
       "      <td>0.241056</td>\n",
       "    </tr>\n",
       "    <tr>\n",
       "      <th>4</th>\n",
       "      <td>0.261309</td>\n",
       "      <td>0.837261</td>\n",
       "      <td>0.368851</td>\n",
       "      <td>0.667841</td>\n",
       "      <td>0.439416</td>\n",
       "      <td>0.390713</td>\n",
       "      <td>0.784342</td>\n",
       "      <td>0.721262</td>\n",
       "      <td>0.357436</td>\n",
       "      <td>0.631466</td>\n",
       "      <td>...</td>\n",
       "      <td>0.560669</td>\n",
       "      <td>0.397973</td>\n",
       "      <td>0.406847</td>\n",
       "      <td>0.653328</td>\n",
       "      <td>0.491129</td>\n",
       "      <td>0.453683</td>\n",
       "      <td>0.417029</td>\n",
       "      <td>0.601793</td>\n",
       "      <td>0.619451</td>\n",
       "      <td>0.669551</td>\n",
       "    </tr>\n",
       "  </tbody>\n",
       "</table>\n",
       "<p>5 rows × 26 columns</p>\n",
       "</div>"
      ],
      "text/plain": [
       "         0         1         2         3         4         5         6   \\\n",
       "0  0.098524  0.323340  0.626153  0.456236  0.574907  0.151181  0.206885   \n",
       "1  0.445092  0.369019  0.378762  0.902155  0.691803  0.296974  0.556302   \n",
       "2  0.677955  0.301169  0.375587  0.271455  0.252781  0.236949  0.522947   \n",
       "3  0.169289  0.248012  0.590589  0.738965  0.540033  0.456721  0.482687   \n",
       "4  0.261309  0.837261  0.368851  0.667841  0.439416  0.390713  0.784342   \n",
       "\n",
       "         7         8         9     ...           16        17        18  \\\n",
       "0  0.453073  0.573614  0.516073    ...     0.437603  0.516192  0.336023   \n",
       "1  0.376468  0.392179  0.473391    ...     0.615343  0.532900  0.512538   \n",
       "2  0.332224  0.316659  0.559471    ...     0.377609  0.443871  0.424580   \n",
       "3  0.372072  0.548419  0.794238    ...     0.373065  0.459054  0.491105   \n",
       "4  0.721262  0.357436  0.631466    ...     0.560669  0.397973  0.406847   \n",
       "\n",
       "         19        20        21        22        23        24        25  \n",
       "0  0.627326  0.541366  0.324670  0.482414  0.430395  0.545814  0.407975  \n",
       "1  0.429079  0.575111  0.296171  0.317812  0.238738  0.426055  0.602901  \n",
       "2  0.552696  0.455821  0.470861  0.647225  0.371072  0.517602  0.619651  \n",
       "3  0.692173  0.345190  0.377538  0.595680  0.308197  0.505632  0.241056  \n",
       "4  0.653328  0.491129  0.453683  0.417029  0.601793  0.619451  0.669551  \n",
       "\n",
       "[5 rows x 26 columns]"
      ]
     },
     "execution_count": 264,
     "metadata": {},
     "output_type": "execute_result"
    }
   ],
   "source": [
    "from sklearn.preprocessing import MinMaxScaler\n",
    "scaler = MinMaxScaler()\n",
    "normalized_data=scaler.fit_transform(data)\n",
    "normalized_data=pd.DataFrame(normalized_data)\n",
    "normalized_data.head()"
   ]
  },
  {
   "cell_type": "code",
   "execution_count": 265,
   "metadata": {},
   "outputs": [
    {
     "data": {
      "text/plain": [
       "(5000, 26)"
      ]
     },
     "execution_count": 265,
     "metadata": {},
     "output_type": "execute_result"
    }
   ],
   "source": [
    "normalized_data.shape"
   ]
  },
  {
   "cell_type": "code",
   "execution_count": 266,
   "metadata": {},
   "outputs": [
    {
     "data": {
      "text/plain": [
       "0.94156785711082569"
      ]
     },
     "execution_count": 266,
     "metadata": {},
     "output_type": "execute_result"
    }
   ],
   "source": [
    "knn=KNeighborsClassifier(n_neighbors=3)\n",
    "score=cross_val_score(knn,normalized_data,labels,cv=10,scoring='accuracy')\n",
    "score.mean()"
   ]
  },
  {
   "cell_type": "markdown",
   "metadata": {},
   "source": [
    "* Standard Scaler for KNN"
   ]
  },
  {
   "cell_type": "code",
   "execution_count": 267,
   "metadata": {},
   "outputs": [
    {
     "data": {
      "text/html": [
       "<div>\n",
       "<style>\n",
       "    .dataframe thead tr:only-child th {\n",
       "        text-align: right;\n",
       "    }\n",
       "\n",
       "    .dataframe thead th {\n",
       "        text-align: left;\n",
       "    }\n",
       "\n",
       "    .dataframe tbody tr th {\n",
       "        vertical-align: top;\n",
       "    }\n",
       "</style>\n",
       "<table border=\"1\" class=\"dataframe\">\n",
       "  <thead>\n",
       "    <tr style=\"text-align: right;\">\n",
       "      <th></th>\n",
       "      <th>0</th>\n",
       "      <th>1</th>\n",
       "      <th>2</th>\n",
       "      <th>3</th>\n",
       "      <th>4</th>\n",
       "      <th>5</th>\n",
       "      <th>6</th>\n",
       "      <th>7</th>\n",
       "      <th>8</th>\n",
       "      <th>9</th>\n",
       "      <th>...</th>\n",
       "      <th>16</th>\n",
       "      <th>17</th>\n",
       "      <th>18</th>\n",
       "      <th>19</th>\n",
       "      <th>20</th>\n",
       "      <th>21</th>\n",
       "      <th>22</th>\n",
       "      <th>23</th>\n",
       "      <th>24</th>\n",
       "      <th>25</th>\n",
       "    </tr>\n",
       "  </thead>\n",
       "  <tbody>\n",
       "    <tr>\n",
       "      <th>0</th>\n",
       "      <td>-1.336869</td>\n",
       "      <td>-0.771197</td>\n",
       "      <td>0.769511</td>\n",
       "      <td>-0.206850</td>\n",
       "      <td>0.688948</td>\n",
       "      <td>-2.036048</td>\n",
       "      <td>-1.344674</td>\n",
       "      <td>-0.025008</td>\n",
       "      <td>0.606049</td>\n",
       "      <td>0.139368</td>\n",
       "      <td>...</td>\n",
       "      <td>-0.288773</td>\n",
       "      <td>0.569779</td>\n",
       "      <td>-0.925232</td>\n",
       "      <td>1.284215</td>\n",
       "      <td>0.479751</td>\n",
       "      <td>-1.205144</td>\n",
       "      <td>0.030908</td>\n",
       "      <td>-0.442001</td>\n",
       "      <td>0.541295</td>\n",
       "      <td>-0.459594</td>\n",
       "    </tr>\n",
       "    <tr>\n",
       "      <th>1</th>\n",
       "      <td>0.662247</td>\n",
       "      <td>-0.522801</td>\n",
       "      <td>-0.661553</td>\n",
       "      <td>2.890837</td>\n",
       "      <td>1.421611</td>\n",
       "      <td>-1.115275</td>\n",
       "      <td>0.755853</td>\n",
       "      <td>-0.514752</td>\n",
       "      <td>-0.677803</td>\n",
       "      <td>-0.128179</td>\n",
       "      <td>...</td>\n",
       "      <td>1.012917</td>\n",
       "      <td>0.700625</td>\n",
       "      <td>0.416440</td>\n",
       "      <td>-0.171405</td>\n",
       "      <td>0.718110</td>\n",
       "      <td>-1.440025</td>\n",
       "      <td>-1.434751</td>\n",
       "      <td>-1.840476</td>\n",
       "      <td>-0.462506</td>\n",
       "      <td>0.926630</td>\n",
       "    </tr>\n",
       "    <tr>\n",
       "      <th>2</th>\n",
       "      <td>2.005479</td>\n",
       "      <td>-0.891759</td>\n",
       "      <td>-0.679920</td>\n",
       "      <td>-1.490476</td>\n",
       "      <td>-1.330023</td>\n",
       "      <td>-1.494371</td>\n",
       "      <td>0.555339</td>\n",
       "      <td>-0.797609</td>\n",
       "      <td>-1.212190</td>\n",
       "      <td>0.411405</td>\n",
       "      <td>...</td>\n",
       "      <td>-0.728135</td>\n",
       "      <td>0.003409</td>\n",
       "      <td>-0.252117</td>\n",
       "      <td>0.736242</td>\n",
       "      <td>-0.124496</td>\n",
       "      <td>-0.000281</td>\n",
       "      <td>1.498431</td>\n",
       "      <td>-0.874868</td>\n",
       "      <td>0.304832</td>\n",
       "      <td>1.045749</td>\n",
       "    </tr>\n",
       "    <tr>\n",
       "      <th>3</th>\n",
       "      <td>-0.928676</td>\n",
       "      <td>-1.180820</td>\n",
       "      <td>0.563788</td>\n",
       "      <td>1.757196</td>\n",
       "      <td>0.470371</td>\n",
       "      <td>-0.106368</td>\n",
       "      <td>0.313318</td>\n",
       "      <td>-0.542858</td>\n",
       "      <td>0.427767</td>\n",
       "      <td>1.883021</td>\n",
       "      <td>...</td>\n",
       "      <td>-0.761414</td>\n",
       "      <td>0.122313</td>\n",
       "      <td>0.253529</td>\n",
       "      <td>1.760350</td>\n",
       "      <td>-0.905933</td>\n",
       "      <td>-0.769421</td>\n",
       "      <td>1.039467</td>\n",
       "      <td>-1.333653</td>\n",
       "      <td>0.204497</td>\n",
       "      <td>-1.646647</td>\n",
       "    </tr>\n",
       "    <tr>\n",
       "      <th>4</th>\n",
       "      <td>-0.397872</td>\n",
       "      <td>2.023428</td>\n",
       "      <td>-0.718885</td>\n",
       "      <td>1.263120</td>\n",
       "      <td>-0.160260</td>\n",
       "      <td>-0.523255</td>\n",
       "      <td>2.126725</td>\n",
       "      <td>1.689565</td>\n",
       "      <td>-0.923646</td>\n",
       "      <td>0.862700</td>\n",
       "      <td>...</td>\n",
       "      <td>0.612505</td>\n",
       "      <td>-0.356039</td>\n",
       "      <td>-0.386908</td>\n",
       "      <td>1.475134</td>\n",
       "      <td>0.124905</td>\n",
       "      <td>-0.141854</td>\n",
       "      <td>-0.551296</td>\n",
       "      <td>0.808653</td>\n",
       "      <td>1.158512</td>\n",
       "      <td>1.400618</td>\n",
       "    </tr>\n",
       "  </tbody>\n",
       "</table>\n",
       "<p>5 rows × 26 columns</p>\n",
       "</div>"
      ],
      "text/plain": [
       "         0         1         2         3         4         5         6   \\\n",
       "0 -1.336869 -0.771197  0.769511 -0.206850  0.688948 -2.036048 -1.344674   \n",
       "1  0.662247 -0.522801 -0.661553  2.890837  1.421611 -1.115275  0.755853   \n",
       "2  2.005479 -0.891759 -0.679920 -1.490476 -1.330023 -1.494371  0.555339   \n",
       "3 -0.928676 -1.180820  0.563788  1.757196  0.470371 -0.106368  0.313318   \n",
       "4 -0.397872  2.023428 -0.718885  1.263120 -0.160260 -0.523255  2.126725   \n",
       "\n",
       "         7         8         9     ...           16        17        18  \\\n",
       "0 -0.025008  0.606049  0.139368    ...    -0.288773  0.569779 -0.925232   \n",
       "1 -0.514752 -0.677803 -0.128179    ...     1.012917  0.700625  0.416440   \n",
       "2 -0.797609 -1.212190  0.411405    ...    -0.728135  0.003409 -0.252117   \n",
       "3 -0.542858  0.427767  1.883021    ...    -0.761414  0.122313  0.253529   \n",
       "4  1.689565 -0.923646  0.862700    ...     0.612505 -0.356039 -0.386908   \n",
       "\n",
       "         19        20        21        22        23        24        25  \n",
       "0  1.284215  0.479751 -1.205144  0.030908 -0.442001  0.541295 -0.459594  \n",
       "1 -0.171405  0.718110 -1.440025 -1.434751 -1.840476 -0.462506  0.926630  \n",
       "2  0.736242 -0.124496 -0.000281  1.498431 -0.874868  0.304832  1.045749  \n",
       "3  1.760350 -0.905933 -0.769421  1.039467 -1.333653  0.204497 -1.646647  \n",
       "4  1.475134  0.124905 -0.141854 -0.551296  0.808653  1.158512  1.400618  \n",
       "\n",
       "[5 rows x 26 columns]"
      ]
     },
     "execution_count": 267,
     "metadata": {},
     "output_type": "execute_result"
    }
   ],
   "source": [
    "from sklearn.preprocessing import StandardScaler\n",
    "scaler=StandardScaler()\n",
    "normalized_data=scaler.fit_transform(data)\n",
    "normalized_data=pd.DataFrame(normalized_data)\n",
    "normalized_data.head()"
   ]
  },
  {
   "cell_type": "code",
   "execution_count": 270,
   "metadata": {},
   "outputs": [
    {
     "data": {
      "text/plain": [
       "0.93960378459736338"
      ]
     },
     "execution_count": 270,
     "metadata": {},
     "output_type": "execute_result"
    }
   ],
   "source": [
    "knn=KNeighborsClassifier(n_neighbors=3,weights='distance')\n",
    "score=cross_val_score(knn,normalized_data,labels,cv=10,scoring='accuracy')\n",
    "score.mean()"
   ]
  },
  {
   "cell_type": "markdown",
   "metadata": {},
   "source": [
    "* As we see, the score has not really improved much. We can go ahead with the direct Principal Components to build the classifier.\n",
    "\n",
    "* It is established that Neural Networks will give the best performance for this problem. Let's try that out."
   ]
  },
  {
   "cell_type": "markdown",
   "metadata": {},
   "source": [
    "Neural Network MLP classifier"
   ]
  },
  {
   "cell_type": "code",
   "execution_count": 14,
   "metadata": {},
   "outputs": [
    {
     "data": {
      "text/plain": [
       "0.9124103236951655"
      ]
     },
     "execution_count": 14,
     "metadata": {},
     "output_type": "execute_result"
    }
   ],
   "source": [
    "from sklearn.neural_network import MLPClassifier\n",
    "mlpc=MLPClassifier(learning_rate='adaptive',hidden_layer_sizes=(500,))\n",
    "score=cross_val_score(mlpc,data,labels,cv=10,scoring='accuracy')\n",
    "score.mean()"
   ]
  },
  {
   "cell_type": "markdown",
   "metadata": {},
   "source": [
    "* We see that with just 5000 data points out Neural Network has achieved a cross validation score of 91%. It is great. When we give entire 42000 data points as input, we can expect that it will beat the KNN model. However, for now let us build the model using KNN and see how far it can go"
   ]
  },
  {
   "cell_type": "markdown",
   "metadata": {},
   "source": [
    "# Prediction"
   ]
  },
  {
   "cell_type": "markdown",
   "metadata": {},
   "source": [
    "As per the analysis, I decide to go up with KNN with neighbors=3"
   ]
  },
  {
   "cell_type": "code",
   "execution_count": 356,
   "metadata": {
    "collapsed": true
   },
   "outputs": [],
   "source": [
    "data=pd.read_csv('Digit_dataset.csv')"
   ]
  },
  {
   "cell_type": "code",
   "execution_count": 357,
   "metadata": {},
   "outputs": [
    {
     "data": {
      "text/html": [
       "<div>\n",
       "<style>\n",
       "    .dataframe thead tr:only-child th {\n",
       "        text-align: right;\n",
       "    }\n",
       "\n",
       "    .dataframe thead th {\n",
       "        text-align: left;\n",
       "    }\n",
       "\n",
       "    .dataframe tbody tr th {\n",
       "        vertical-align: top;\n",
       "    }\n",
       "</style>\n",
       "<table border=\"1\" class=\"dataframe\">\n",
       "  <thead>\n",
       "    <tr style=\"text-align: right;\">\n",
       "      <th></th>\n",
       "      <th>label</th>\n",
       "      <th>pixel0</th>\n",
       "      <th>pixel1</th>\n",
       "      <th>pixel2</th>\n",
       "      <th>pixel3</th>\n",
       "      <th>pixel4</th>\n",
       "      <th>pixel5</th>\n",
       "      <th>pixel6</th>\n",
       "      <th>pixel7</th>\n",
       "      <th>pixel8</th>\n",
       "      <th>...</th>\n",
       "      <th>pixel774</th>\n",
       "      <th>pixel775</th>\n",
       "      <th>pixel776</th>\n",
       "      <th>pixel777</th>\n",
       "      <th>pixel778</th>\n",
       "      <th>pixel779</th>\n",
       "      <th>pixel780</th>\n",
       "      <th>pixel781</th>\n",
       "      <th>pixel782</th>\n",
       "      <th>pixel783</th>\n",
       "    </tr>\n",
       "  </thead>\n",
       "  <tbody>\n",
       "    <tr>\n",
       "      <th>0</th>\n",
       "      <td>1</td>\n",
       "      <td>0</td>\n",
       "      <td>0</td>\n",
       "      <td>0</td>\n",
       "      <td>0</td>\n",
       "      <td>0</td>\n",
       "      <td>0</td>\n",
       "      <td>0</td>\n",
       "      <td>0</td>\n",
       "      <td>0</td>\n",
       "      <td>...</td>\n",
       "      <td>0</td>\n",
       "      <td>0</td>\n",
       "      <td>0</td>\n",
       "      <td>0</td>\n",
       "      <td>0</td>\n",
       "      <td>0</td>\n",
       "      <td>0</td>\n",
       "      <td>0</td>\n",
       "      <td>0</td>\n",
       "      <td>0</td>\n",
       "    </tr>\n",
       "    <tr>\n",
       "      <th>1</th>\n",
       "      <td>0</td>\n",
       "      <td>0</td>\n",
       "      <td>0</td>\n",
       "      <td>0</td>\n",
       "      <td>0</td>\n",
       "      <td>0</td>\n",
       "      <td>0</td>\n",
       "      <td>0</td>\n",
       "      <td>0</td>\n",
       "      <td>0</td>\n",
       "      <td>...</td>\n",
       "      <td>0</td>\n",
       "      <td>0</td>\n",
       "      <td>0</td>\n",
       "      <td>0</td>\n",
       "      <td>0</td>\n",
       "      <td>0</td>\n",
       "      <td>0</td>\n",
       "      <td>0</td>\n",
       "      <td>0</td>\n",
       "      <td>0</td>\n",
       "    </tr>\n",
       "    <tr>\n",
       "      <th>2</th>\n",
       "      <td>1</td>\n",
       "      <td>0</td>\n",
       "      <td>0</td>\n",
       "      <td>0</td>\n",
       "      <td>0</td>\n",
       "      <td>0</td>\n",
       "      <td>0</td>\n",
       "      <td>0</td>\n",
       "      <td>0</td>\n",
       "      <td>0</td>\n",
       "      <td>...</td>\n",
       "      <td>0</td>\n",
       "      <td>0</td>\n",
       "      <td>0</td>\n",
       "      <td>0</td>\n",
       "      <td>0</td>\n",
       "      <td>0</td>\n",
       "      <td>0</td>\n",
       "      <td>0</td>\n",
       "      <td>0</td>\n",
       "      <td>0</td>\n",
       "    </tr>\n",
       "    <tr>\n",
       "      <th>3</th>\n",
       "      <td>4</td>\n",
       "      <td>0</td>\n",
       "      <td>0</td>\n",
       "      <td>0</td>\n",
       "      <td>0</td>\n",
       "      <td>0</td>\n",
       "      <td>0</td>\n",
       "      <td>0</td>\n",
       "      <td>0</td>\n",
       "      <td>0</td>\n",
       "      <td>...</td>\n",
       "      <td>0</td>\n",
       "      <td>0</td>\n",
       "      <td>0</td>\n",
       "      <td>0</td>\n",
       "      <td>0</td>\n",
       "      <td>0</td>\n",
       "      <td>0</td>\n",
       "      <td>0</td>\n",
       "      <td>0</td>\n",
       "      <td>0</td>\n",
       "    </tr>\n",
       "    <tr>\n",
       "      <th>4</th>\n",
       "      <td>0</td>\n",
       "      <td>0</td>\n",
       "      <td>0</td>\n",
       "      <td>0</td>\n",
       "      <td>0</td>\n",
       "      <td>0</td>\n",
       "      <td>0</td>\n",
       "      <td>0</td>\n",
       "      <td>0</td>\n",
       "      <td>0</td>\n",
       "      <td>...</td>\n",
       "      <td>0</td>\n",
       "      <td>0</td>\n",
       "      <td>0</td>\n",
       "      <td>0</td>\n",
       "      <td>0</td>\n",
       "      <td>0</td>\n",
       "      <td>0</td>\n",
       "      <td>0</td>\n",
       "      <td>0</td>\n",
       "      <td>0</td>\n",
       "    </tr>\n",
       "  </tbody>\n",
       "</table>\n",
       "<p>5 rows × 785 columns</p>\n",
       "</div>"
      ],
      "text/plain": [
       "   label  pixel0  pixel1  pixel2  pixel3  pixel4  pixel5  pixel6  pixel7  \\\n",
       "0      1       0       0       0       0       0       0       0       0   \n",
       "1      0       0       0       0       0       0       0       0       0   \n",
       "2      1       0       0       0       0       0       0       0       0   \n",
       "3      4       0       0       0       0       0       0       0       0   \n",
       "4      0       0       0       0       0       0       0       0       0   \n",
       "\n",
       "   pixel8    ...     pixel774  pixel775  pixel776  pixel777  pixel778  \\\n",
       "0       0    ...            0         0         0         0         0   \n",
       "1       0    ...            0         0         0         0         0   \n",
       "2       0    ...            0         0         0         0         0   \n",
       "3       0    ...            0         0         0         0         0   \n",
       "4       0    ...            0         0         0         0         0   \n",
       "\n",
       "   pixel779  pixel780  pixel781  pixel782  pixel783  \n",
       "0         0         0         0         0         0  \n",
       "1         0         0         0         0         0  \n",
       "2         0         0         0         0         0  \n",
       "3         0         0         0         0         0  \n",
       "4         0         0         0         0         0  \n",
       "\n",
       "[5 rows x 785 columns]"
      ]
     },
     "execution_count": 357,
     "metadata": {},
     "output_type": "execute_result"
    }
   ],
   "source": [
    "data.head()"
   ]
  },
  {
   "cell_type": "code",
   "execution_count": 358,
   "metadata": {},
   "outputs": [
    {
     "data": {
      "text/plain": [
       "(42000, 785)"
      ]
     },
     "execution_count": 358,
     "metadata": {},
     "output_type": "execute_result"
    }
   ],
   "source": [
    "data.shape"
   ]
  },
  {
   "cell_type": "code",
   "execution_count": 359,
   "metadata": {
    "collapsed": true
   },
   "outputs": [],
   "source": [
    "labels=data['label']\n",
    "data.drop('label',axis=1,inplace=True)"
   ]
  },
  {
   "cell_type": "markdown",
   "metadata": {},
   "source": [
    "perform PCA and train the data"
   ]
  },
  {
   "cell_type": "code",
   "execution_count": 360,
   "metadata": {
    "collapsed": true
   },
   "outputs": [],
   "source": [
    "\"\"\" Read the test data and concatenate it with training data. Perform PCA on both at a time. This point is really crucial.\n",
    "    If we perform PCA separtely on test data and use the model we trained on training PCA data, we will fail. \n",
    "\"\"\"\n",
    "test_data=pd.read_csv('test.csv')\n",
    "data=pd.concat([data,test_data])"
   ]
  },
  {
   "cell_type": "code",
   "execution_count": 361,
   "metadata": {
    "collapsed": true
   },
   "outputs": [],
   "source": [
    "from sklearn.decomposition import PCA\n",
    "pca=PCA(n_components=0.7)\n",
    "data=pca.fit_transform(data)\n",
    "data=pd.DataFrame(data)"
   ]
  },
  {
   "cell_type": "code",
   "execution_count": 368,
   "metadata": {},
   "outputs": [
    {
     "data": {
      "text/plain": [
       "(70000, 26)"
      ]
     },
     "execution_count": 368,
     "metadata": {},
     "output_type": "execute_result"
    }
   ],
   "source": [
    "\"\"\" Now separate the training data and test data\"\"\"\n",
    "training_data=data.iloc[0:42000,:]\n",
    "test_data=data.iloc[42000:,:]\n",
    "data.shape"
   ]
  },
  {
   "cell_type": "code",
   "execution_count": 364,
   "metadata": {},
   "outputs": [
    {
     "data": {
      "text/plain": [
       "array([ 0.97907751,  0.97193149,  0.97429795,  0.97452987,  0.97333333,\n",
       "        0.96618242,  0.97094546,  0.97331427,  0.97354623,  0.9721163 ])"
      ]
     },
     "execution_count": 364,
     "metadata": {},
     "output_type": "execute_result"
    }
   ],
   "source": [
    "knn=KNeighborsClassifier(n_neighbors=3,weights='distance')\n",
    "score=cross_val_score(knn,training_data,labels,cv=10,scoring='accuracy')\n",
    "score"
   ]
  },
  {
   "cell_type": "markdown",
   "metadata": {},
   "source": [
    "* Just a check with MLP classifier"
   ]
  },
  {
   "cell_type": "code",
   "execution_count": 282,
   "metadata": {},
   "outputs": [
    {
     "data": {
      "text/plain": [
       "0.96538258896688411"
      ]
     },
     "execution_count": 282,
     "metadata": {},
     "output_type": "execute_result"
    }
   ],
   "source": [
    "from sklearn.neural_network import MLPClassifier\n",
    "mlpc=MLPClassifier(learning_rate='adaptive',hidden_layer_sizes=(500,))\n",
    "score=cross_val_score(mlpc,data,labels,cv=10,scoring='accuracy')\n",
    "score.mean()"
   ]
  },
  {
   "cell_type": "code",
   "execution_count": 367,
   "metadata": {},
   "outputs": [
    {
     "data": {
      "text/plain": [
       "(27999, 26)"
      ]
     },
     "execution_count": 367,
     "metadata": {},
     "output_type": "execute_result"
    }
   ],
   "source": [
    "test_data.shape"
   ]
  },
  {
   "cell_type": "code",
   "execution_count": 310,
   "metadata": {},
   "outputs": [
    {
     "data": {
      "text/html": [
       "<div>\n",
       "<style>\n",
       "    .dataframe thead tr:only-child th {\n",
       "        text-align: right;\n",
       "    }\n",
       "\n",
       "    .dataframe thead th {\n",
       "        text-align: left;\n",
       "    }\n",
       "\n",
       "    .dataframe tbody tr th {\n",
       "        vertical-align: top;\n",
       "    }\n",
       "</style>\n",
       "<table border=\"1\" class=\"dataframe\">\n",
       "  <thead>\n",
       "    <tr style=\"text-align: right;\">\n",
       "      <th></th>\n",
       "      <th>pixel0</th>\n",
       "      <th>pixel1</th>\n",
       "      <th>pixel2</th>\n",
       "      <th>pixel3</th>\n",
       "      <th>pixel4</th>\n",
       "      <th>pixel5</th>\n",
       "      <th>pixel6</th>\n",
       "      <th>pixel7</th>\n",
       "      <th>pixel8</th>\n",
       "      <th>pixel9</th>\n",
       "      <th>...</th>\n",
       "      <th>pixel774</th>\n",
       "      <th>pixel775</th>\n",
       "      <th>pixel776</th>\n",
       "      <th>pixel777</th>\n",
       "      <th>pixel778</th>\n",
       "      <th>pixel779</th>\n",
       "      <th>pixel780</th>\n",
       "      <th>pixel781</th>\n",
       "      <th>pixel782</th>\n",
       "      <th>pixel783</th>\n",
       "    </tr>\n",
       "  </thead>\n",
       "  <tbody>\n",
       "    <tr>\n",
       "      <th>0</th>\n",
       "      <td>0</td>\n",
       "      <td>0</td>\n",
       "      <td>0</td>\n",
       "      <td>0</td>\n",
       "      <td>0</td>\n",
       "      <td>0</td>\n",
       "      <td>0</td>\n",
       "      <td>0</td>\n",
       "      <td>0</td>\n",
       "      <td>0</td>\n",
       "      <td>...</td>\n",
       "      <td>0</td>\n",
       "      <td>0</td>\n",
       "      <td>0</td>\n",
       "      <td>0</td>\n",
       "      <td>0</td>\n",
       "      <td>0</td>\n",
       "      <td>0</td>\n",
       "      <td>0</td>\n",
       "      <td>0</td>\n",
       "      <td>0</td>\n",
       "    </tr>\n",
       "    <tr>\n",
       "      <th>1</th>\n",
       "      <td>0</td>\n",
       "      <td>0</td>\n",
       "      <td>0</td>\n",
       "      <td>0</td>\n",
       "      <td>0</td>\n",
       "      <td>0</td>\n",
       "      <td>0</td>\n",
       "      <td>0</td>\n",
       "      <td>0</td>\n",
       "      <td>0</td>\n",
       "      <td>...</td>\n",
       "      <td>0</td>\n",
       "      <td>0</td>\n",
       "      <td>0</td>\n",
       "      <td>0</td>\n",
       "      <td>0</td>\n",
       "      <td>0</td>\n",
       "      <td>0</td>\n",
       "      <td>0</td>\n",
       "      <td>0</td>\n",
       "      <td>0</td>\n",
       "    </tr>\n",
       "    <tr>\n",
       "      <th>2</th>\n",
       "      <td>0</td>\n",
       "      <td>0</td>\n",
       "      <td>0</td>\n",
       "      <td>0</td>\n",
       "      <td>0</td>\n",
       "      <td>0</td>\n",
       "      <td>0</td>\n",
       "      <td>0</td>\n",
       "      <td>0</td>\n",
       "      <td>0</td>\n",
       "      <td>...</td>\n",
       "      <td>0</td>\n",
       "      <td>0</td>\n",
       "      <td>0</td>\n",
       "      <td>0</td>\n",
       "      <td>0</td>\n",
       "      <td>0</td>\n",
       "      <td>0</td>\n",
       "      <td>0</td>\n",
       "      <td>0</td>\n",
       "      <td>0</td>\n",
       "    </tr>\n",
       "    <tr>\n",
       "      <th>3</th>\n",
       "      <td>0</td>\n",
       "      <td>0</td>\n",
       "      <td>0</td>\n",
       "      <td>0</td>\n",
       "      <td>0</td>\n",
       "      <td>0</td>\n",
       "      <td>0</td>\n",
       "      <td>0</td>\n",
       "      <td>0</td>\n",
       "      <td>0</td>\n",
       "      <td>...</td>\n",
       "      <td>0</td>\n",
       "      <td>0</td>\n",
       "      <td>0</td>\n",
       "      <td>0</td>\n",
       "      <td>0</td>\n",
       "      <td>0</td>\n",
       "      <td>0</td>\n",
       "      <td>0</td>\n",
       "      <td>0</td>\n",
       "      <td>0</td>\n",
       "    </tr>\n",
       "    <tr>\n",
       "      <th>4</th>\n",
       "      <td>0</td>\n",
       "      <td>0</td>\n",
       "      <td>0</td>\n",
       "      <td>0</td>\n",
       "      <td>0</td>\n",
       "      <td>0</td>\n",
       "      <td>0</td>\n",
       "      <td>0</td>\n",
       "      <td>0</td>\n",
       "      <td>0</td>\n",
       "      <td>...</td>\n",
       "      <td>0</td>\n",
       "      <td>0</td>\n",
       "      <td>0</td>\n",
       "      <td>0</td>\n",
       "      <td>0</td>\n",
       "      <td>0</td>\n",
       "      <td>0</td>\n",
       "      <td>0</td>\n",
       "      <td>0</td>\n",
       "      <td>0</td>\n",
       "    </tr>\n",
       "  </tbody>\n",
       "</table>\n",
       "<p>5 rows × 784 columns</p>\n",
       "</div>"
      ],
      "text/plain": [
       "   pixel0  pixel1  pixel2  pixel3  pixel4  pixel5  pixel6  pixel7  pixel8  \\\n",
       "0       0       0       0       0       0       0       0       0       0   \n",
       "1       0       0       0       0       0       0       0       0       0   \n",
       "2       0       0       0       0       0       0       0       0       0   \n",
       "3       0       0       0       0       0       0       0       0       0   \n",
       "4       0       0       0       0       0       0       0       0       0   \n",
       "\n",
       "   pixel9    ...     pixel774  pixel775  pixel776  pixel777  pixel778  \\\n",
       "0       0    ...            0         0         0         0         0   \n",
       "1       0    ...            0         0         0         0         0   \n",
       "2       0    ...            0         0         0         0         0   \n",
       "3       0    ...            0         0         0         0         0   \n",
       "4       0    ...            0         0         0         0         0   \n",
       "\n",
       "   pixel779  pixel780  pixel781  pixel782  pixel783  \n",
       "0         0         0         0         0         0  \n",
       "1         0         0         0         0         0  \n",
       "2         0         0         0         0         0  \n",
       "3         0         0         0         0         0  \n",
       "4         0         0         0         0         0  \n",
       "\n",
       "[5 rows x 784 columns]"
      ]
     },
     "execution_count": 310,
     "metadata": {},
     "output_type": "execute_result"
    }
   ],
   "source": [
    "test_data.head()"
   ]
  },
  {
   "cell_type": "markdown",
   "metadata": {},
   "source": [
    "* Use the already available PCA performed test_data"
   ]
  },
  {
   "cell_type": "code",
   "execution_count": 369,
   "metadata": {},
   "outputs": [
    {
     "data": {
      "text/html": [
       "<div>\n",
       "<style>\n",
       "    .dataframe thead tr:only-child th {\n",
       "        text-align: right;\n",
       "    }\n",
       "\n",
       "    .dataframe thead th {\n",
       "        text-align: left;\n",
       "    }\n",
       "\n",
       "    .dataframe tbody tr th {\n",
       "        vertical-align: top;\n",
       "    }\n",
       "</style>\n",
       "<table border=\"1\" class=\"dataframe\">\n",
       "  <thead>\n",
       "    <tr style=\"text-align: right;\">\n",
       "      <th></th>\n",
       "      <th>0</th>\n",
       "      <th>1</th>\n",
       "      <th>2</th>\n",
       "      <th>3</th>\n",
       "      <th>4</th>\n",
       "      <th>5</th>\n",
       "      <th>6</th>\n",
       "      <th>7</th>\n",
       "      <th>8</th>\n",
       "      <th>9</th>\n",
       "      <th>...</th>\n",
       "      <th>16</th>\n",
       "      <th>17</th>\n",
       "      <th>18</th>\n",
       "      <th>19</th>\n",
       "      <th>20</th>\n",
       "      <th>21</th>\n",
       "      <th>22</th>\n",
       "      <th>23</th>\n",
       "      <th>24</th>\n",
       "      <th>25</th>\n",
       "    </tr>\n",
       "  </thead>\n",
       "  <tbody>\n",
       "    <tr>\n",
       "      <th>42000</th>\n",
       "      <td>845.662350</td>\n",
       "      <td>-130.182274</td>\n",
       "      <td>776.849293</td>\n",
       "      <td>645.536224</td>\n",
       "      <td>338.498098</td>\n",
       "      <td>513.391530</td>\n",
       "      <td>194.843284</td>\n",
       "      <td>75.405253</td>\n",
       "      <td>-316.877394</td>\n",
       "      <td>284.580341</td>\n",
       "      <td>...</td>\n",
       "      <td>-375.849304</td>\n",
       "      <td>372.392347</td>\n",
       "      <td>-308.120295</td>\n",
       "      <td>-170.287834</td>\n",
       "      <td>-261.103805</td>\n",
       "      <td>136.661175</td>\n",
       "      <td>280.336680</td>\n",
       "      <td>-473.251763</td>\n",
       "      <td>51.809086</td>\n",
       "      <td>-104.953767</td>\n",
       "    </tr>\n",
       "    <tr>\n",
       "      <th>42001</th>\n",
       "      <td>1150.060109</td>\n",
       "      <td>-42.099132</td>\n",
       "      <td>210.676463</td>\n",
       "      <td>-93.959362</td>\n",
       "      <td>-953.848152</td>\n",
       "      <td>442.278328</td>\n",
       "      <td>724.987042</td>\n",
       "      <td>-230.892107</td>\n",
       "      <td>401.028722</td>\n",
       "      <td>505.276583</td>\n",
       "      <td>...</td>\n",
       "      <td>570.259358</td>\n",
       "      <td>25.620834</td>\n",
       "      <td>153.095192</td>\n",
       "      <td>-149.191153</td>\n",
       "      <td>-210.876452</td>\n",
       "      <td>45.417742</td>\n",
       "      <td>-1.999095</td>\n",
       "      <td>-80.279581</td>\n",
       "      <td>-158.304546</td>\n",
       "      <td>-200.690066</td>\n",
       "    </tr>\n",
       "    <tr>\n",
       "      <th>42002</th>\n",
       "      <td>-503.627068</td>\n",
       "      <td>107.753933</td>\n",
       "      <td>167.663214</td>\n",
       "      <td>-85.295174</td>\n",
       "      <td>-169.299056</td>\n",
       "      <td>130.292064</td>\n",
       "      <td>-335.115904</td>\n",
       "      <td>-343.539201</td>\n",
       "      <td>-256.382520</td>\n",
       "      <td>-426.950207</td>\n",
       "      <td>...</td>\n",
       "      <td>151.286485</td>\n",
       "      <td>-80.204644</td>\n",
       "      <td>-164.002261</td>\n",
       "      <td>-158.448740</td>\n",
       "      <td>-116.620893</td>\n",
       "      <td>-155.727760</td>\n",
       "      <td>83.196448</td>\n",
       "      <td>179.579461</td>\n",
       "      <td>63.292061</td>\n",
       "      <td>8.565590</td>\n",
       "    </tr>\n",
       "    <tr>\n",
       "      <th>42003</th>\n",
       "      <td>-254.287072</td>\n",
       "      <td>595.593071</td>\n",
       "      <td>479.099028</td>\n",
       "      <td>404.098852</td>\n",
       "      <td>-228.083008</td>\n",
       "      <td>167.988743</td>\n",
       "      <td>-86.622208</td>\n",
       "      <td>116.914347</td>\n",
       "      <td>-93.458961</td>\n",
       "      <td>-207.618723</td>\n",
       "      <td>...</td>\n",
       "      <td>-175.829735</td>\n",
       "      <td>93.576681</td>\n",
       "      <td>-288.250824</td>\n",
       "      <td>-46.815641</td>\n",
       "      <td>108.101523</td>\n",
       "      <td>-21.118603</td>\n",
       "      <td>120.630822</td>\n",
       "      <td>-128.866254</td>\n",
       "      <td>-245.286884</td>\n",
       "      <td>42.919668</td>\n",
       "    </tr>\n",
       "    <tr>\n",
       "      <th>42004</th>\n",
       "      <td>-107.762966</td>\n",
       "      <td>-709.533906</td>\n",
       "      <td>12.856065</td>\n",
       "      <td>153.405248</td>\n",
       "      <td>284.114520</td>\n",
       "      <td>48.951714</td>\n",
       "      <td>55.657288</td>\n",
       "      <td>752.848512</td>\n",
       "      <td>-315.017970</td>\n",
       "      <td>6.650695</td>\n",
       "      <td>...</td>\n",
       "      <td>250.151990</td>\n",
       "      <td>-167.237059</td>\n",
       "      <td>-14.465438</td>\n",
       "      <td>-27.822876</td>\n",
       "      <td>-60.903592</td>\n",
       "      <td>-141.888801</td>\n",
       "      <td>-223.673813</td>\n",
       "      <td>-192.864152</td>\n",
       "      <td>-151.388462</td>\n",
       "      <td>9.367313</td>\n",
       "    </tr>\n",
       "  </tbody>\n",
       "</table>\n",
       "<p>5 rows × 26 columns</p>\n",
       "</div>"
      ],
      "text/plain": [
       "                0           1           2           3           4   \\\n",
       "42000   845.662350 -130.182274  776.849293  645.536224  338.498098   \n",
       "42001  1150.060109  -42.099132  210.676463  -93.959362 -953.848152   \n",
       "42002  -503.627068  107.753933  167.663214  -85.295174 -169.299056   \n",
       "42003  -254.287072  595.593071  479.099028  404.098852 -228.083008   \n",
       "42004  -107.762966 -709.533906   12.856065  153.405248  284.114520   \n",
       "\n",
       "               5           6           7           8           9      ...      \\\n",
       "42000  513.391530  194.843284   75.405253 -316.877394  284.580341     ...       \n",
       "42001  442.278328  724.987042 -230.892107  401.028722  505.276583     ...       \n",
       "42002  130.292064 -335.115904 -343.539201 -256.382520 -426.950207     ...       \n",
       "42003  167.988743  -86.622208  116.914347  -93.458961 -207.618723     ...       \n",
       "42004   48.951714   55.657288  752.848512 -315.017970    6.650695     ...       \n",
       "\n",
       "               16          17          18          19          20          21  \\\n",
       "42000 -375.849304  372.392347 -308.120295 -170.287834 -261.103805  136.661175   \n",
       "42001  570.259358   25.620834  153.095192 -149.191153 -210.876452   45.417742   \n",
       "42002  151.286485  -80.204644 -164.002261 -158.448740 -116.620893 -155.727760   \n",
       "42003 -175.829735   93.576681 -288.250824  -46.815641  108.101523  -21.118603   \n",
       "42004  250.151990 -167.237059  -14.465438  -27.822876  -60.903592 -141.888801   \n",
       "\n",
       "               22          23          24          25  \n",
       "42000  280.336680 -473.251763   51.809086 -104.953767  \n",
       "42001   -1.999095  -80.279581 -158.304546 -200.690066  \n",
       "42002   83.196448  179.579461   63.292061    8.565590  \n",
       "42003  120.630822 -128.866254 -245.286884   42.919668  \n",
       "42004 -223.673813 -192.864152 -151.388462    9.367313  \n",
       "\n",
       "[5 rows x 26 columns]"
      ]
     },
     "execution_count": 369,
     "metadata": {},
     "output_type": "execute_result"
    }
   ],
   "source": [
    "test_data.head()"
   ]
  },
  {
   "cell_type": "code",
   "execution_count": 370,
   "metadata": {},
   "outputs": [
    {
     "data": {
      "text/plain": [
       "(28000, 26)"
      ]
     },
     "execution_count": 370,
     "metadata": {},
     "output_type": "execute_result"
    }
   ],
   "source": [
    "test_data.shape"
   ]
  },
  {
   "cell_type": "code",
   "execution_count": 371,
   "metadata": {
    "collapsed": true
   },
   "outputs": [],
   "source": [
    "knn=KNeighborsClassifier(n_neighbors=3,weights='distance')\n",
    "knn.fit(training_data,labels)\n",
    "prediction=knn.predict(test_data)"
   ]
  },
  {
   "cell_type": "code",
   "execution_count": 372,
   "metadata": {},
   "outputs": [
    {
     "data": {
      "text/plain": [
       "(28000,)"
      ]
     },
     "execution_count": 372,
     "metadata": {},
     "output_type": "execute_result"
    }
   ],
   "source": [
    "prediction.shape"
   ]
  },
  {
   "cell_type": "code",
   "execution_count": 373,
   "metadata": {},
   "outputs": [
    {
     "data": {
      "text/plain": [
       "array([2, 0, 9, ..., 3, 9, 2], dtype=int64)"
      ]
     },
     "execution_count": 373,
     "metadata": {},
     "output_type": "execute_result"
    }
   ],
   "source": [
    "prediction"
   ]
  },
  {
   "cell_type": "code",
   "execution_count": 374,
   "metadata": {
    "collapsed": true
   },
   "outputs": [],
   "source": [
    "prediction=pd.DataFrame(prediction)"
   ]
  },
  {
   "cell_type": "code",
   "execution_count": 375,
   "metadata": {
    "collapsed": true
   },
   "outputs": [],
   "source": [
    "prediction.index.names=['ImageId']"
   ]
  },
  {
   "cell_type": "code",
   "execution_count": 376,
   "metadata": {
    "collapsed": true
   },
   "outputs": [],
   "source": [
    "prediction.columns=['Label']"
   ]
  },
  {
   "cell_type": "code",
   "execution_count": 377,
   "metadata": {},
   "outputs": [
    {
     "data": {
      "text/html": [
       "<div>\n",
       "<style>\n",
       "    .dataframe thead tr:only-child th {\n",
       "        text-align: right;\n",
       "    }\n",
       "\n",
       "    .dataframe thead th {\n",
       "        text-align: left;\n",
       "    }\n",
       "\n",
       "    .dataframe tbody tr th {\n",
       "        vertical-align: top;\n",
       "    }\n",
       "</style>\n",
       "<table border=\"1\" class=\"dataframe\">\n",
       "  <thead>\n",
       "    <tr style=\"text-align: right;\">\n",
       "      <th></th>\n",
       "      <th>Label</th>\n",
       "    </tr>\n",
       "    <tr>\n",
       "      <th>ImageId</th>\n",
       "      <th></th>\n",
       "    </tr>\n",
       "  </thead>\n",
       "  <tbody>\n",
       "    <tr>\n",
       "      <th>1</th>\n",
       "      <td>2</td>\n",
       "    </tr>\n",
       "    <tr>\n",
       "      <th>2</th>\n",
       "      <td>0</td>\n",
       "    </tr>\n",
       "    <tr>\n",
       "      <th>3</th>\n",
       "      <td>9</td>\n",
       "    </tr>\n",
       "    <tr>\n",
       "      <th>4</th>\n",
       "      <td>2</td>\n",
       "    </tr>\n",
       "    <tr>\n",
       "      <th>5</th>\n",
       "      <td>3</td>\n",
       "    </tr>\n",
       "  </tbody>\n",
       "</table>\n",
       "</div>"
      ],
      "text/plain": [
       "         Label\n",
       "ImageId       \n",
       "1            2\n",
       "2            0\n",
       "3            9\n",
       "4            2\n",
       "5            3"
      ]
     },
     "execution_count": 377,
     "metadata": {},
     "output_type": "execute_result"
    }
   ],
   "source": [
    "prediction.index = range(1,len(prediction)+1)\n",
    "prediction.index.names=['ImageId']\n",
    "prediction.head()"
   ]
  },
  {
   "cell_type": "code",
   "execution_count": 378,
   "metadata": {
    "collapsed": true
   },
   "outputs": [],
   "source": [
    "\"\"\" Submit this file as the solution in Kaggle. You will get 97% accuracy\"\"\"\n",
    "prediction.to_csv('solution.csv')"
   ]
  }
 ],
 "metadata": {
  "kernelspec": {
   "display_name": "Python 3",
   "language": "python",
   "name": "python3"
  },
  "language_info": {
   "codemirror_mode": {
    "name": "ipython",
    "version": 3
   },
   "file_extension": ".py",
   "mimetype": "text/x-python",
   "name": "python",
   "nbconvert_exporter": "python",
   "pygments_lexer": "ipython3",
   "version": "3.6.3"
  }
 },
 "nbformat": 4,
 "nbformat_minor": 2
}
