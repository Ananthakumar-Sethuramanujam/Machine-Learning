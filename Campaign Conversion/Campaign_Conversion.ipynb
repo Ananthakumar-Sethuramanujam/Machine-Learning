{
  "nbformat": 4,
  "nbformat_minor": 0,
  "metadata": {
    "colab": {
      "name": "Campaign Conversion.ipynb",
      "version": "0.3.2",
      "provenance": [],
      "collapsed_sections": [],
      "toc_visible": true,
      "include_colab_link": true
    },
    "kernelspec": {
      "name": "python3",
      "display_name": "Python 3"
    }
  },
  "cells": [
    {
      "cell_type": "markdown",
      "metadata": {
        "id": "view-in-github",
        "colab_type": "text"
      },
      "source": [
        "[View in Colaboratory](https://colab.research.google.com/github/Ananthakumar-Sethuramanujam/Machine-Learning/blob/master/Campaign%20Conversion/Campaign_Conversion.ipynb)"
      ]
    },
    {
      "metadata": {
        "id": "g2zLsFol8Wl1",
        "colab_type": "text"
      },
      "cell_type": "markdown",
      "source": [
        "# About the Notebook "
      ]
    },
    {
      "metadata": {
        "id": "oy_UqnjJ8myP",
        "colab_type": "text"
      },
      "cell_type": "markdown",
      "source": [
        "This Notebook deals with predicting whether a customer contacted over phone by a bank will subscribe to term deposit or not.\n",
        "\n",
        "\n",
        "https://archive.ics.uci.edu/ml/datasets/Bank+Marketing is the link to the dataset"
      ]
    },
    {
      "metadata": {
        "id": "g0AzyTby894j",
        "colab_type": "text"
      },
      "cell_type": "markdown",
      "source": [
        "# Install Spark on Colab"
      ]
    },
    {
      "metadata": {
        "id": "MGBFN6TB8S5x",
        "colab_type": "code",
        "colab": {
          "base_uri": "https://localhost:8080/",
          "height": 187
        },
        "outputId": "36b3972c-a5ab-43f4-a70c-bda796e1abb2"
      },
      "cell_type": "code",
      "source": [
        "!apt-get update\n",
        "!apt-get install openjdk-8-jdk-headless -qq > /dev/null\n",
        "!wget -q http://apache.osuosl.org/spark/spark-2.2.1/spark-2.2.1-bin-hadoop2.7.tgz\n",
        "!tar xf spark-2.2.1-bin-hadoop2.7.tgz\n",
        "!pip install -q findspark"
      ],
      "execution_count": 1,
      "outputs": [
        {
          "output_type": "stream",
          "text": [
            "Get:1 http://security.ubuntu.com/ubuntu artful-security InRelease [83.2 kB]\n",
            "Hit:2 http://archive.ubuntu.com/ubuntu artful InRelease\n",
            "Get:3 http://archive.ubuntu.com/ubuntu artful-updates InRelease [88.7 kB]\n",
            "Get:4 http://security.ubuntu.com/ubuntu artful-security/main amd64 Packages [237 kB]\n",
            "Get:5 http://archive.ubuntu.com/ubuntu artful-backports InRelease [74.6 kB]\n",
            "Get:6 http://archive.ubuntu.com/ubuntu artful-updates/universe Sources [45.1 kB]\n",
            "Get:7 http://archive.ubuntu.com/ubuntu artful-updates/universe amd64 Packages [149 kB]\n",
            "Get:8 http://archive.ubuntu.com/ubuntu artful-updates/main amd64 Packages [364 kB]\n",
            "Fetched 1,041 kB in 1s (864 kB/s)\n",
            "Reading package lists... Done\n"
          ],
          "name": "stdout"
        }
      ]
    },
    {
      "metadata": {
        "id": "7l7YfZj39fBq",
        "colab_type": "code",
        "colab": {
          "base_uri": "https://localhost:8080/",
          "height": 37
        },
        "outputId": "7ce36960-98bd-40be-dc83-f4bfcabee4a7"
      },
      "cell_type": "code",
      "source": [
        "import os\n",
        "os.environ[\"JAVA_HOME\"] = \"/usr/lib/jvm/java-8-openjdk-amd64\"\n",
        "os.environ[\"SPARK_HOME\"] = \"/content/spark-2.2.1-bin-hadoop2.7\""
      ],
      "execution_count": 2,
      "outputs": []
    },
    {
      "metadata": {
        "id": "1yh7gizk9gjC",
        "colab_type": "code",
        "colab": {
          "base_uri": "https://localhost:8080/",
          "height": 17
        },
        "outputId": "a3d9b461-1a17-48f3-ff8f-a87c8404395a"
      },
      "cell_type": "code",
      "source": [
        "import findspark\n",
        "findspark.init()\n",
        "from pyspark.sql import SparkSession\n",
        "spark = SparkSession.builder.master(\"local[*]\").getOrCreate()"
      ],
      "execution_count": 3,
      "outputs": []
    },
    {
      "metadata": {
        "id": "4yp8mtAx9zi6",
        "colab_type": "code",
        "colab": {
          "base_uri": "https://localhost:8080/",
          "height": 193
        },
        "outputId": "0f0a4482-4798-456e-f56a-6eb22b001d8e"
      },
      "cell_type": "code",
      "source": [
        "sc = spark.sparkContext\n",
        "sc"
      ],
      "execution_count": 4,
      "outputs": [
        {
          "output_type": "execute_result",
          "data": {
            "text/html": [
              "\n",
              "        <div>\n",
              "            <p><b>SparkContext</b></p>\n",
              "\n",
              "            <p><a href=\"http://172.17.0.2:4040\">Spark UI</a></p>\n",
              "\n",
              "            <dl>\n",
              "              <dt>Version</dt>\n",
              "                <dd><code>v2.2.1</code></dd>\n",
              "              <dt>Master</dt>\n",
              "                <dd><code>local[*]</code></dd>\n",
              "              <dt>AppName</dt>\n",
              "                <dd><code>pyspark-shell</code></dd>\n",
              "            </dl>\n",
              "        </div>\n",
              "        "
            ],
            "text/plain": [
              "<SparkContext master=local[*] appName=pyspark-shell>"
            ]
          },
          "metadata": {
            "tags": []
          },
          "execution_count": 4
        }
      ]
    },
    {
      "metadata": {
        "id": "hKioEtp192QE",
        "colab_type": "text"
      },
      "cell_type": "markdown",
      "source": [
        "# Read the data and create a spark dataframe"
      ]
    },
    {
      "metadata": {
        "id": "6Asqc6OO4TgN",
        "colab_type": "text"
      },
      "cell_type": "markdown",
      "source": [
        "Important point to note here is that spark will parallelize as long as we use either RDD or spark DataFrame. Using Pandas dataFrame will be single threaded. We cannot use Dataset API since it is supported only in Java and Scala.\n",
        "\n",
        "We will use spark dataframe instead of RDD. This is because RDD does not take advantage of catalyst optimization Spark provides."
      ]
    },
    {
      "metadata": {
        "id": "q4CLeA7_987G",
        "colab_type": "code",
        "colab": {
          "resources": {
            "http://localhost:8080/nbextensions/google.colab/files.js": {
              "data": "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",
              "ok": true,
              "headers": [
                [
                  "content-type",
                  "application/javascript"
                ]
              ],
              "status": 200,
              "status_text": ""
            }
          },
          "base_uri": "https://localhost:8080/",
          "height": 72
        },
        "outputId": "1bfe4f9d-f67a-449e-c1bc-4df2da57e1fc"
      },
      "cell_type": "code",
      "source": [
        "from google.colab import files\n",
        "datafile=files.upload()"
      ],
      "execution_count": 55,
      "outputs": [
        {
          "output_type": "display_data",
          "data": {
            "text/html": [
              "\n",
              "     <input type=\"file\" id=\"files-c8e03e22-15a4-40f1-96be-a871ce8eb545\" name=\"files[]\" multiple disabled />\n",
              "     <output id=\"result-c8e03e22-15a4-40f1-96be-a871ce8eb545\">\n",
              "      Upload widget is only available when the cell has been executed in the\n",
              "      current browser session. Please rerun this cell to enable.\n",
              "      </output>\n",
              "      <script src=\"/nbextensions/google.colab/files.js\"></script> "
            ],
            "text/plain": [
              "<IPython.core.display.HTML object>"
            ]
          },
          "metadata": {
            "tags": []
          }
        },
        {
          "output_type": "stream",
          "text": [
            "Saving bank-additional.zip to bank-additional.zip\n"
          ],
          "name": "stdout"
        }
      ]
    },
    {
      "metadata": {
        "id": "3v83mSgLCKtH",
        "colab_type": "code",
        "colab": {
          "base_uri": "https://localhost:8080/",
          "height": 187
        },
        "outputId": "8d88dbb2-7612-454c-8cd8-f5edc7f754f7"
      },
      "cell_type": "code",
      "source": [
        "import zipfile\n",
        "zfile = zipfile.ZipFile('bank-additional.zip')\n",
        "for finfo in zfile.infolist():\n",
        "  print(finfo.filename)"
      ],
      "execution_count": 6,
      "outputs": [
        {
          "output_type": "stream",
          "text": [
            "bank-additional/\n",
            "bank-additional/.DS_Store\n",
            "__MACOSX/\n",
            "__MACOSX/bank-additional/\n",
            "__MACOSX/bank-additional/._.DS_Store\n",
            "bank-additional/.Rhistory\n",
            "bank-additional/bank-additional-full.csv\n",
            "bank-additional/bank-additional-names.txt\n",
            "bank-additional/bank-additional.csv\n",
            "__MACOSX/._bank-additional\n"
          ],
          "name": "stdout"
        }
      ]
    },
    {
      "metadata": {
        "id": "0nEvzTZqD7DM",
        "colab_type": "code",
        "colab": {
          "base_uri": "https://localhost:8080/",
          "height": 37
        },
        "outputId": "09098a35-9c8e-4382-da98-5860e90c8ac5"
      },
      "cell_type": "code",
      "source": [
        "zip_read=zfile.open('bank-additional/bank-additional-full.csv')   #Open the csv file"
      ],
      "execution_count": 7,
      "outputs": []
    },
    {
      "metadata": {
        "id": "ZYFlrB_yEkSI",
        "colab_type": "code",
        "colab": {
          "base_uri": "https://localhost:8080/",
          "height": 37
        },
        "outputId": "6f168a1c-d0dd-4fa1-cf68-fdaa41f04d3a"
      },
      "cell_type": "code",
      "source": [
        "import numpy as np\n",
        "import pandas as pd\n",
        "data=pd.read_csv(zip_read,header='infer',sep=';')     # read the data with pandas"
      ],
      "execution_count": 8,
      "outputs": []
    },
    {
      "metadata": {
        "id": "zwEZLVziERcv",
        "colab_type": "code",
        "colab": {
          "base_uri": "https://localhost:8080/",
          "height": 37
        },
        "outputId": "8f9dafbc-45e0-4fac-aac8-08f2ccb2bf58"
      },
      "cell_type": "code",
      "source": [
        "\n",
        "data=pd.DataFrame(data) # create pandas dataframe"
      ],
      "execution_count": 9,
      "outputs": []
    },
    {
      "metadata": {
        "id": "Il-uc88jG25k",
        "colab_type": "code",
        "colab": {
          "base_uri": "https://localhost:8080/",
          "height": 253
        },
        "outputId": "6b3de61f-a959-4097-d115-86a502ce5093"
      },
      "cell_type": "code",
      "source": [
        "data.head()"
      ],
      "execution_count": 10,
      "outputs": [
        {
          "output_type": "execute_result",
          "data": {
            "text/html": [
              "<div>\n",
              "<style scoped>\n",
              "    .dataframe tbody tr th:only-of-type {\n",
              "        vertical-align: middle;\n",
              "    }\n",
              "\n",
              "    .dataframe tbody tr th {\n",
              "        vertical-align: top;\n",
              "    }\n",
              "\n",
              "    .dataframe thead th {\n",
              "        text-align: right;\n",
              "    }\n",
              "</style>\n",
              "<table border=\"1\" class=\"dataframe\">\n",
              "  <thead>\n",
              "    <tr style=\"text-align: right;\">\n",
              "      <th></th>\n",
              "      <th>age</th>\n",
              "      <th>job</th>\n",
              "      <th>marital</th>\n",
              "      <th>education</th>\n",
              "      <th>default</th>\n",
              "      <th>housing</th>\n",
              "      <th>loan</th>\n",
              "      <th>contact</th>\n",
              "      <th>month</th>\n",
              "      <th>day_of_week</th>\n",
              "      <th>...</th>\n",
              "      <th>campaign</th>\n",
              "      <th>pdays</th>\n",
              "      <th>previous</th>\n",
              "      <th>poutcome</th>\n",
              "      <th>emp.var.rate</th>\n",
              "      <th>cons.price.idx</th>\n",
              "      <th>cons.conf.idx</th>\n",
              "      <th>euribor3m</th>\n",
              "      <th>nr.employed</th>\n",
              "      <th>y</th>\n",
              "    </tr>\n",
              "  </thead>\n",
              "  <tbody>\n",
              "    <tr>\n",
              "      <th>0</th>\n",
              "      <td>56</td>\n",
              "      <td>housemaid</td>\n",
              "      <td>married</td>\n",
              "      <td>basic.4y</td>\n",
              "      <td>no</td>\n",
              "      <td>no</td>\n",
              "      <td>no</td>\n",
              "      <td>telephone</td>\n",
              "      <td>may</td>\n",
              "      <td>mon</td>\n",
              "      <td>...</td>\n",
              "      <td>1</td>\n",
              "      <td>999</td>\n",
              "      <td>0</td>\n",
              "      <td>nonexistent</td>\n",
              "      <td>1.1</td>\n",
              "      <td>93.994</td>\n",
              "      <td>-36.4</td>\n",
              "      <td>4.857</td>\n",
              "      <td>5191.0</td>\n",
              "      <td>no</td>\n",
              "    </tr>\n",
              "    <tr>\n",
              "      <th>1</th>\n",
              "      <td>57</td>\n",
              "      <td>services</td>\n",
              "      <td>married</td>\n",
              "      <td>high.school</td>\n",
              "      <td>unknown</td>\n",
              "      <td>no</td>\n",
              "      <td>no</td>\n",
              "      <td>telephone</td>\n",
              "      <td>may</td>\n",
              "      <td>mon</td>\n",
              "      <td>...</td>\n",
              "      <td>1</td>\n",
              "      <td>999</td>\n",
              "      <td>0</td>\n",
              "      <td>nonexistent</td>\n",
              "      <td>1.1</td>\n",
              "      <td>93.994</td>\n",
              "      <td>-36.4</td>\n",
              "      <td>4.857</td>\n",
              "      <td>5191.0</td>\n",
              "      <td>no</td>\n",
              "    </tr>\n",
              "    <tr>\n",
              "      <th>2</th>\n",
              "      <td>37</td>\n",
              "      <td>services</td>\n",
              "      <td>married</td>\n",
              "      <td>high.school</td>\n",
              "      <td>no</td>\n",
              "      <td>yes</td>\n",
              "      <td>no</td>\n",
              "      <td>telephone</td>\n",
              "      <td>may</td>\n",
              "      <td>mon</td>\n",
              "      <td>...</td>\n",
              "      <td>1</td>\n",
              "      <td>999</td>\n",
              "      <td>0</td>\n",
              "      <td>nonexistent</td>\n",
              "      <td>1.1</td>\n",
              "      <td>93.994</td>\n",
              "      <td>-36.4</td>\n",
              "      <td>4.857</td>\n",
              "      <td>5191.0</td>\n",
              "      <td>no</td>\n",
              "    </tr>\n",
              "    <tr>\n",
              "      <th>3</th>\n",
              "      <td>40</td>\n",
              "      <td>admin.</td>\n",
              "      <td>married</td>\n",
              "      <td>basic.6y</td>\n",
              "      <td>no</td>\n",
              "      <td>no</td>\n",
              "      <td>no</td>\n",
              "      <td>telephone</td>\n",
              "      <td>may</td>\n",
              "      <td>mon</td>\n",
              "      <td>...</td>\n",
              "      <td>1</td>\n",
              "      <td>999</td>\n",
              "      <td>0</td>\n",
              "      <td>nonexistent</td>\n",
              "      <td>1.1</td>\n",
              "      <td>93.994</td>\n",
              "      <td>-36.4</td>\n",
              "      <td>4.857</td>\n",
              "      <td>5191.0</td>\n",
              "      <td>no</td>\n",
              "    </tr>\n",
              "    <tr>\n",
              "      <th>4</th>\n",
              "      <td>56</td>\n",
              "      <td>services</td>\n",
              "      <td>married</td>\n",
              "      <td>high.school</td>\n",
              "      <td>no</td>\n",
              "      <td>no</td>\n",
              "      <td>yes</td>\n",
              "      <td>telephone</td>\n",
              "      <td>may</td>\n",
              "      <td>mon</td>\n",
              "      <td>...</td>\n",
              "      <td>1</td>\n",
              "      <td>999</td>\n",
              "      <td>0</td>\n",
              "      <td>nonexistent</td>\n",
              "      <td>1.1</td>\n",
              "      <td>93.994</td>\n",
              "      <td>-36.4</td>\n",
              "      <td>4.857</td>\n",
              "      <td>5191.0</td>\n",
              "      <td>no</td>\n",
              "    </tr>\n",
              "  </tbody>\n",
              "</table>\n",
              "<p>5 rows × 21 columns</p>\n",
              "</div>"
            ],
            "text/plain": [
              "   age        job  marital    education  default housing loan    contact  \\\n",
              "0   56  housemaid  married     basic.4y       no      no   no  telephone   \n",
              "1   57   services  married  high.school  unknown      no   no  telephone   \n",
              "2   37   services  married  high.school       no     yes   no  telephone   \n",
              "3   40     admin.  married     basic.6y       no      no   no  telephone   \n",
              "4   56   services  married  high.school       no      no  yes  telephone   \n",
              "\n",
              "  month day_of_week ...  campaign  pdays  previous     poutcome emp.var.rate  \\\n",
              "0   may         mon ...         1    999         0  nonexistent          1.1   \n",
              "1   may         mon ...         1    999         0  nonexistent          1.1   \n",
              "2   may         mon ...         1    999         0  nonexistent          1.1   \n",
              "3   may         mon ...         1    999         0  nonexistent          1.1   \n",
              "4   may         mon ...         1    999         0  nonexistent          1.1   \n",
              "\n",
              "   cons.price.idx  cons.conf.idx  euribor3m  nr.employed   y  \n",
              "0          93.994          -36.4      4.857       5191.0  no  \n",
              "1          93.994          -36.4      4.857       5191.0  no  \n",
              "2          93.994          -36.4      4.857       5191.0  no  \n",
              "3          93.994          -36.4      4.857       5191.0  no  \n",
              "4          93.994          -36.4      4.857       5191.0  no  \n",
              "\n",
              "[5 rows x 21 columns]"
            ]
          },
          "metadata": {
            "tags": []
          },
          "execution_count": 10
        }
      ]
    },
    {
      "metadata": {
        "id": "demnGXJEEt4K",
        "colab_type": "code",
        "colab": {
          "base_uri": "https://localhost:8080/",
          "height": 37
        },
        "outputId": "5f6038f0-ac98-4f28-fbbb-8c1de7def834"
      },
      "cell_type": "code",
      "source": [
        "df=spark.createDataFrame(data)   # Spark DataFrame is created"
      ],
      "execution_count": 11,
      "outputs": []
    },
    {
      "metadata": {
        "id": "_qK9natTIEnm",
        "colab_type": "code",
        "colab": {
          "base_uri": "https://localhost:8080/",
          "height": 479
        },
        "outputId": "3bf42f7f-cf90-42cf-83e9-4e747fc5d696"
      },
      "cell_type": "code",
      "source": [
        "df.show()"
      ],
      "execution_count": 12,
      "outputs": [
        {
          "output_type": "stream",
          "text": [
            "+---+-----------+--------+-------------------+-------+-------+----+---------+-----+-----------+--------+--------+-----+--------+-----------+------------+--------------+-------------+---------+-----------+---+\n",
            "|age|        job| marital|          education|default|housing|loan|  contact|month|day_of_week|duration|campaign|pdays|previous|   poutcome|emp.var.rate|cons.price.idx|cons.conf.idx|euribor3m|nr.employed|  y|\n",
            "+---+-----------+--------+-------------------+-------+-------+----+---------+-----+-----------+--------+--------+-----+--------+-----------+------------+--------------+-------------+---------+-----------+---+\n",
            "| 56|  housemaid| married|           basic.4y|     no|     no|  no|telephone|  may|        mon|     261|       1|  999|       0|nonexistent|         1.1|        93.994|        -36.4|    4.857|     5191.0| no|\n",
            "| 57|   services| married|        high.school|unknown|     no|  no|telephone|  may|        mon|     149|       1|  999|       0|nonexistent|         1.1|        93.994|        -36.4|    4.857|     5191.0| no|\n",
            "| 37|   services| married|        high.school|     no|    yes|  no|telephone|  may|        mon|     226|       1|  999|       0|nonexistent|         1.1|        93.994|        -36.4|    4.857|     5191.0| no|\n",
            "| 40|     admin.| married|           basic.6y|     no|     no|  no|telephone|  may|        mon|     151|       1|  999|       0|nonexistent|         1.1|        93.994|        -36.4|    4.857|     5191.0| no|\n",
            "| 56|   services| married|        high.school|     no|     no| yes|telephone|  may|        mon|     307|       1|  999|       0|nonexistent|         1.1|        93.994|        -36.4|    4.857|     5191.0| no|\n",
            "| 45|   services| married|           basic.9y|unknown|     no|  no|telephone|  may|        mon|     198|       1|  999|       0|nonexistent|         1.1|        93.994|        -36.4|    4.857|     5191.0| no|\n",
            "| 59|     admin.| married|professional.course|     no|     no|  no|telephone|  may|        mon|     139|       1|  999|       0|nonexistent|         1.1|        93.994|        -36.4|    4.857|     5191.0| no|\n",
            "| 41|blue-collar| married|            unknown|unknown|     no|  no|telephone|  may|        mon|     217|       1|  999|       0|nonexistent|         1.1|        93.994|        -36.4|    4.857|     5191.0| no|\n",
            "| 24| technician|  single|professional.course|     no|    yes|  no|telephone|  may|        mon|     380|       1|  999|       0|nonexistent|         1.1|        93.994|        -36.4|    4.857|     5191.0| no|\n",
            "| 25|   services|  single|        high.school|     no|    yes|  no|telephone|  may|        mon|      50|       1|  999|       0|nonexistent|         1.1|        93.994|        -36.4|    4.857|     5191.0| no|\n",
            "| 41|blue-collar| married|            unknown|unknown|     no|  no|telephone|  may|        mon|      55|       1|  999|       0|nonexistent|         1.1|        93.994|        -36.4|    4.857|     5191.0| no|\n",
            "| 25|   services|  single|        high.school|     no|    yes|  no|telephone|  may|        mon|     222|       1|  999|       0|nonexistent|         1.1|        93.994|        -36.4|    4.857|     5191.0| no|\n",
            "| 29|blue-collar|  single|        high.school|     no|     no| yes|telephone|  may|        mon|     137|       1|  999|       0|nonexistent|         1.1|        93.994|        -36.4|    4.857|     5191.0| no|\n",
            "| 57|  housemaid|divorced|           basic.4y|     no|    yes|  no|telephone|  may|        mon|     293|       1|  999|       0|nonexistent|         1.1|        93.994|        -36.4|    4.857|     5191.0| no|\n",
            "| 35|blue-collar| married|           basic.6y|     no|    yes|  no|telephone|  may|        mon|     146|       1|  999|       0|nonexistent|         1.1|        93.994|        -36.4|    4.857|     5191.0| no|\n",
            "| 54|    retired| married|           basic.9y|unknown|    yes| yes|telephone|  may|        mon|     174|       1|  999|       0|nonexistent|         1.1|        93.994|        -36.4|    4.857|     5191.0| no|\n",
            "| 35|blue-collar| married|           basic.6y|     no|    yes|  no|telephone|  may|        mon|     312|       1|  999|       0|nonexistent|         1.1|        93.994|        -36.4|    4.857|     5191.0| no|\n",
            "| 46|blue-collar| married|           basic.6y|unknown|    yes| yes|telephone|  may|        mon|     440|       1|  999|       0|nonexistent|         1.1|        93.994|        -36.4|    4.857|     5191.0| no|\n",
            "| 50|blue-collar| married|           basic.9y|     no|    yes| yes|telephone|  may|        mon|     353|       1|  999|       0|nonexistent|         1.1|        93.994|        -36.4|    4.857|     5191.0| no|\n",
            "| 39| management|  single|           basic.9y|unknown|     no|  no|telephone|  may|        mon|     195|       1|  999|       0|nonexistent|         1.1|        93.994|        -36.4|    4.857|     5191.0| no|\n",
            "+---+-----------+--------+-------------------+-------+-------+----+---------+-----+-----------+--------+--------+-----+--------+-----------+------------+--------------+-------------+---------+-----------+---+\n",
            "only showing top 20 rows\n",
            "\n"
          ],
          "name": "stdout"
        }
      ]
    },
    {
      "metadata": {
        "id": "-vg1jIm6Y5MU",
        "colab_type": "code",
        "colab": {
          "base_uri": "https://localhost:8080/",
          "height": 408
        },
        "outputId": "6515600c-d18b-49ff-cfeb-0c1ba154bfc3"
      },
      "cell_type": "code",
      "source": [
        "df.printSchema()"
      ],
      "execution_count": 13,
      "outputs": [
        {
          "output_type": "stream",
          "text": [
            "root\n",
            " |-- age: long (nullable = true)\n",
            " |-- job: string (nullable = true)\n",
            " |-- marital: string (nullable = true)\n",
            " |-- education: string (nullable = true)\n",
            " |-- default: string (nullable = true)\n",
            " |-- housing: string (nullable = true)\n",
            " |-- loan: string (nullable = true)\n",
            " |-- contact: string (nullable = true)\n",
            " |-- month: string (nullable = true)\n",
            " |-- day_of_week: string (nullable = true)\n",
            " |-- duration: long (nullable = true)\n",
            " |-- campaign: long (nullable = true)\n",
            " |-- pdays: long (nullable = true)\n",
            " |-- previous: long (nullable = true)\n",
            " |-- poutcome: string (nullable = true)\n",
            " |-- emp.var.rate: double (nullable = true)\n",
            " |-- cons.price.idx: double (nullable = true)\n",
            " |-- cons.conf.idx: double (nullable = true)\n",
            " |-- euribor3m: double (nullable = true)\n",
            " |-- nr.employed: double (nullable = true)\n",
            " |-- y: string (nullable = true)\n",
            "\n"
          ],
          "name": "stdout"
        }
      ]
    },
    {
      "metadata": {
        "id": "SEqY6i-4RJTy",
        "colab_type": "code",
        "colab": {
          "base_uri": "https://localhost:8080/",
          "height": 374
        },
        "outputId": "04c6517b-de74-4fde-db0b-e2669e88ce0f"
      },
      "cell_type": "code",
      "source": [
        "df.columns  # we can use .columns similar to pandas dataframe also"
      ],
      "execution_count": 14,
      "outputs": [
        {
          "output_type": "execute_result",
          "data": {
            "text/plain": [
              "['age',\n",
              " 'job',\n",
              " 'marital',\n",
              " 'education',\n",
              " 'default',\n",
              " 'housing',\n",
              " 'loan',\n",
              " 'contact',\n",
              " 'month',\n",
              " 'day_of_week',\n",
              " 'duration',\n",
              " 'campaign',\n",
              " 'pdays',\n",
              " 'previous',\n",
              " 'poutcome',\n",
              " 'emp.var.rate',\n",
              " 'cons.price.idx',\n",
              " 'cons.conf.idx',\n",
              " 'euribor3m',\n",
              " 'nr.employed',\n",
              " 'y']"
            ]
          },
          "metadata": {
            "tags": []
          },
          "execution_count": 14
        }
      ]
    },
    {
      "metadata": {
        "id": "XnMBVxKNO6qG",
        "colab_type": "text"
      },
      "cell_type": "markdown",
      "source": [
        "# Feature Information"
      ]
    },
    {
      "metadata": {
        "id": "jUBQl2OQauc4",
        "colab_type": "text"
      },
      "cell_type": "markdown",
      "source": [
        "   **Attribute Information:**\n",
        "   \n",
        "   1 - age\n",
        "   \n",
        "   2 - job : type of job (categorical: \"admin.\",\"blue-collar\",\"entrepreneur\",\"housemaid\",\"management\",\"retired\",\"self-employed\",\"services\",\"student\",\"technician\",\"unemployed\",\"unknown\")\n",
        "   \n",
        "   3 - marital : marital status (categorical: \"divorced\",\"married\",\"single\",\"unknown\"; note: \"divorced\" means divorced or widowed)\n",
        "   \n",
        "   4 - education (categorical: \"basic.4y\",\"basic.6y\",\"basic.9y\",\"high.school\",\"illiterate\",\"professional.course\",\"university.degree\",\"unknown\")\n",
        "   \n",
        "   5 - default: has credit in default? (categorical: \"no\",\"yes\",\"unknown\")\n",
        "   \n",
        "   6 - housing: has housing loan? (categorical: \"no\",\"yes\",\"unknown\")\n",
        "   \n",
        "   7 - loan: has personal loan? (categorical: \"no\",\"yes\",\"unknown\")\n",
        "  \n",
        "  *Related with the last contact of the current campaign:*\n",
        "  \n",
        "   8 - contact: contact communication type (categorical: \"cellular\",\"telephone\") \n",
        "   \n",
        "   9 - month: last contact month of year (categorical: \"jan\", \"feb\", \"mar\", ..., \"nov\", \"dec\")\n",
        "   \n",
        "  10 - day_of_week: last contact day of the week (categorical: \"mon\",\"tue\",\"wed\",\"thu\",\"fri\")\n",
        "  \n",
        "  11 - duration: last contact duration, in seconds (numeric). Important note:  this attribute highly affects the output target (e.g., if duration=0 then y=\"no\"). Yet, the duration is not known before a call is performed. Also, after the end of the call y is obviously known. Thus, this input should only be included for benchmark purposes and should be discarded if the intention is to have a realistic predictive model.\n",
        "  \n",
        "    *other attributes:*\n",
        "    \n",
        "  12 - campaign: number of contacts performed during this campaign and for this client (numeric, includes last contact)\n",
        "  \n",
        "  13 - pdays: number of days that passed by after the client was last contacted from a previous campaign (numeric; 999 means client was not previously contacted)\n",
        "  \n",
        "  14 - previous: number of contacts performed before this campaign and for this client (numeric)\n",
        "  \n",
        "  15 - poutcome: outcome of the previous marketing campaign (categorical: \"failure\",\"nonexistent\",\"success\")\n",
        "  \n",
        "  * social and economic context attributes*\n",
        "   \n",
        "  16 - emp.var.rate: employment variation rate - quarterly indicator (numeric)\n",
        "  \n",
        "  17 - cons.price.idx: consumer price index - monthly indicator (numeric)    \n",
        "  \n",
        "  18 - cons.conf.idx: consumer confidence index - monthly indicator (numeric)  \n",
        "  \n",
        "  19 - euribor3m: euribor 3 month rate - daily indicator (numeric)\n",
        "  \n",
        "  20 - nr.employed: number of employees - quarterly indicator (numeric)\n",
        "\n",
        " * Output variable (desired target):*\n",
        " \n",
        "  21 - y - has the client subscribed a term deposit? (binary: \"yes\",\"no\")"
      ]
    },
    {
      "metadata": {
        "id": "tof9m8r6duf_",
        "colab_type": "code",
        "colab": {
          "base_uri": "https://localhost:8080/",
          "height": 37
        },
        "outputId": "26c7c5da-0b80-4483-920a-db9a06b969ac"
      },
      "cell_type": "code",
      "source": [
        "# Rename the spark dataframe columns\n",
        "\n",
        "df=df.toDF('age','job','marital','education','default','housing','loan','contact','month','day_of_week','duration','campaign','days since client last contacted'\n",
        " ,'previous contacts with client','previous campaign outcome','employment variation rate','consumer price index','consumer confidence index'\n",
        ",'euribor 3 month rate','number of employees','target')"
      ],
      "execution_count": 15,
      "outputs": []
    },
    {
      "metadata": {
        "id": "FHiBGlzrPGnx",
        "colab_type": "text"
      },
      "cell_type": "markdown",
      "source": [
        "# Pipelining feature transformation"
      ]
    },
    {
      "metadata": {
        "id": "Ybqv2LSHZ4eq",
        "colab_type": "code",
        "colab": {
          "base_uri": "https://localhost:8080/",
          "height": 34
        },
        "outputId": "1b4fd18e-7377-44bd-d057-e2473aff4f27"
      },
      "cell_type": "code",
      "source": [
        "df.select('*').count()    #count the number of rows"
      ],
      "execution_count": 16,
      "outputs": [
        {
          "output_type": "execute_result",
          "data": {
            "text/plain": [
              "41188"
            ]
          },
          "metadata": {
            "tags": []
          },
          "execution_count": 16
        }
      ]
    },
    {
      "metadata": {
        "id": "mFa-YfHd1VlH",
        "colab_type": "code",
        "colab": {
          "base_uri": "https://localhost:8080/",
          "height": 207
        },
        "outputId": "ff7821a8-a582-465a-c0f5-4ecbe8cf7286"
      },
      "cell_type": "code",
      "source": [
        "df.describe().show() \n",
        "# Summary statistics for predictors are shown here. For categorical predictors mean and stddev will be null"
      ],
      "execution_count": 17,
      "outputs": [
        {
          "output_type": "stream",
          "text": [
            "+-------+-----------------+-------+--------+---------+-------+-------+-----+---------+-----+-----------+-----------------+------------------+--------------------------------+-----------------------------+-------------------------+-------------------------+--------------------+-------------------------+--------------------+-------------------+------+\n",
            "|summary|              age|    job| marital|education|default|housing| loan|  contact|month|day_of_week|         duration|          campaign|days since client last contacted|previous contacts with client|previous campaign outcome|employment variation rate|consumer price index|consumer confidence index|euribor 3 month rate|number of employees|target|\n",
            "+-------+-----------------+-------+--------+---------+-------+-------+-----+---------+-----+-----------+-----------------+------------------+--------------------------------+-----------------------------+-------------------------+-------------------------+--------------------+-------------------------+--------------------+-------------------+------+\n",
            "|  count|            41188|  41188|   41188|    41188|  41188|  41188|41188|    41188|41188|      41188|            41188|             41188|                           41188|                        41188|                    41188|                    41188|               41188|                    41188|               41188|              41188| 41188|\n",
            "|   mean|40.02406040594348|   null|    null|     null|   null|   null| null|     null| null|       null|258.2850101971448| 2.567592502670681|               962.4754540157328|          0.17296299893172767|                     null|      0.08188550063146356|   93.57566436825361|       -40.50260027191408|  3.6212908128580406|  5167.035910943787|  null|\n",
            "| stddev|10.42124998093405|   null|    null|     null|   null|   null| null|     null| null|       null|259.2792488364651|2.7700135429023307|              186.91090734474184|          0.49490107983929005|                     null|       1.5709597405170275|  0.5788400489541168|        4.628197856174585|  1.7344474048512548|  72.25152766824952|  null|\n",
            "|    min|               17| admin.|divorced| basic.4y|     no|     no|   no| cellular|  apr|        fri|                0|                 1|                               0|                            0|                  failure|                     -3.4|   92.20100000000001|                    -50.8|               0.634|             4963.6|    no|\n",
            "|    max|               98|unknown| unknown|  unknown|    yes|    yes|  yes|telephone|  sep|        wed|             4918|                56|                             999|                            7|                  success|                      1.4|   94.76700000000001|                    -26.9|               5.045|             5228.1|   yes|\n",
            "+-------+-----------------+-------+--------+---------+-------+-------+-----+---------+-----+-----------+-----------------+------------------+--------------------------------+-----------------------------+-------------------------+-------------------------+--------------------+-------------------------+--------------------+-------------------+------+\n",
            "\n"
          ],
          "name": "stdout"
        }
      ]
    },
    {
      "metadata": {
        "id": "t5gx4A0EZm4P",
        "colab_type": "code",
        "colab": {
          "base_uri": "https://localhost:8080/",
          "height": 37
        },
        "outputId": "0b76e6c7-6e4d-46b8-9495-aeaa13a8cd6a"
      },
      "cell_type": "code",
      "source": [
        "missing_value_dropped_data = df.na.drop()   # drop the missing values"
      ],
      "execution_count": 18,
      "outputs": []
    },
    {
      "metadata": {
        "id": "fKrXVbtBgFWz",
        "colab_type": "code",
        "colab": {
          "base_uri": "https://localhost:8080/",
          "height": 34
        },
        "outputId": "ef853bcd-83bf-4fa8-df98-2cd6022cc81e"
      },
      "cell_type": "code",
      "source": [
        "missing_value_dropped_data.select('*').count()  \n",
        "# There are no missing values because the count before dropping na and after dropping na is same"
      ],
      "execution_count": 19,
      "outputs": [
        {
          "output_type": "execute_result",
          "data": {
            "text/plain": [
              "41188"
            ]
          },
          "metadata": {
            "tags": []
          },
          "execution_count": 19
        }
      ]
    },
    {
      "metadata": {
        "id": "Ykb5QKHigNuM",
        "colab_type": "code",
        "colab": {
          "base_uri": "https://localhost:8080/",
          "height": 321
        },
        "outputId": "514412c6-c6f4-4cc0-b888-93fcb1b82381"
      },
      "cell_type": "code",
      "source": [
        " \"\"\" Note that we created this spark dataframe df from pandas dataframe data. \n",
        "We can convert back the spark dataframe df to pandas dataframe. \n",
        "This is just an illustration                                                  \"\"\"\n",
        "  \n",
        "back_converted= df.toPandas()\n",
        "back_converted.head()"
      ],
      "execution_count": 20,
      "outputs": [
        {
          "output_type": "execute_result",
          "data": {
            "text/html": [
              "<div>\n",
              "<style scoped>\n",
              "    .dataframe tbody tr th:only-of-type {\n",
              "        vertical-align: middle;\n",
              "    }\n",
              "\n",
              "    .dataframe tbody tr th {\n",
              "        vertical-align: top;\n",
              "    }\n",
              "\n",
              "    .dataframe thead th {\n",
              "        text-align: right;\n",
              "    }\n",
              "</style>\n",
              "<table border=\"1\" class=\"dataframe\">\n",
              "  <thead>\n",
              "    <tr style=\"text-align: right;\">\n",
              "      <th></th>\n",
              "      <th>age</th>\n",
              "      <th>job</th>\n",
              "      <th>marital</th>\n",
              "      <th>education</th>\n",
              "      <th>default</th>\n",
              "      <th>housing</th>\n",
              "      <th>loan</th>\n",
              "      <th>contact</th>\n",
              "      <th>month</th>\n",
              "      <th>day_of_week</th>\n",
              "      <th>...</th>\n",
              "      <th>campaign</th>\n",
              "      <th>days since client last contacted</th>\n",
              "      <th>previous contacts with client</th>\n",
              "      <th>previous campaign outcome</th>\n",
              "      <th>employment variation rate</th>\n",
              "      <th>consumer price index</th>\n",
              "      <th>consumer confidence index</th>\n",
              "      <th>euribor 3 month rate</th>\n",
              "      <th>number of employees</th>\n",
              "      <th>target</th>\n",
              "    </tr>\n",
              "  </thead>\n",
              "  <tbody>\n",
              "    <tr>\n",
              "      <th>0</th>\n",
              "      <td>56</td>\n",
              "      <td>housemaid</td>\n",
              "      <td>married</td>\n",
              "      <td>basic.4y</td>\n",
              "      <td>no</td>\n",
              "      <td>no</td>\n",
              "      <td>no</td>\n",
              "      <td>telephone</td>\n",
              "      <td>may</td>\n",
              "      <td>mon</td>\n",
              "      <td>...</td>\n",
              "      <td>1</td>\n",
              "      <td>999</td>\n",
              "      <td>0</td>\n",
              "      <td>nonexistent</td>\n",
              "      <td>1.1</td>\n",
              "      <td>93.994</td>\n",
              "      <td>-36.4</td>\n",
              "      <td>4.857</td>\n",
              "      <td>5191.0</td>\n",
              "      <td>no</td>\n",
              "    </tr>\n",
              "    <tr>\n",
              "      <th>1</th>\n",
              "      <td>57</td>\n",
              "      <td>services</td>\n",
              "      <td>married</td>\n",
              "      <td>high.school</td>\n",
              "      <td>unknown</td>\n",
              "      <td>no</td>\n",
              "      <td>no</td>\n",
              "      <td>telephone</td>\n",
              "      <td>may</td>\n",
              "      <td>mon</td>\n",
              "      <td>...</td>\n",
              "      <td>1</td>\n",
              "      <td>999</td>\n",
              "      <td>0</td>\n",
              "      <td>nonexistent</td>\n",
              "      <td>1.1</td>\n",
              "      <td>93.994</td>\n",
              "      <td>-36.4</td>\n",
              "      <td>4.857</td>\n",
              "      <td>5191.0</td>\n",
              "      <td>no</td>\n",
              "    </tr>\n",
              "    <tr>\n",
              "      <th>2</th>\n",
              "      <td>37</td>\n",
              "      <td>services</td>\n",
              "      <td>married</td>\n",
              "      <td>high.school</td>\n",
              "      <td>no</td>\n",
              "      <td>yes</td>\n",
              "      <td>no</td>\n",
              "      <td>telephone</td>\n",
              "      <td>may</td>\n",
              "      <td>mon</td>\n",
              "      <td>...</td>\n",
              "      <td>1</td>\n",
              "      <td>999</td>\n",
              "      <td>0</td>\n",
              "      <td>nonexistent</td>\n",
              "      <td>1.1</td>\n",
              "      <td>93.994</td>\n",
              "      <td>-36.4</td>\n",
              "      <td>4.857</td>\n",
              "      <td>5191.0</td>\n",
              "      <td>no</td>\n",
              "    </tr>\n",
              "    <tr>\n",
              "      <th>3</th>\n",
              "      <td>40</td>\n",
              "      <td>admin.</td>\n",
              "      <td>married</td>\n",
              "      <td>basic.6y</td>\n",
              "      <td>no</td>\n",
              "      <td>no</td>\n",
              "      <td>no</td>\n",
              "      <td>telephone</td>\n",
              "      <td>may</td>\n",
              "      <td>mon</td>\n",
              "      <td>...</td>\n",
              "      <td>1</td>\n",
              "      <td>999</td>\n",
              "      <td>0</td>\n",
              "      <td>nonexistent</td>\n",
              "      <td>1.1</td>\n",
              "      <td>93.994</td>\n",
              "      <td>-36.4</td>\n",
              "      <td>4.857</td>\n",
              "      <td>5191.0</td>\n",
              "      <td>no</td>\n",
              "    </tr>\n",
              "    <tr>\n",
              "      <th>4</th>\n",
              "      <td>56</td>\n",
              "      <td>services</td>\n",
              "      <td>married</td>\n",
              "      <td>high.school</td>\n",
              "      <td>no</td>\n",
              "      <td>no</td>\n",
              "      <td>yes</td>\n",
              "      <td>telephone</td>\n",
              "      <td>may</td>\n",
              "      <td>mon</td>\n",
              "      <td>...</td>\n",
              "      <td>1</td>\n",
              "      <td>999</td>\n",
              "      <td>0</td>\n",
              "      <td>nonexistent</td>\n",
              "      <td>1.1</td>\n",
              "      <td>93.994</td>\n",
              "      <td>-36.4</td>\n",
              "      <td>4.857</td>\n",
              "      <td>5191.0</td>\n",
              "      <td>no</td>\n",
              "    </tr>\n",
              "  </tbody>\n",
              "</table>\n",
              "<p>5 rows × 21 columns</p>\n",
              "</div>"
            ],
            "text/plain": [
              "   age        job  marital    education  default housing loan    contact  \\\n",
              "0   56  housemaid  married     basic.4y       no      no   no  telephone   \n",
              "1   57   services  married  high.school  unknown      no   no  telephone   \n",
              "2   37   services  married  high.school       no     yes   no  telephone   \n",
              "3   40     admin.  married     basic.6y       no      no   no  telephone   \n",
              "4   56   services  married  high.school       no      no  yes  telephone   \n",
              "\n",
              "  month day_of_week   ...    campaign  days since client last contacted  \\\n",
              "0   may         mon   ...           1                               999   \n",
              "1   may         mon   ...           1                               999   \n",
              "2   may         mon   ...           1                               999   \n",
              "3   may         mon   ...           1                               999   \n",
              "4   may         mon   ...           1                               999   \n",
              "\n",
              "   previous contacts with client  previous campaign outcome  \\\n",
              "0                              0                nonexistent   \n",
              "1                              0                nonexistent   \n",
              "2                              0                nonexistent   \n",
              "3                              0                nonexistent   \n",
              "4                              0                nonexistent   \n",
              "\n",
              "  employment variation rate  consumer price index  consumer confidence index  \\\n",
              "0                       1.1                93.994                      -36.4   \n",
              "1                       1.1                93.994                      -36.4   \n",
              "2                       1.1                93.994                      -36.4   \n",
              "3                       1.1                93.994                      -36.4   \n",
              "4                       1.1                93.994                      -36.4   \n",
              "\n",
              "   euribor 3 month rate  number of employees  target  \n",
              "0                 4.857               5191.0      no  \n",
              "1                 4.857               5191.0      no  \n",
              "2                 4.857               5191.0      no  \n",
              "3                 4.857               5191.0      no  \n",
              "4                 4.857               5191.0      no  \n",
              "\n",
              "[5 rows x 21 columns]"
            ]
          },
          "metadata": {
            "tags": []
          },
          "execution_count": 20
        }
      ]
    },
    {
      "metadata": {
        "id": "hUkMz1CW5gwj",
        "colab_type": "code",
        "colab": {
          "base_uri": "https://localhost:8080/",
          "height": 34
        },
        "outputId": "3a68a2d7-32dd-4567-c8c7-5e0347f8fe3a"
      },
      "cell_type": "code",
      "source": [
        "sc.version            # with the sparkcontext instance we can check spark version\n",
        "# Use the corresponfing documentation to Transfrom the features"
      ],
      "execution_count": 21,
      "outputs": [
        {
          "output_type": "execute_result",
          "data": {
            "text/plain": [
              "'2.2.1'"
            ]
          },
          "metadata": {
            "tags": []
          },
          "execution_count": 21
        }
      ]
    },
    {
      "metadata": {
        "id": "tFIXINYu7NoQ",
        "colab_type": "code",
        "colab": {
          "base_uri": "https://localhost:8080/",
          "height": 37
        },
        "outputId": "98a44ea1-fc1d-43bc-84ec-91d274420f4d"
      },
      "cell_type": "code",
      "source": [
        "from pyspark.ml.feature import OneHotEncoder, StringIndexer, VectorAssembler"
      ],
      "execution_count": 22,
      "outputs": []
    },
    {
      "metadata": {
        "id": "xczFzrEN-YB9",
        "colab_type": "code",
        "colab": {
          "base_uri": "https://localhost:8080/",
          "height": 204
        },
        "outputId": "a8db0b46-c35d-4731-963c-e08b9fb6d70f"
      },
      "cell_type": "code",
      "source": [
        "# Select the categorical columns\n",
        "categorical_cols=[]\n",
        "list1=df.dtypes\n",
        "for i,j in list1:\n",
        "    if j=='string':\n",
        "      categorical_cols.append(i)\n",
        "categorical_cols"
      ],
      "execution_count": 23,
      "outputs": [
        {
          "output_type": "execute_result",
          "data": {
            "text/plain": [
              "['job',\n",
              " 'marital',\n",
              " 'education',\n",
              " 'default',\n",
              " 'housing',\n",
              " 'loan',\n",
              " 'contact',\n",
              " 'month',\n",
              " 'day_of_week',\n",
              " 'previous campaign outcome',\n",
              " 'target']"
            ]
          },
          "metadata": {
            "tags": []
          },
          "execution_count": 23
        }
      ]
    },
    {
      "metadata": {
        "id": "seUZNCfsCPLV",
        "colab_type": "code",
        "colab": {
          "base_uri": "https://localhost:8080/",
          "height": 153
        },
        "outputId": "ad8cf3b1-2f94-4029-cf2b-5eca4a23f118"
      },
      "cell_type": "code",
      "source": [
        "# remove target as we have to label encode it\n",
        "#remove day and month columns as they are not really useful in building the model\n",
        "categorical_cols.remove('target')\n",
        "categorical_cols.remove('day_of_week')\n",
        "categorical_cols.remove('month')\n",
        "categorical_cols"
      ],
      "execution_count": 24,
      "outputs": [
        {
          "output_type": "execute_result",
          "data": {
            "text/plain": [
              "['job',\n",
              " 'marital',\n",
              " 'education',\n",
              " 'default',\n",
              " 'housing',\n",
              " 'loan',\n",
              " 'contact',\n",
              " 'previous campaign outcome']"
            ]
          },
          "metadata": {
            "tags": []
          },
          "execution_count": 24
        }
      ]
    },
    {
      "metadata": {
        "id": "Hg_zNZ6mMwAG",
        "colab_type": "code",
        "colab": {
          "base_uri": "https://localhost:8080/",
          "height": 153
        },
        "outputId": "f7666f2c-337a-4a2c-f7e8-2495cdeb0d28"
      },
      "cell_type": "code",
      "source": [
        "categoricalColumns = categorical_cols\n",
        "categoricalColumns"
      ],
      "execution_count": 25,
      "outputs": [
        {
          "output_type": "execute_result",
          "data": {
            "text/plain": [
              "['job',\n",
              " 'marital',\n",
              " 'education',\n",
              " 'default',\n",
              " 'housing',\n",
              " 'loan',\n",
              " 'contact',\n",
              " 'previous campaign outcome']"
            ]
          },
          "metadata": {
            "tags": []
          },
          "execution_count": 25
        }
      ]
    },
    {
      "metadata": {
        "id": "S42AGUEj-J2b",
        "colab_type": "code",
        "colab": {
          "base_uri": "https://localhost:8080/",
          "height": 37
        },
        "outputId": "78d1f1d0-28d6-464b-fbfd-f6f3ded41ef3"
      },
      "cell_type": "code",
      "source": [
        "\n",
        "stages = [] # stages in our Pipeline\n",
        "for categoricalCol in categoricalColumns:\n",
        "    # Category Indexing with StringIndexer\n",
        "    stringIndexer = StringIndexer(inputCol=categoricalCol, outputCol=categoricalCol + \"Index\")\n",
        "    # Use OneHotEncoder to convert categorical variables into binary SparseVectors\n",
        "    encoder = OneHotEncoder(inputCol=stringIndexer.getOutputCol(), outputCol=categoricalCol + \"classVec\")\n",
        "    # Add stages.  These are not run here, but will run all at once later on.\n",
        "    stages += [stringIndexer, encoder]"
      ],
      "execution_count": 26,
      "outputs": []
    },
    {
      "metadata": {
        "id": "9CKlOjQfHmp5",
        "colab_type": "code",
        "colab": {
          "base_uri": "https://localhost:8080/",
          "height": 37
        },
        "outputId": "ea51b2de-3606-4d22-d100-4e6d39bd4254"
      },
      "cell_type": "code",
      "source": [
        "# Convert label into label indices using the StringIndexer\n",
        "label_stringIdx = StringIndexer(inputCol=\"target\", outputCol=\"label\")   # Now we StringIndex the target variable\n",
        "stages += [label_stringIdx]"
      ],
      "execution_count": 27,
      "outputs": []
    },
    {
      "metadata": {
        "id": "eMsF-pmMKIeZ",
        "colab_type": "code",
        "colab": {
          "base_uri": "https://localhost:8080/",
          "height": 37
        },
        "outputId": "8bbf1ed5-9f46-489d-fbd6-f0932c12950b"
      },
      "cell_type": "code",
      "source": [
        "import copy\n",
        "categorical_cols1=copy.deepcopy(categorical_cols)\n",
        "categorical_cols1.append('target')                   # deep copy is done to avoid clash between already referenced lists\n",
        "categorical_cols1.append('day_of_week')\n",
        "categorical_cols1.append('month')"
      ],
      "execution_count": 28,
      "outputs": []
    },
    {
      "metadata": {
        "id": "XA3l3w823owT",
        "colab_type": "code",
        "colab": {
          "base_uri": "https://localhost:8080/",
          "height": 187
        },
        "outputId": "150e4b37-8559-4ec7-bcf7-d8ea4e96e4cd"
      },
      "cell_type": "code",
      "source": [
        "#select only the numeric columns\n",
        "numericColumns=[]\n",
        "for i in df.columns:\n",
        "  if i not in categorical_cols1:\n",
        "    numericColumns.append(i)\n",
        "numericColumns"
      ],
      "execution_count": 29,
      "outputs": [
        {
          "output_type": "execute_result",
          "data": {
            "text/plain": [
              "['age',\n",
              " 'duration',\n",
              " 'campaign',\n",
              " 'days since client last contacted',\n",
              " 'previous contacts with client',\n",
              " 'employment variation rate',\n",
              " 'consumer price index',\n",
              " 'consumer confidence index',\n",
              " 'euribor 3 month rate',\n",
              " 'number of employees']"
            ]
          },
          "metadata": {
            "tags": []
          },
          "execution_count": 29
        }
      ]
    },
    {
      "metadata": {
        "id": "9V3UDBf64Xi5",
        "colab_type": "code",
        "colab": {
          "base_uri": "https://localhost:8080/",
          "height": 37
        },
        "outputId": "5eb92dac-3708-4d78-8248-2c4a1106c3f6"
      },
      "cell_type": "code",
      "source": [
        "assemblerInputs = [c + \"classVec\" for c in categoricalColumns] + numericColumns\n",
        "assembler = VectorAssembler(inputCols=assemblerInputs, outputCol=\"features\")\n",
        "stages += [assembler]"
      ],
      "execution_count": 30,
      "outputs": []
    },
    {
      "metadata": {
        "id": "k-w7KjejMDck",
        "colab_type": "code",
        "colab": {
          "base_uri": "https://localhost:8080/",
          "height": 153
        },
        "outputId": "22868b98-0e9d-4539-d2e7-6270440628da"
      },
      "cell_type": "code",
      "source": [
        "categoricalColumns"
      ],
      "execution_count": 31,
      "outputs": [
        {
          "output_type": "execute_result",
          "data": {
            "text/plain": [
              "['job',\n",
              " 'marital',\n",
              " 'education',\n",
              " 'default',\n",
              " 'housing',\n",
              " 'loan',\n",
              " 'contact',\n",
              " 'previous campaign outcome']"
            ]
          },
          "metadata": {
            "tags": []
          },
          "execution_count": 31
        }
      ]
    },
    {
      "metadata": {
        "id": "nYOFoo6ZEnSt",
        "colab_type": "code",
        "colab": {
          "base_uri": "https://localhost:8080/",
          "height": 323
        },
        "outputId": "bbeff997-8374-4b01-8346-2b90f9b1ee29"
      },
      "cell_type": "code",
      "source": [
        "stages     # Print the stages"
      ],
      "execution_count": 32,
      "outputs": [
        {
          "output_type": "execute_result",
          "data": {
            "text/plain": [
              "[StringIndexer_4ddc83d05c2d46a6b783,\n",
              " OneHotEncoder_461ebda8aebd7d8f47e0,\n",
              " StringIndexer_4a3f9ef3110e746c9792,\n",
              " OneHotEncoder_464d8df2c00ba7896454,\n",
              " StringIndexer_40e898be7505008b21fb,\n",
              " OneHotEncoder_4373b04a1ca3d81bca59,\n",
              " StringIndexer_4b5f93ee95828a9ed533,\n",
              " OneHotEncoder_45daac5128b21b1ca502,\n",
              " StringIndexer_4c6590aacfa9734c7507,\n",
              " OneHotEncoder_4346bae6e8b0103ea0f7,\n",
              " StringIndexer_4715882912ef301b872e,\n",
              " OneHotEncoder_4f1282a8eac6030bbc7e,\n",
              " StringIndexer_4592bae1b53f528fe92a,\n",
              " OneHotEncoder_4fecba70b45463e58bd8,\n",
              " StringIndexer_49acac15db04a34785f9,\n",
              " OneHotEncoder_4a769b33259c76d82c28,\n",
              " StringIndexer_4245b7d11ae87d801814,\n",
              " VectorAssembler_4ca58faa53bf97c2c4a9]"
            ]
          },
          "metadata": {
            "tags": []
          },
          "execution_count": 32
        }
      ]
    },
    {
      "metadata": {
        "id": "mRAxpsji4x6i",
        "colab_type": "code",
        "colab": {
          "base_uri": "https://localhost:8080/",
          "height": 442
        },
        "outputId": "027aadb2-3292-4efe-e287-edff28deebf9"
      },
      "cell_type": "code",
      "source": [
        "# Build a pipeline of stages\n",
        "cols= df.columns\n",
        "from pyspark.ml import Pipeline\n",
        "pipeline = Pipeline(stages = stages)\n",
        "pipelineModel = pipeline.fit(df)\n",
        "df = pipelineModel.transform(df)\n",
        "selectedCols = ['label', 'features'] + cols\n",
        "df = df.select(selectedCols)\n",
        "df.printSchema()   # Note label and feature vector is added to the schema"
      ],
      "execution_count": 33,
      "outputs": [
        {
          "output_type": "stream",
          "text": [
            "root\n",
            " |-- label: double (nullable = true)\n",
            " |-- features: vector (nullable = true)\n",
            " |-- age: long (nullable = true)\n",
            " |-- job: string (nullable = true)\n",
            " |-- marital: string (nullable = true)\n",
            " |-- education: string (nullable = true)\n",
            " |-- default: string (nullable = true)\n",
            " |-- housing: string (nullable = true)\n",
            " |-- loan: string (nullable = true)\n",
            " |-- contact: string (nullable = true)\n",
            " |-- month: string (nullable = true)\n",
            " |-- day_of_week: string (nullable = true)\n",
            " |-- duration: long (nullable = true)\n",
            " |-- campaign: long (nullable = true)\n",
            " |-- days since client last contacted: long (nullable = true)\n",
            " |-- previous contacts with client: long (nullable = true)\n",
            " |-- previous campaign outcome: string (nullable = true)\n",
            " |-- employment variation rate: double (nullable = true)\n",
            " |-- consumer price index: double (nullable = true)\n",
            " |-- consumer confidence index: double (nullable = true)\n",
            " |-- euribor 3 month rate: double (nullable = true)\n",
            " |-- number of employees: double (nullable = true)\n",
            " |-- target: string (nullable = true)\n",
            "\n"
          ],
          "name": "stdout"
        }
      ]
    },
    {
      "metadata": {
        "id": "B04IHrOvZTqn",
        "colab_type": "text"
      },
      "cell_type": "markdown",
      "source": [
        "# Train - Test split"
      ]
    },
    {
      "metadata": {
        "id": "E2XDzsldPlPA",
        "colab_type": "code",
        "colab": {
          "base_uri": "https://localhost:8080/",
          "height": 122
        },
        "outputId": "272527b5-799d-411a-8876-1e9b867f229a"
      },
      "cell_type": "code",
      "source": [
        "df.take(5)\n"
      ],
      "execution_count": 34,
      "outputs": [
        {
          "output_type": "execute_result",
          "data": {
            "text/plain": [
              "[Row(label=0.0, features=SparseVector(40, {8: 1.0, 11: 1.0, 18: 1.0, 21: 1.0, 24: 1.0, 25: 1.0, 28: 1.0, 30: 56.0, 31: 261.0, 32: 1.0, 33: 999.0, 35: 1.1, 36: 93.994, 37: -36.4, 38: 4.857, 39: 5191.0}), age=56, job='housemaid', marital='married', education='basic.4y', default='no', housing='no', loan='no', contact='telephone', month='may', day_of_week='mon', duration=261, campaign=1, days since client last contacted=999, previous contacts with client=0, previous campaign outcome='nonexistent', employment variation rate=1.1, consumer price index=93.994, consumer confidence index=-36.4, euribor 3 month rate=4.857, number of employees=5191.0, target='no'),\n",
              " Row(label=0.0, features=SparseVector(40, {3: 1.0, 11: 1.0, 15: 1.0, 22: 1.0, 24: 1.0, 25: 1.0, 28: 1.0, 30: 57.0, 31: 149.0, 32: 1.0, 33: 999.0, 35: 1.1, 36: 93.994, 37: -36.4, 38: 4.857, 39: 5191.0}), age=57, job='services', marital='married', education='high.school', default='unknown', housing='no', loan='no', contact='telephone', month='may', day_of_week='mon', duration=149, campaign=1, days since client last contacted=999, previous contacts with client=0, previous campaign outcome='nonexistent', employment variation rate=1.1, consumer price index=93.994, consumer confidence index=-36.4, euribor 3 month rate=4.857, number of employees=5191.0, target='no'),\n",
              " Row(label=0.0, features=SparseVector(40, {3: 1.0, 11: 1.0, 15: 1.0, 21: 1.0, 23: 1.0, 25: 1.0, 28: 1.0, 30: 37.0, 31: 226.0, 32: 1.0, 33: 999.0, 35: 1.1, 36: 93.994, 37: -36.4, 38: 4.857, 39: 5191.0}), age=37, job='services', marital='married', education='high.school', default='no', housing='yes', loan='no', contact='telephone', month='may', day_of_week='mon', duration=226, campaign=1, days since client last contacted=999, previous contacts with client=0, previous campaign outcome='nonexistent', employment variation rate=1.1, consumer price index=93.994, consumer confidence index=-36.4, euribor 3 month rate=4.857, number of employees=5191.0, target='no'),\n",
              " Row(label=0.0, features=SparseVector(40, {0: 1.0, 11: 1.0, 19: 1.0, 21: 1.0, 24: 1.0, 25: 1.0, 28: 1.0, 30: 40.0, 31: 151.0, 32: 1.0, 33: 999.0, 35: 1.1, 36: 93.994, 37: -36.4, 38: 4.857, 39: 5191.0}), age=40, job='admin.', marital='married', education='basic.6y', default='no', housing='no', loan='no', contact='telephone', month='may', day_of_week='mon', duration=151, campaign=1, days since client last contacted=999, previous contacts with client=0, previous campaign outcome='nonexistent', employment variation rate=1.1, consumer price index=93.994, consumer confidence index=-36.4, euribor 3 month rate=4.857, number of employees=5191.0, target='no'),\n",
              " Row(label=0.0, features=SparseVector(40, {3: 1.0, 11: 1.0, 15: 1.0, 21: 1.0, 24: 1.0, 26: 1.0, 28: 1.0, 30: 56.0, 31: 307.0, 32: 1.0, 33: 999.0, 35: 1.1, 36: 93.994, 37: -36.4, 38: 4.857, 39: 5191.0}), age=56, job='services', marital='married', education='high.school', default='no', housing='no', loan='yes', contact='telephone', month='may', day_of_week='mon', duration=307, campaign=1, days since client last contacted=999, previous contacts with client=0, previous campaign outcome='nonexistent', employment variation rate=1.1, consumer price index=93.994, consumer confidence index=-36.4, euribor 3 month rate=4.857, number of employees=5191.0, target='no')]"
            ]
          },
          "metadata": {
            "tags": []
          },
          "execution_count": 34
        }
      ]
    },
    {
      "metadata": {
        "id": "NuAgz7YTTX3Z",
        "colab_type": "code",
        "colab": {
          "base_uri": "https://localhost:8080/",
          "height": 51
        },
        "outputId": "7e0094d6-a646-415d-a2f8-2674a04069c9"
      },
      "cell_type": "code",
      "source": [
        "train, test = df.randomSplit([0.7, 0.3], seed = 2018)\n",
        "print(\"Training Dataset Count: \" + str(train.count()))\n",
        "print(\"Test Dataset Count: \" + str(test.count()))"
      ],
      "execution_count": 35,
      "outputs": [
        {
          "output_type": "stream",
          "text": [
            "Training Dataset Count: 28846\n",
            "Test Dataset Count: 12342\n"
          ],
          "name": "stdout"
        }
      ]
    },
    {
      "metadata": {
        "id": "XaQ4YNsHPg7X",
        "colab_type": "text"
      },
      "cell_type": "markdown",
      "source": [
        "# Logistic Regression"
      ]
    },
    {
      "metadata": {
        "id": "qNXfxC6QTeAP",
        "colab_type": "code",
        "colab": {
          "base_uri": "https://localhost:8080/",
          "height": 37
        },
        "outputId": "a1f3f2a8-1766-4897-e044-ef9305fbdbc7"
      },
      "cell_type": "code",
      "source": [
        "from pyspark.ml.classification import LogisticRegression\n",
        "lr = LogisticRegression(featuresCol = 'features', labelCol = 'label', maxIter=10)\n",
        "lrModel = lr.fit(train)"
      ],
      "execution_count": 36,
      "outputs": []
    },
    {
      "metadata": {
        "id": "q75RCJTlTri-",
        "colab_type": "code",
        "colab": {
          "base_uri": "https://localhost:8080/",
          "height": 347
        },
        "outputId": "2d25376b-523a-427e-f12a-2e3d6a203103"
      },
      "cell_type": "code",
      "source": [
        "import matplotlib.pyplot as plt\n",
        "import numpy as np\n",
        "beta = np.sort(lrModel.coefficients)\n",
        "plt.plot(beta)\n",
        "plt.ylabel('Beta Coefficients')\n",
        "plt.show()"
      ],
      "execution_count": 37,
      "outputs": [
        {
          "output_type": "display_data",
          "data": {
            "image/png": "[encoded data removed]",
            "text/plain": [
              "<matplotlib.figure.Figure at 0x7f111dece9b0>"
            ]
          },
          "metadata": {
            "tags": []
          }
        }
      ]
    },
    {
      "metadata": {
        "id": "l4GBm3N8UsnG",
        "colab_type": "code",
        "colab": {
          "base_uri": "https://localhost:8080/",
          "height": 393
        },
        "outputId": "690ff96a-0a35-4354-943e-8df3c2d452bd"
      },
      "cell_type": "code",
      "source": [
        "# Area under ROC\n",
        "trainingSummary = lrModel.summary\n",
        "roc = trainingSummary.roc.toPandas()\n",
        "plt.plot(roc['FPR'],roc['TPR'])\n",
        "plt.ylabel('True Positive Rate')\n",
        "plt.xlabel('False Positive Rate')\n",
        "plt.title('ROC Curve')\n",
        "plt.show()\n",
        "print('Training set areaUnderROC: ' + str(trainingSummary.areaUnderROC))"
      ],
      "execution_count": 38,
      "outputs": [
        {
          "output_type": "display_data",
          "data": {
            "image/png": "[encoded data removed]",
            "text/plain": [
              "<matplotlib.figure.Figure at 0x7f111df3a128>"
            ]
          },
          "metadata": {
            "tags": []
          }
        },
        {
          "output_type": "stream",
          "text": [
            "Training set areaUnderROC: 0.8607506745153637\n"
          ],
          "name": "stdout"
        }
      ]
    },
    {
      "metadata": {
        "id": "uD-pSfqZYp8O",
        "colab_type": "code",
        "colab": {
          "base_uri": "https://localhost:8080/",
          "height": 289
        },
        "outputId": "12dece53-b2b6-4198-b0a8-de17759e1196"
      },
      "cell_type": "code",
      "source": [
        "#Predict on the test set\n",
        "predictions = lrModel.transform(test)\n",
        "#predictions.show()\n",
        "predictions.select('features', 'label', 'prediction', 'probability').show(10)"
      ],
      "execution_count": 39,
      "outputs": [
        {
          "output_type": "stream",
          "text": [
            "+--------------------+-----+----------+--------------------+\n",
            "|            features|label|prediction|         probability|\n",
            "+--------------------+-----+----------+--------------------+\n",
            "|(40,[0,11,14,21,2...|  0.0|       0.0|[0.95933240275166...|\n",
            "|(40,[0,11,14,21,2...|  0.0|       0.0|[0.93270033108336...|\n",
            "|(40,[0,11,14,21,2...|  0.0|       0.0|[0.96003852992076...|\n",
            "|(40,[0,11,14,21,2...|  0.0|       0.0|[0.96407459433495...|\n",
            "|(40,[0,11,14,21,2...|  0.0|       0.0|[0.95751736235494...|\n",
            "|(40,[0,11,14,21,2...|  0.0|       0.0|[0.96599081568245...|\n",
            "|(40,[0,11,14,21,2...|  0.0|       0.0|[0.94984105061678...|\n",
            "|(40,[0,11,14,21,2...|  0.0|       0.0|[0.96312651555094...|\n",
            "|(40,[0,11,14,21,2...|  0.0|       0.0|[0.96143070196250...|\n",
            "|(40,[0,11,14,21,2...|  0.0|       0.0|[0.95404860077699...|\n",
            "+--------------------+-----+----------+--------------------+\n",
            "only showing top 10 rows\n",
            "\n"
          ],
          "name": "stdout"
        }
      ]
    },
    {
      "metadata": {
        "id": "sTjrvQzVZKak",
        "colab_type": "code",
        "colab": {
          "base_uri": "https://localhost:8080/",
          "height": 34
        },
        "outputId": "d194755d-8e0b-4ad2-e93f-3a981a53352c"
      },
      "cell_type": "code",
      "source": [
        "from pyspark.ml.evaluation import BinaryClassificationEvaluator\n",
        "evaluator = BinaryClassificationEvaluator()\n",
        "print('Test Area Under ROC', evaluator.evaluate(predictions))"
      ],
      "execution_count": 40,
      "outputs": [
        {
          "output_type": "stream",
          "text": [
            "Test Area Under ROC 0.8667326209035489\n"
          ],
          "name": "stdout"
        }
      ]
    },
    {
      "metadata": {
        "id": "wOaLgVLoZqTr",
        "colab_type": "text"
      },
      "cell_type": "markdown",
      "source": [
        "# Decision Tree Classifier"
      ]
    },
    {
      "metadata": {
        "id": "xbiQ9QCoZpLp",
        "colab_type": "code",
        "colab": {
          "base_uri": "https://localhost:8080/",
          "height": 289
        },
        "outputId": "d3e0591b-b263-4c89-8545-3d89b7d08cbb"
      },
      "cell_type": "code",
      "source": [
        "from pyspark.ml.classification import DecisionTreeClassifier\n",
        "dt = DecisionTreeClassifier(featuresCol = 'features', labelCol = 'label', maxDepth = 3)\n",
        "dtModel = dt.fit(train)\n",
        "predictions = dtModel.transform(test)\n",
        "predictions.select('features', 'label', 'prediction', 'probability').show(10)"
      ],
      "execution_count": 41,
      "outputs": [
        {
          "output_type": "stream",
          "text": [
            "+--------------------+-----+----------+--------------------+\n",
            "|            features|label|prediction|         probability|\n",
            "+--------------------+-----+----------+--------------------+\n",
            "|(40,[0,11,14,21,2...|  0.0|       0.0|[0.98235792246894...|\n",
            "|(40,[0,11,14,21,2...|  0.0|       0.0|         [0.64,0.36]|\n",
            "|(40,[0,11,14,21,2...|  0.0|       0.0|[0.98235792246894...|\n",
            "|(40,[0,11,14,21,2...|  0.0|       0.0|[0.98235792246894...|\n",
            "|(40,[0,11,14,21,2...|  0.0|       0.0|[0.98235792246894...|\n",
            "|(40,[0,11,14,21,2...|  0.0|       0.0|[0.98235792246894...|\n",
            "|(40,[0,11,14,21,2...|  0.0|       0.0|[0.98235792246894...|\n",
            "|(40,[0,11,14,21,2...|  0.0|       0.0|[0.98235792246894...|\n",
            "|(40,[0,11,14,21,2...|  0.0|       0.0|[0.98235792246894...|\n",
            "|(40,[0,11,14,21,2...|  0.0|       0.0|[0.98235792246894...|\n",
            "+--------------------+-----+----------+--------------------+\n",
            "only showing top 10 rows\n",
            "\n"
          ],
          "name": "stdout"
        }
      ]
    },
    {
      "metadata": {
        "id": "-FrFILBAZ7dt",
        "colab_type": "code",
        "colab": {
          "base_uri": "https://localhost:8080/",
          "height": 34
        },
        "outputId": "ca745a31-c94d-492f-da92-437b2cc10298"
      },
      "cell_type": "code",
      "source": [
        "evaluator = BinaryClassificationEvaluator()\n",
        "print(\"Test Area Under ROC: \" + str(evaluator.evaluate(predictions, {evaluator.metricName: \"areaUnderROC\"})))"
      ],
      "execution_count": 42,
      "outputs": [
        {
          "output_type": "stream",
          "text": [
            "Test Area Under ROC: 0.7552579457359191\n"
          ],
          "name": "stdout"
        }
      ]
    },
    {
      "metadata": {
        "id": "QIUNo9uoaFhU",
        "colab_type": "text"
      },
      "cell_type": "markdown",
      "source": [
        "# Random Forest Classifier"
      ]
    },
    {
      "metadata": {
        "id": "bMtVzi9TaJDQ",
        "colab_type": "code",
        "colab": {
          "base_uri": "https://localhost:8080/",
          "height": 289
        },
        "outputId": "e6b4d481-0f54-4fe8-b2e2-077e210d2470"
      },
      "cell_type": "code",
      "source": [
        "from pyspark.ml.classification import RandomForestClassifier\n",
        "rf = RandomForestClassifier(featuresCol = 'features', labelCol = 'label')\n",
        "rfModel = rf.fit(train)\n",
        "predictions = rfModel.transform(test)\n",
        "predictions.select('features', 'label', 'prediction', 'probability').show(10)"
      ],
      "execution_count": 43,
      "outputs": [
        {
          "output_type": "stream",
          "text": [
            "+--------------------+-----+----------+--------------------+\n",
            "|            features|label|prediction|         probability|\n",
            "+--------------------+-----+----------+--------------------+\n",
            "|(40,[0,11,14,21,2...|  0.0|       0.0|[0.97059414847515...|\n",
            "|(40,[0,11,14,21,2...|  0.0|       0.0|[0.72350267467540...|\n",
            "|(40,[0,11,14,21,2...|  0.0|       0.0|[0.97059414847515...|\n",
            "|(40,[0,11,14,21,2...|  0.0|       0.0|[0.97148549315432...|\n",
            "|(40,[0,11,14,21,2...|  0.0|       0.0|[0.97148549315432...|\n",
            "|(40,[0,11,14,21,2...|  0.0|       0.0|[0.97148549315432...|\n",
            "|(40,[0,11,14,21,2...|  0.0|       0.0|[0.97059414847515...|\n",
            "|(40,[0,11,14,21,2...|  0.0|       0.0|[0.97059414847515...|\n",
            "|(40,[0,11,14,21,2...|  0.0|       0.0|[0.97148549315432...|\n",
            "|(40,[0,11,14,21,2...|  0.0|       0.0|[0.97059414847515...|\n",
            "+--------------------+-----+----------+--------------------+\n",
            "only showing top 10 rows\n",
            "\n"
          ],
          "name": "stdout"
        }
      ]
    },
    {
      "metadata": {
        "id": "yWScw4xQan4E",
        "colab_type": "code",
        "colab": {
          "base_uri": "https://localhost:8080/",
          "height": 669
        },
        "outputId": "88b6f97b-f1ba-4701-bb39-08c04fa104c2"
      },
      "cell_type": "code",
      "source": [
        "predictions.select('features', 'label', 'prediction', 'probability').toPandas().head(n=20)"
      ],
      "execution_count": 44,
      "outputs": [
        {
          "output_type": "execute_result",
          "data": {
            "text/html": [
              "<div>\n",
              "<style scoped>\n",
              "    .dataframe tbody tr th:only-of-type {\n",
              "        vertical-align: middle;\n",
              "    }\n",
              "\n",
              "    .dataframe tbody tr th {\n",
              "        vertical-align: top;\n",
              "    }\n",
              "\n",
              "    .dataframe thead th {\n",
              "        text-align: right;\n",
              "    }\n",
              "</style>\n",
              "<table border=\"1\" class=\"dataframe\">\n",
              "  <thead>\n",
              "    <tr style=\"text-align: right;\">\n",
              "      <th></th>\n",
              "      <th>features</th>\n",
              "      <th>label</th>\n",
              "      <th>prediction</th>\n",
              "      <th>probability</th>\n",
              "    </tr>\n",
              "  </thead>\n",
              "  <tbody>\n",
              "    <tr>\n",
              "      <th>0</th>\n",
              "      <td>(1.0, 0.0, 0.0, 0.0, 0.0, 0.0, 0.0, 0.0, 0.0, ...</td>\n",
              "      <td>0.0</td>\n",
              "      <td>0.0</td>\n",
              "      <td>[0.97059414847515, 0.02940585152485]</td>\n",
              "    </tr>\n",
              "    <tr>\n",
              "      <th>1</th>\n",
              "      <td>(1.0, 0.0, 0.0, 0.0, 0.0, 0.0, 0.0, 0.0, 0.0, ...</td>\n",
              "      <td>0.0</td>\n",
              "      <td>0.0</td>\n",
              "      <td>[0.7235026746754061, 0.2764973253245938]</td>\n",
              "    </tr>\n",
              "    <tr>\n",
              "      <th>2</th>\n",
              "      <td>(1.0, 0.0, 0.0, 0.0, 0.0, 0.0, 0.0, 0.0, 0.0, ...</td>\n",
              "      <td>0.0</td>\n",
              "      <td>0.0</td>\n",
              "      <td>[0.97059414847515, 0.02940585152485]</td>\n",
              "    </tr>\n",
              "    <tr>\n",
              "      <th>3</th>\n",
              "      <td>(1.0, 0.0, 0.0, 0.0, 0.0, 0.0, 0.0, 0.0, 0.0, ...</td>\n",
              "      <td>0.0</td>\n",
              "      <td>0.0</td>\n",
              "      <td>[0.9714854931543224, 0.028514506845677596]</td>\n",
              "    </tr>\n",
              "    <tr>\n",
              "      <th>4</th>\n",
              "      <td>(1.0, 0.0, 0.0, 0.0, 0.0, 0.0, 0.0, 0.0, 0.0, ...</td>\n",
              "      <td>0.0</td>\n",
              "      <td>0.0</td>\n",
              "      <td>[0.9714854931543224, 0.028514506845677596]</td>\n",
              "    </tr>\n",
              "    <tr>\n",
              "      <th>5</th>\n",
              "      <td>(1.0, 0.0, 0.0, 0.0, 0.0, 0.0, 0.0, 0.0, 0.0, ...</td>\n",
              "      <td>0.0</td>\n",
              "      <td>0.0</td>\n",
              "      <td>[0.9714854931543224, 0.028514506845677596]</td>\n",
              "    </tr>\n",
              "    <tr>\n",
              "      <th>6</th>\n",
              "      <td>(1.0, 0.0, 0.0, 0.0, 0.0, 0.0, 0.0, 0.0, 0.0, ...</td>\n",
              "      <td>0.0</td>\n",
              "      <td>0.0</td>\n",
              "      <td>[0.97059414847515, 0.02940585152485]</td>\n",
              "    </tr>\n",
              "    <tr>\n",
              "      <th>7</th>\n",
              "      <td>(1.0, 0.0, 0.0, 0.0, 0.0, 0.0, 0.0, 0.0, 0.0, ...</td>\n",
              "      <td>0.0</td>\n",
              "      <td>0.0</td>\n",
              "      <td>[0.97059414847515, 0.02940585152485]</td>\n",
              "    </tr>\n",
              "    <tr>\n",
              "      <th>8</th>\n",
              "      <td>(1.0, 0.0, 0.0, 0.0, 0.0, 0.0, 0.0, 0.0, 0.0, ...</td>\n",
              "      <td>0.0</td>\n",
              "      <td>0.0</td>\n",
              "      <td>[0.9714854931543224, 0.028514506845677596]</td>\n",
              "    </tr>\n",
              "    <tr>\n",
              "      <th>9</th>\n",
              "      <td>(1.0, 0.0, 0.0, 0.0, 0.0, 0.0, 0.0, 0.0, 0.0, ...</td>\n",
              "      <td>0.0</td>\n",
              "      <td>0.0</td>\n",
              "      <td>[0.97059414847515, 0.02940585152485]</td>\n",
              "    </tr>\n",
              "    <tr>\n",
              "      <th>10</th>\n",
              "      <td>(1.0, 0.0, 0.0, 0.0, 0.0, 0.0, 0.0, 0.0, 0.0, ...</td>\n",
              "      <td>0.0</td>\n",
              "      <td>0.0</td>\n",
              "      <td>[0.97059414847515, 0.02940585152485]</td>\n",
              "    </tr>\n",
              "    <tr>\n",
              "      <th>11</th>\n",
              "      <td>(1.0, 0.0, 0.0, 0.0, 0.0, 0.0, 0.0, 0.0, 0.0, ...</td>\n",
              "      <td>0.0</td>\n",
              "      <td>0.0</td>\n",
              "      <td>[0.97059414847515, 0.02940585152485]</td>\n",
              "    </tr>\n",
              "    <tr>\n",
              "      <th>12</th>\n",
              "      <td>(1.0, 0.0, 0.0, 0.0, 0.0, 0.0, 0.0, 0.0, 0.0, ...</td>\n",
              "      <td>0.0</td>\n",
              "      <td>0.0</td>\n",
              "      <td>[0.9714854931543224, 0.028514506845677596]</td>\n",
              "    </tr>\n",
              "    <tr>\n",
              "      <th>13</th>\n",
              "      <td>(1.0, 0.0, 0.0, 0.0, 0.0, 0.0, 0.0, 0.0, 0.0, ...</td>\n",
              "      <td>0.0</td>\n",
              "      <td>0.0</td>\n",
              "      <td>[0.9714854931543224, 0.028514506845677596]</td>\n",
              "    </tr>\n",
              "    <tr>\n",
              "      <th>14</th>\n",
              "      <td>(1.0, 0.0, 0.0, 0.0, 0.0, 0.0, 0.0, 0.0, 0.0, ...</td>\n",
              "      <td>0.0</td>\n",
              "      <td>0.0</td>\n",
              "      <td>[0.97059414847515, 0.02940585152485]</td>\n",
              "    </tr>\n",
              "    <tr>\n",
              "      <th>15</th>\n",
              "      <td>(1.0, 0.0, 0.0, 0.0, 0.0, 0.0, 0.0, 0.0, 0.0, ...</td>\n",
              "      <td>0.0</td>\n",
              "      <td>0.0</td>\n",
              "      <td>[0.9714854931543224, 0.028514506845677596]</td>\n",
              "    </tr>\n",
              "    <tr>\n",
              "      <th>16</th>\n",
              "      <td>(1.0, 0.0, 0.0, 0.0, 0.0, 0.0, 0.0, 0.0, 0.0, ...</td>\n",
              "      <td>0.0</td>\n",
              "      <td>0.0</td>\n",
              "      <td>[0.9714854931543224, 0.028514506845677596]</td>\n",
              "    </tr>\n",
              "    <tr>\n",
              "      <th>17</th>\n",
              "      <td>(1.0, 0.0, 0.0, 0.0, 0.0, 0.0, 0.0, 0.0, 0.0, ...</td>\n",
              "      <td>0.0</td>\n",
              "      <td>0.0</td>\n",
              "      <td>[0.97059414847515, 0.02940585152485]</td>\n",
              "    </tr>\n",
              "    <tr>\n",
              "      <th>18</th>\n",
              "      <td>(1.0, 0.0, 0.0, 0.0, 0.0, 0.0, 0.0, 0.0, 0.0, ...</td>\n",
              "      <td>0.0</td>\n",
              "      <td>0.0</td>\n",
              "      <td>[0.9714854931543224, 0.028514506845677596]</td>\n",
              "    </tr>\n",
              "    <tr>\n",
              "      <th>19</th>\n",
              "      <td>(1.0, 0.0, 0.0, 0.0, 0.0, 0.0, 0.0, 0.0, 0.0, ...</td>\n",
              "      <td>0.0</td>\n",
              "      <td>0.0</td>\n",
              "      <td>[0.9714854931543224, 0.028514506845677596]</td>\n",
              "    </tr>\n",
              "  </tbody>\n",
              "</table>\n",
              "</div>"
            ],
            "text/plain": [
              "                                             features  label  prediction  \\\n",
              "0   (1.0, 0.0, 0.0, 0.0, 0.0, 0.0, 0.0, 0.0, 0.0, ...    0.0         0.0   \n",
              "1   (1.0, 0.0, 0.0, 0.0, 0.0, 0.0, 0.0, 0.0, 0.0, ...    0.0         0.0   \n",
              "2   (1.0, 0.0, 0.0, 0.0, 0.0, 0.0, 0.0, 0.0, 0.0, ...    0.0         0.0   \n",
              "3   (1.0, 0.0, 0.0, 0.0, 0.0, 0.0, 0.0, 0.0, 0.0, ...    0.0         0.0   \n",
              "4   (1.0, 0.0, 0.0, 0.0, 0.0, 0.0, 0.0, 0.0, 0.0, ...    0.0         0.0   \n",
              "5   (1.0, 0.0, 0.0, 0.0, 0.0, 0.0, 0.0, 0.0, 0.0, ...    0.0         0.0   \n",
              "6   (1.0, 0.0, 0.0, 0.0, 0.0, 0.0, 0.0, 0.0, 0.0, ...    0.0         0.0   \n",
              "7   (1.0, 0.0, 0.0, 0.0, 0.0, 0.0, 0.0, 0.0, 0.0, ...    0.0         0.0   \n",
              "8   (1.0, 0.0, 0.0, 0.0, 0.0, 0.0, 0.0, 0.0, 0.0, ...    0.0         0.0   \n",
              "9   (1.0, 0.0, 0.0, 0.0, 0.0, 0.0, 0.0, 0.0, 0.0, ...    0.0         0.0   \n",
              "10  (1.0, 0.0, 0.0, 0.0, 0.0, 0.0, 0.0, 0.0, 0.0, ...    0.0         0.0   \n",
              "11  (1.0, 0.0, 0.0, 0.0, 0.0, 0.0, 0.0, 0.0, 0.0, ...    0.0         0.0   \n",
              "12  (1.0, 0.0, 0.0, 0.0, 0.0, 0.0, 0.0, 0.0, 0.0, ...    0.0         0.0   \n",
              "13  (1.0, 0.0, 0.0, 0.0, 0.0, 0.0, 0.0, 0.0, 0.0, ...    0.0         0.0   \n",
              "14  (1.0, 0.0, 0.0, 0.0, 0.0, 0.0, 0.0, 0.0, 0.0, ...    0.0         0.0   \n",
              "15  (1.0, 0.0, 0.0, 0.0, 0.0, 0.0, 0.0, 0.0, 0.0, ...    0.0         0.0   \n",
              "16  (1.0, 0.0, 0.0, 0.0, 0.0, 0.0, 0.0, 0.0, 0.0, ...    0.0         0.0   \n",
              "17  (1.0, 0.0, 0.0, 0.0, 0.0, 0.0, 0.0, 0.0, 0.0, ...    0.0         0.0   \n",
              "18  (1.0, 0.0, 0.0, 0.0, 0.0, 0.0, 0.0, 0.0, 0.0, ...    0.0         0.0   \n",
              "19  (1.0, 0.0, 0.0, 0.0, 0.0, 0.0, 0.0, 0.0, 0.0, ...    0.0         0.0   \n",
              "\n",
              "                                   probability  \n",
              "0         [0.97059414847515, 0.02940585152485]  \n",
              "1     [0.7235026746754061, 0.2764973253245938]  \n",
              "2         [0.97059414847515, 0.02940585152485]  \n",
              "3   [0.9714854931543224, 0.028514506845677596]  \n",
              "4   [0.9714854931543224, 0.028514506845677596]  \n",
              "5   [0.9714854931543224, 0.028514506845677596]  \n",
              "6         [0.97059414847515, 0.02940585152485]  \n",
              "7         [0.97059414847515, 0.02940585152485]  \n",
              "8   [0.9714854931543224, 0.028514506845677596]  \n",
              "9         [0.97059414847515, 0.02940585152485]  \n",
              "10        [0.97059414847515, 0.02940585152485]  \n",
              "11        [0.97059414847515, 0.02940585152485]  \n",
              "12  [0.9714854931543224, 0.028514506845677596]  \n",
              "13  [0.9714854931543224, 0.028514506845677596]  \n",
              "14        [0.97059414847515, 0.02940585152485]  \n",
              "15  [0.9714854931543224, 0.028514506845677596]  \n",
              "16  [0.9714854931543224, 0.028514506845677596]  \n",
              "17        [0.97059414847515, 0.02940585152485]  \n",
              "18  [0.9714854931543224, 0.028514506845677596]  \n",
              "19  [0.9714854931543224, 0.028514506845677596]  "
            ]
          },
          "metadata": {
            "tags": []
          },
          "execution_count": 44
        }
      ]
    },
    {
      "metadata": {
        "id": "ipCkkxbraTJi",
        "colab_type": "code",
        "colab": {
          "base_uri": "https://localhost:8080/",
          "height": 34
        },
        "outputId": "5ea6d857-8266-457f-8f25-ac3ad8b7e5ae"
      },
      "cell_type": "code",
      "source": [
        "evaluator = BinaryClassificationEvaluator()\n",
        "print(\"Test Area Under ROC: \" + str(evaluator.evaluate(predictions, {evaluator.metricName: \"areaUnderROC\"})))"
      ],
      "execution_count": 45,
      "outputs": [
        {
          "output_type": "stream",
          "text": [
            "Test Area Under ROC: 0.9266320351555145\n"
          ],
          "name": "stdout"
        }
      ]
    },
    {
      "metadata": {
        "id": "-oKtGUCybVU4",
        "colab_type": "text"
      },
      "cell_type": "markdown",
      "source": [
        "# Gradient Boosted Tree Classifier"
      ]
    },
    {
      "metadata": {
        "id": "xFavJfPybGIA",
        "colab_type": "code",
        "colab": {
          "base_uri": "https://localhost:8080/",
          "height": 289
        },
        "outputId": "2c6bc711-f359-4930-ff65-ae43da334441"
      },
      "cell_type": "code",
      "source": [
        "from pyspark.ml.classification import GBTClassifier\n",
        "gbt = GBTClassifier(maxIter=10)\n",
        "gbtModel = gbt.fit(train)\n",
        "predictions = gbtModel.transform(test)\n",
        "predictions.select('features', 'label', 'prediction', 'probability').show(10)"
      ],
      "execution_count": 46,
      "outputs": [
        {
          "output_type": "stream",
          "text": [
            "+--------------------+-----+----------+--------------------+\n",
            "|            features|label|prediction|         probability|\n",
            "+--------------------+-----+----------+--------------------+\n",
            "|(40,[0,11,14,21,2...|  0.0|       0.0|[0.93222619571571...|\n",
            "|(40,[0,11,14,21,2...|  0.0|       0.0|[0.62508587530678...|\n",
            "|(40,[0,11,14,21,2...|  0.0|       0.0|[0.93238387095846...|\n",
            "|(40,[0,11,14,21,2...|  0.0|       0.0|[0.93238387095846...|\n",
            "|(40,[0,11,14,21,2...|  0.0|       0.0|[0.93169052409295...|\n",
            "|(40,[0,11,14,21,2...|  0.0|       0.0|[0.93238387095846...|\n",
            "|(40,[0,11,14,21,2...|  0.0|       0.0|[0.91965084799854...|\n",
            "|(40,[0,11,14,21,2...|  0.0|       0.0|[0.93238387095846...|\n",
            "|(40,[0,11,14,21,2...|  0.0|       0.0|[0.93222619571571...|\n",
            "|(40,[0,11,14,21,2...|  0.0|       0.0|[0.93169052409295...|\n",
            "+--------------------+-----+----------+--------------------+\n",
            "only showing top 10 rows\n",
            "\n"
          ],
          "name": "stdout"
        }
      ]
    },
    {
      "metadata": {
        "id": "KIY-OX61b1Hf",
        "colab_type": "code",
        "colab": {
          "base_uri": "https://localhost:8080/",
          "height": 34
        },
        "outputId": "cb492399-4093-4bfc-a1d1-33322728f73d"
      },
      "cell_type": "code",
      "source": [
        "evaluator = BinaryClassificationEvaluator()\n",
        "print(\"Test Area Under ROC: \" + str(evaluator.evaluate(predictions, {evaluator.metricName: \"areaUnderROC\"})))"
      ],
      "execution_count": 47,
      "outputs": [
        {
          "output_type": "stream",
          "text": [
            "Test Area Under ROC: 0.9459097299552714\n"
          ],
          "name": "stdout"
        }
      ]
    },
    {
      "metadata": {
        "id": "Kxtmxi2Wb5Kb",
        "colab_type": "text"
      },
      "cell_type": "markdown",
      "source": [
        "# Intermediate Observation"
      ]
    },
    {
      "metadata": {
        "id": "SKa_WYjvcSZj",
        "colab_type": "text"
      },
      "cell_type": "markdown",
      "source": [
        "Gradient Boosted Tree Classifier gave the best result with area under ROC at 0.94. We will tune this model"
      ]
    },
    {
      "metadata": {
        "id": "C48euX9McIiY",
        "colab_type": "text"
      },
      "cell_type": "markdown",
      "source": [
        "# Parameter tuning - GBT classifier"
      ]
    },
    {
      "metadata": {
        "id": "0A3viVKZcGzM",
        "colab_type": "code",
        "colab": {
          "base_uri": "https://localhost:8080/",
          "height": 292
        },
        "outputId": "0a644b5c-f1a9-4a70-9984-6e82539dddde"
      },
      "cell_type": "code",
      "source": [
        "print(gbt.explainParams())"
      ],
      "execution_count": 48,
      "outputs": [
        {
          "output_type": "stream",
          "text": [
            "cacheNodeIds: If false, the algorithm will pass trees to executors to match instances with nodes. If true, the algorithm will cache node IDs for each instance. Caching can speed up training of deeper trees. Users can set how often should the cache be checkpointed or disable it by setting checkpointInterval. (default: False)\n",
            "checkpointInterval: set checkpoint interval (>= 1) or disable checkpoint (-1). E.g. 10 means that the cache will get checkpointed every 10 iterations. (default: 10)\n",
            "featuresCol: features column name. (default: features)\n",
            "labelCol: label column name. (default: label)\n",
            "lossType: Loss function which GBT tries to minimize (case-insensitive). Supported options: logistic (default: logistic)\n",
            "maxBins: Max number of bins for discretizing continuous features.  Must be >=2 and >= number of categories for any categorical feature. (default: 32)\n",
            "maxDepth: Maximum depth of the tree. (>= 0) E.g., depth 0 means 1 leaf node; depth 1 means 1 internal node + 2 leaf nodes. (default: 5)\n",
            "maxIter: max number of iterations (>= 0). (default: 20, current: 10)\n",
            "maxMemoryInMB: Maximum memory in MB allocated to histogram aggregation. If too small, then 1 node will be split per iteration, and its aggregates may exceed this size. (default: 256)\n",
            "minInfoGain: Minimum information gain for a split to be considered at a tree node. (default: 0.0)\n",
            "minInstancesPerNode: Minimum number of instances each child must have after split. If a split causes the left or right child to have fewer than minInstancesPerNode, the split will be discarded as invalid. Should be >= 1. (default: 1)\n",
            "predictionCol: prediction column name. (default: prediction)\n",
            "seed: random seed. (default: -6064411754412204395)\n",
            "stepSize: Step size to be used for each iteration of optimization (>= 0). (default: 0.1)\n",
            "subsamplingRate: Fraction of the training data used for learning each decision tree, in range (0, 1]. (default: 1.0)\n"
          ],
          "name": "stdout"
        }
      ]
    },
    {
      "metadata": {
        "id": "a2Siue04e652",
        "colab_type": "code",
        "colab": {}
      },
      "cell_type": "code",
      "source": [
        "\"\"\" This is the code to tune the parameters. I am using Google Colab and it offers a single node cluster.\n",
        "    Hence the code will take a long time to execute. So, if you have a multi node cluster either in AWS EMR or Databricks,\n",
        "    you can try this out. \n",
        "\"\"\" \n",
        "\n",
        "from pyspark.ml.tuning import ParamGridBuilder, CrossValidator\n",
        "paramGrid = (ParamGridBuilder()\n",
        "             .addGrid(gbt.maxDepth, [2, 4, 6])\n",
        "             .addGrid(gbt.maxBins, [20, 60])\n",
        "             .addGrid(gbt.maxIter, [10, 20])\n",
        "             .build())\n",
        "cv = CrossValidator(estimator=gbt, estimatorParamMaps=paramGrid, evaluator=evaluator, numFolds=5)\n",
        "# Run cross validations.  This can take about 6 minutes since it is training over 20 trees!\n",
        "cvModel = cv.fit(train)   # Runs cross validation on training data\n",
        "predictions = cvModel.transform(test)\n",
        "evaluator.evaluate(predictions)"
      ],
      "execution_count": 0,
      "outputs": []
    }
  ]
}